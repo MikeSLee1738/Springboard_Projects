{
 "cells": [
  {
   "cell_type": "markdown",
   "metadata": {},
   "source": [
    "# When Will You Die In PLAYERUNKNOWN'S BATTLEGROUNDS?\n",
    "\n",
    "## What is PLAYERUNKNOWN'S BATTLEGROUNDS?\n",
    "\n",
    "PLAYERUNKNOWN'S BATTLEGROUNDS, aka PUBG, is a Battle Royale online game with an enormous player community. A battle royale game has typically 100 players in an arena with weapons and items scattered throughout the arena, where players drop into the map and try to gether loot in order to outlive everybody else.\n",
    "\n",
    "##"
   ]
  },
  {
   "cell_type": "code",
   "execution_count": 1,
   "metadata": {},
   "outputs": [],
   "source": [
    "import pandas as pd\n",
    "import numpy as np\n",
    "import matplotlib.pyplot as plt\n",
    "import seaborn as sns\n",
    "from scipy.stats import norm"
   ]
  },
  {
   "cell_type": "code",
   "execution_count": 2,
   "metadata": {},
   "outputs": [
    {
     "name": "stdout",
     "output_type": "stream",
     "text": [
      "<class 'pandas.core.frame.DataFrame'>\n",
      "Int64Index: 99995 entries, 0 to 19998\n",
      "Data columns (total 15 columns):\n",
      "date                   99995 non-null object\n",
      "game_size              99995 non-null int64\n",
      "match_id               99995 non-null object\n",
      "match_mode             99995 non-null object\n",
      "party_size             99995 non-null int64\n",
      "player_assists         99995 non-null int64\n",
      "player_dbno            99995 non-null int64\n",
      "player_dist_ride       99995 non-null float64\n",
      "player_dist_walk       99995 non-null float64\n",
      "player_dmg             99995 non-null int64\n",
      "player_kills           99995 non-null int64\n",
      "player_name            99841 non-null object\n",
      "player_survive_time    99995 non-null float64\n",
      "team_id                99995 non-null int64\n",
      "team_placement         99995 non-null int64\n",
      "dtypes: float64(3), int64(8), object(4)\n",
      "memory usage: 12.2+ MB\n",
      "None\n",
      "       game_size match_mode  party_size       player_name  \\\n",
      "494           91        tpp           1             Satch   \n",
      "495           91        tpp           1    osamabinlaggon   \n",
      "496           91        tpp           1        dengboyu76   \n",
      "497           91        tpp           1        GOGingmimi   \n",
      "498           91        tpp           1    AtomicBrunette   \n",
      "499           91        tpp           1             MIUI6   \n",
      "500           91        tpp           1          LORD_JTR   \n",
      "501           91        tpp           1      DongMing1986   \n",
      "502           91        tpp           1         Prima_Top   \n",
      "503           91        tpp           1         xxfffffff   \n",
      "504           91        tpp           1          dsadwada   \n",
      "505           91        tpp           1         masami-_-   \n",
      "506           91        tpp           1    rinimabishagou   \n",
      "507           91        tpp           1     Johnnie_Nutts   \n",
      "508           91        tpp           1          jprodigy   \n",
      "509           91        tpp           1           TB_dong   \n",
      "510           91        tpp           1        delaidfast   \n",
      "511           91        tpp           1       jordy140420   \n",
      "512           91        tpp           1            Duo_hw   \n",
      "513           91        tpp           1       a2741458298   \n",
      "514           91        tpp           1             sdjdd   \n",
      "515           91        tpp           1         JuXinM4a1   \n",
      "516           91        tpp           1       Liush1yaNG_   \n",
      "517           91        tpp           1      xiaozhangcjw   \n",
      "518           91        tpp           1         hyh981118   \n",
      "519           91        tpp           1          Timor001   \n",
      "520           91        tpp           1      siliymaui125   \n",
      "521           91        tpp           1           MLBBear   \n",
      "522           91        tpp           1           dearW11   \n",
      "523           91        tpp           1         Energy-Jx   \n",
      "...          ...        ...         ...               ...   \n",
      "19679         96        tpp           1            FemJay   \n",
      "19680         96        tpp           1           moxi123   \n",
      "19681         96        tpp           1  XiaoYuanEBa_zzuC   \n",
      "19682         96        tpp           1           xgs1997   \n",
      "19683         96        tpp           1    Demon_Zero1672   \n",
      "19684         96        tpp           1    TheCloudsurfer   \n",
      "19685         96        tpp           1     Frankieeeeeee   \n",
      "19686         96        tpp           1         Rayzer623   \n",
      "19687         96        tpp           1          Mr-STIHL   \n",
      "19688         96        tpp           1         conjuswow   \n",
      "19689         96        tpp           1       hellbob5050   \n",
      "19690         96        tpp           1           G0DL1k3   \n",
      "19691         96        tpp           1     GILIGILIAI_16   \n",
      "19692         96        tpp           1         DiamondMX   \n",
      "19693         96        tpp           1         ShiBoi228   \n",
      "19694         96        tpp           1      Crazy_Dashie   \n",
      "19695         96        tpp           1  BlurberrySpecial   \n",
      "19696         96        tpp           1         Diooooooy   \n",
      "19697         96        tpp           1   zhendebuyaodawo   \n",
      "19698         96        tpp           1     eatDVDchicken   \n",
      "19699         96        tpp           1       Teaaaaaaaaa   \n",
      "19700         96        tpp           1        CaoHaoKing   \n",
      "19701         96        tpp           1         410637667   \n",
      "19702         96        tpp           1           biertje   \n",
      "19703         96        tpp           1         Tenebros0   \n",
      "19704         96        tpp           1      Ericsuperman   \n",
      "19705         96        tpp           1          Jedburgh   \n",
      "19706         96        tpp           1          TmaXXamT   \n",
      "19707         96        tpp           1          laihaima   \n",
      "19708         96        tpp           1            Anal1G   \n",
      "\n",
      "       player_survive_time  team_placement  \\\n",
      "494                186.999              79   \n",
      "495                124.782              87   \n",
      "496                839.161              35   \n",
      "497                751.716              46   \n",
      "498                744.088              47   \n",
      "499                108.231              90   \n",
      "500               1006.527              29   \n",
      "501                741.473              48   \n",
      "502                290.769              67   \n",
      "503                337.259              63   \n",
      "504               1020.411              27   \n",
      "505                214.808              76   \n",
      "506                165.839              80   \n",
      "507                665.444              53   \n",
      "508                125.975              85   \n",
      "509               1111.732              21   \n",
      "510                345.475              62   \n",
      "511                426.540              58   \n",
      "512                249.322              72   \n",
      "513               1010.649              28   \n",
      "514               1958.935               1   \n",
      "515                199.623              78   \n",
      "516                351.842              61   \n",
      "517               1123.503              20   \n",
      "518                772.476              44   \n",
      "519               1335.668              26   \n",
      "520                799.851              42   \n",
      "521                936.479              30   \n",
      "522                764.254              45   \n",
      "523                248.997              73   \n",
      "...                    ...             ...   \n",
      "19679             1478.955              14   \n",
      "19680             1884.442               4   \n",
      "19681              613.949              46   \n",
      "19682              240.773              79   \n",
      "19683              241.894              78   \n",
      "19684              644.155              45   \n",
      "19685              611.201              47   \n",
      "19686              301.197              67   \n",
      "19687              151.125              89   \n",
      "19688              438.594              56   \n",
      "19689             1963.001               2   \n",
      "19690              688.773              42   \n",
      "19691             1301.142              21   \n",
      "19692             1208.306              23   \n",
      "19693              818.120              37   \n",
      "19694              294.018              69   \n",
      "19695             1171.260              24   \n",
      "19696             1643.649               9   \n",
      "19697              469.720              55   \n",
      "19698              112.574              93   \n",
      "19699              161.477              88   \n",
      "19700              195.770              84   \n",
      "19701               96.663              95   \n",
      "19702              952.942              35   \n",
      "19703              476.108              54   \n",
      "19704             1710.061               6   \n",
      "19705              802.410              38   \n",
      "19706             1170.334              25   \n",
      "19707              180.052              87   \n",
      "19708             1886.849               3   \n",
      "\n",
      "                                                match_id  \n",
      "494    2U4GBNA0YmlixJ6lhgS6xB2tqdo7SEhoYyHlVu18akkAzL...  \n",
      "495    2U4GBNA0YmlixJ6lhgS6xB2tqdo7SEhoYyHlVu18akkAzL...  \n",
      "496    2U4GBNA0YmlixJ6lhgS6xB2tqdo7SEhoYyHlVu18akkAzL...  \n",
      "497    2U4GBNA0YmlixJ6lhgS6xB2tqdo7SEhoYyHlVu18akkAzL...  \n",
      "498    2U4GBNA0YmlixJ6lhgS6xB2tqdo7SEhoYyHlVu18akkAzL...  \n",
      "499    2U4GBNA0YmlixJ6lhgS6xB2tqdo7SEhoYyHlVu18akkAzL...  \n",
      "500    2U4GBNA0YmlixJ6lhgS6xB2tqdo7SEhoYyHlVu18akkAzL...  \n",
      "501    2U4GBNA0YmlixJ6lhgS6xB2tqdo7SEhoYyHlVu18akkAzL...  \n",
      "502    2U4GBNA0YmlixJ6lhgS6xB2tqdo7SEhoYyHlVu18akkAzL...  \n",
      "503    2U4GBNA0YmlixJ6lhgS6xB2tqdo7SEhoYyHlVu18akkAzL...  \n",
      "504    2U4GBNA0YmlixJ6lhgS6xB2tqdo7SEhoYyHlVu18akkAzL...  \n",
      "505    2U4GBNA0YmlixJ6lhgS6xB2tqdo7SEhoYyHlVu18akkAzL...  \n",
      "506    2U4GBNA0YmlixJ6lhgS6xB2tqdo7SEhoYyHlVu18akkAzL...  \n",
      "507    2U4GBNA0YmlixJ6lhgS6xB2tqdo7SEhoYyHlVu18akkAzL...  \n",
      "508    2U4GBNA0YmlixJ6lhgS6xB2tqdo7SEhoYyHlVu18akkAzL...  \n",
      "509    2U4GBNA0YmlixJ6lhgS6xB2tqdo7SEhoYyHlVu18akkAzL...  \n",
      "510    2U4GBNA0YmlixJ6lhgS6xB2tqdo7SEhoYyHlVu18akkAzL...  \n",
      "511    2U4GBNA0YmlixJ6lhgS6xB2tqdo7SEhoYyHlVu18akkAzL...  \n",
      "512    2U4GBNA0YmlixJ6lhgS6xB2tqdo7SEhoYyHlVu18akkAzL...  \n",
      "513    2U4GBNA0YmlixJ6lhgS6xB2tqdo7SEhoYyHlVu18akkAzL...  \n",
      "514    2U4GBNA0YmlixJ6lhgS6xB2tqdo7SEhoYyHlVu18akkAzL...  \n",
      "515    2U4GBNA0YmlixJ6lhgS6xB2tqdo7SEhoYyHlVu18akkAzL...  \n",
      "516    2U4GBNA0YmlixJ6lhgS6xB2tqdo7SEhoYyHlVu18akkAzL...  \n",
      "517    2U4GBNA0YmlixJ6lhgS6xB2tqdo7SEhoYyHlVu18akkAzL...  \n",
      "518    2U4GBNA0YmlixJ6lhgS6xB2tqdo7SEhoYyHlVu18akkAzL...  \n",
      "519    2U4GBNA0YmlixJ6lhgS6xB2tqdo7SEhoYyHlVu18akkAzL...  \n",
      "520    2U4GBNA0YmlixJ6lhgS6xB2tqdo7SEhoYyHlVu18akkAzL...  \n",
      "521    2U4GBNA0YmlixJ6lhgS6xB2tqdo7SEhoYyHlVu18akkAzL...  \n",
      "522    2U4GBNA0YmlixJ6lhgS6xB2tqdo7SEhoYyHlVu18akkAzL...  \n",
      "523    2U4GBNA0YmlixJ6lhgS6xB2tqdo7SEhoYyHlVu18akkAzL...  \n",
      "...                                                  ...  \n",
      "19679  2U4GBNA0YmneMQBd6JvO4m6cwi2rvsqE2XO_zAPYxJHMY7...  \n",
      "19680  2U4GBNA0YmneMQBd6JvO4m6cwi2rvsqE2XO_zAPYxJHMY7...  \n",
      "19681  2U4GBNA0YmneMQBd6JvO4m6cwi2rvsqE2XO_zAPYxJHMY7...  \n",
      "19682  2U4GBNA0YmneMQBd6JvO4m6cwi2rvsqE2XO_zAPYxJHMY7...  \n",
      "19683  2U4GBNA0YmneMQBd6JvO4m6cwi2rvsqE2XO_zAPYxJHMY7...  \n",
      "19684  2U4GBNA0YmneMQBd6JvO4m6cwi2rvsqE2XO_zAPYxJHMY7...  \n",
      "19685  2U4GBNA0YmneMQBd6JvO4m6cwi2rvsqE2XO_zAPYxJHMY7...  \n",
      "19686  2U4GBNA0YmneMQBd6JvO4m6cwi2rvsqE2XO_zAPYxJHMY7...  \n",
      "19687  2U4GBNA0YmneMQBd6JvO4m6cwi2rvsqE2XO_zAPYxJHMY7...  \n",
      "19688  2U4GBNA0YmneMQBd6JvO4m6cwi2rvsqE2XO_zAPYxJHMY7...  \n",
      "19689  2U4GBNA0YmneMQBd6JvO4m6cwi2rvsqE2XO_zAPYxJHMY7...  \n",
      "19690  2U4GBNA0YmneMQBd6JvO4m6cwi2rvsqE2XO_zAPYxJHMY7...  \n",
      "19691  2U4GBNA0YmneMQBd6JvO4m6cwi2rvsqE2XO_zAPYxJHMY7...  \n",
      "19692  2U4GBNA0YmneMQBd6JvO4m6cwi2rvsqE2XO_zAPYxJHMY7...  \n",
      "19693  2U4GBNA0YmneMQBd6JvO4m6cwi2rvsqE2XO_zAPYxJHMY7...  \n",
      "19694  2U4GBNA0YmneMQBd6JvO4m6cwi2rvsqE2XO_zAPYxJHMY7...  \n",
      "19695  2U4GBNA0YmneMQBd6JvO4m6cwi2rvsqE2XO_zAPYxJHMY7...  \n",
      "19696  2U4GBNA0YmneMQBd6JvO4m6cwi2rvsqE2XO_zAPYxJHMY7...  \n",
      "19697  2U4GBNA0YmneMQBd6JvO4m6cwi2rvsqE2XO_zAPYxJHMY7...  \n",
      "19698  2U4GBNA0YmneMQBd6JvO4m6cwi2rvsqE2XO_zAPYxJHMY7...  \n",
      "19699  2U4GBNA0YmneMQBd6JvO4m6cwi2rvsqE2XO_zAPYxJHMY7...  \n",
      "19700  2U4GBNA0YmneMQBd6JvO4m6cwi2rvsqE2XO_zAPYxJHMY7...  \n",
      "19701  2U4GBNA0YmneMQBd6JvO4m6cwi2rvsqE2XO_zAPYxJHMY7...  \n",
      "19702  2U4GBNA0YmneMQBd6JvO4m6cwi2rvsqE2XO_zAPYxJHMY7...  \n",
      "19703  2U4GBNA0YmneMQBd6JvO4m6cwi2rvsqE2XO_zAPYxJHMY7...  \n",
      "19704  2U4GBNA0YmneMQBd6JvO4m6cwi2rvsqE2XO_zAPYxJHMY7...  \n",
      "19705  2U4GBNA0YmneMQBd6JvO4m6cwi2rvsqE2XO_zAPYxJHMY7...  \n",
      "19706  2U4GBNA0YmneMQBd6JvO4m6cwi2rvsqE2XO_zAPYxJHMY7...  \n",
      "19707  2U4GBNA0YmneMQBd6JvO4m6cwi2rvsqE2XO_zAPYxJHMY7...  \n",
      "19708  2U4GBNA0YmneMQBd6JvO4m6cwi2rvsqE2XO_zAPYxJHMY7...  \n",
      "\n",
      "[20054 rows x 7 columns]\n"
     ]
    }
   ],
   "source": [
    "d = pd.read_csv('data/agg_match_stats_1k.csv')\n",
    "e = pd.read_csv('data/agg_match_stats_2k.csv')\n",
    "a = pd.read_csv('data/agg_match_stats_3k.csv')\n",
    "t = pd.read_csv('data/agg_match_stats_4k.csv')\n",
    "h = pd.read_csv('data/agg_match_stats_5k.csv')\n",
    "x = pd.concat([d,e,a,t,h])\n",
    "#d=d[d.party_size==1]\n",
    "f = x[['game_size','match_mode','party_size','player_name','player_survive_time','team_placement','match_id']]\n",
    "f['match_id'].astype(str)\n",
    "f = f[f.party_size == 1]\n",
    "f = f[f.player_survive_time <= 2000]\n",
    "y = f[f.team_placement >= 75]\n",
    "print(x.info())\n",
    "print(f)"
   ]
  },
  {
   "cell_type": "code",
   "execution_count": 36,
   "metadata": {},
   "outputs": [
    {
     "data": {
      "text/plain": [
       "224"
      ]
     },
     "execution_count": 36,
     "metadata": {},
     "output_type": "execute_result"
    }
   ],
   "source": [
    "t = f.match_id\n",
    "len(t.unique())\n"
   ]
  },
  {
   "cell_type": "markdown",
   "metadata": {},
   "source": [
    "## Trends in the sample"
   ]
  },
  {
   "cell_type": "code",
   "execution_count": 3,
   "metadata": {},
   "outputs": [
    {
     "name": "stdout",
     "output_type": "stream",
     "text": [
      "team_placement\n",
      "1     1875.167810\n",
      "2     1876.691854\n",
      "3     1824.539949\n",
      "4     1766.245115\n",
      "5     1729.136050\n",
      "6     1681.644735\n",
      "7     1647.661454\n",
      "8     1614.920253\n",
      "9     1584.503170\n",
      "10    1552.207138\n",
      "11    1524.516837\n",
      "12    1494.531694\n",
      "13    1468.598203\n",
      "14    1446.108305\n",
      "15    1415.670177\n",
      "16    1389.271452\n",
      "17    1367.995194\n",
      "18    1331.880315\n",
      "19    1298.605152\n",
      "20    1267.635316\n",
      "21    1242.297832\n",
      "22    1208.943169\n",
      "23    1182.368663\n",
      "24    1148.920024\n",
      "25    1120.581816\n",
      "26    1097.680322\n",
      "27    1067.097827\n",
      "28    1029.518365\n",
      "29    1018.568602\n",
      "30     990.544315\n",
      "         ...     \n",
      "70     230.277366\n",
      "71     217.353010\n",
      "72     219.577121\n",
      "73     213.843685\n",
      "74     195.350098\n",
      "75     196.412884\n",
      "76     200.631826\n",
      "77     184.706525\n",
      "78     180.454152\n",
      "79     178.203135\n",
      "80     165.376043\n",
      "81     178.114837\n",
      "82     167.785897\n",
      "83     157.130969\n",
      "84     162.735794\n",
      "85     150.426516\n",
      "86     151.373033\n",
      "87     132.247475\n",
      "88     137.792358\n",
      "89     167.831301\n",
      "90     156.633818\n",
      "91     134.168974\n",
      "92     164.374988\n",
      "93     137.130404\n",
      "94     164.324774\n",
      "95     193.631400\n",
      "96     180.010126\n",
      "97     205.367882\n",
      "98     161.330050\n",
      "99     269.341043\n",
      "Name: player_survive_time, Length: 99, dtype: float64\n",
      "match_id\n",
      "2U4GBNA0Ymk-pKwHr1Q5hIk_TxZM0rixnc5Bq0W9Fj0eTW6aan4uHG6t6lOWEng8    703.715296\n",
      "2U4GBNA0Ymk1RHgbpquKEf2XGvs0Lf4hBM0pppK6ltkeeUpBTkUBBgaM9ptjLyK9    724.991101\n",
      "2U4GBNA0Ymk1rJOiMJ4a64VGfTk5zO9oexa_PzbvN9d3P_AIDhtiYzPPyuSH9mac    767.446034\n",
      "2U4GBNA0Ymk2id_cwEQEe9UgwqJNu7pxUaBQv7t83TAtdfDLCE0Xafl55b5G8HmC    692.052112\n",
      "2U4GBNA0Ymk31K0TCNVShks5i9Fq_tt4cQwdGSjwwtS6LXpLOrXoBn1izhxVwaCA    608.155115\n",
      "Name: player_survive_time, dtype: float64\n"
     ]
    }
   ],
   "source": [
    "g = f.groupby('team_placement').player_survive_time.mean()\n",
    "print(g)\n",
    "i = f.groupby('match_id').player_survive_time.mean()\n",
<<<<<<< HEAD
    "i = i[i <= 900]\n",
=======
    "i = i[i <= 950]\n",
>>>>>>> acfda29e9f0b3f3b9b95f36e18527c9bac9e3e27
    "print(i.head())\n",
    "j = y.groupby('match_id').player_survive_time.mean()\n",
    "#print(j.head())\n",
    "k = f.groupby('team_placement').count()"
   ]
  },
  {
   "cell_type": "markdown",
   "metadata": {},
   "source": [
    "### Number of teams in the dataset in each team placement"
   ]
  },
  {
   "cell_type": "code",
   "execution_count": 39,
   "metadata": {},
   "outputs": [
    {
     "name": "stdout",
     "output_type": "stream",
     "text": [
      "team_placement\n",
      "1     205\n",
      "2     205\n",
      "3     216\n",
      "4     217\n",
      "5     221\n",
      "6     223\n",
      "7     218\n",
      "8     221\n",
      "9     217\n",
      "10    218\n",
      "11    215\n",
      "12    218\n",
      "13    216\n",
      "14    213\n",
      "15    214\n",
      "16    210\n",
      "17    210\n",
      "18    213\n",
      "19    204\n",
      "20    211\n",
      "21    213\n",
      "22    213\n",
      "23    208\n",
      "24    206\n",
      "25    205\n",
      "26    214\n",
      "27    207\n",
      "28    203\n",
      "29    206\n",
      "30    199\n",
      "     ... \n",
      "70    213\n",
      "71    207\n",
      "72    214\n",
      "73    216\n",
      "74    214\n",
      "75    215\n",
      "76    213\n",
      "77    223\n",
      "78    216\n",
      "79    207\n",
      "80    207\n",
      "81    215\n",
      "82    201\n",
      "83    193\n",
      "84    204\n",
      "85    182\n",
      "86    179\n",
      "87    181\n",
      "88    179\n",
      "89    195\n",
      "90    192\n",
      "91    151\n",
      "92    168\n",
      "93    141\n",
      "94    144\n",
      "95    150\n",
      "96     95\n",
      "97     68\n",
      "98     60\n",
      "99     23\n",
      "Name: player_name, Length: 99, dtype: int64\n"
     ]
    }
   ],
   "source": [
    "print(f.groupby('team_placement').player_name.count())"
   ]
  },
  {
   "cell_type": "markdown",
   "metadata": {},
   "source": [
    "Histogram shows the probability of survival time in a game"
   ]
  },
  {
   "cell_type": "code",
   "execution_count": 20,
   "metadata": {},
   "outputs": [
    {
     "data": {
      "image/png": "iVBORw0KGgoAAAANSUhEUgAAAZgAAAEKCAYAAAAvlUMdAAAABHNCSVQICAgIfAhkiAAAAAlwSFlzAAALEgAACxIB0t1+/AAAADl0RVh0U29mdHdhcmUAbWF0cGxvdGxpYiB2ZXJzaW9uIDIuMS4yLCBodHRwOi8vbWF0cGxvdGxpYi5vcmcvNQv5yAAAIABJREFUeJzt3XuYXFWZ7/Hvj4SLCkQIQUMgJkDEE8YRsEEcbziI3IR4CYdwUAIyB5mBR1F0DHqGQZQjoIA3EFGQmEEDAmpUFJFLGJVLOhAICQSaECUQuQhy8RJIeOePtZpUmqrq3Z1eVd2d3+d56ulda6+96q3d3fXWWnvvtRURmJmZDbQN2h2AmZkNT04wZmZWhBOMmZkV4QRjZmZFOMGYmVkRTjBmZlaEE4yZmRXhBGNmZkU4wZiZWREj2x1AO2211VYxYcKEdodhZjakzJ8///GIGNNbvfU6wUyYMIHOzs52h2FmNqRI+n2Veh4iMzOzIpxgzMysCCcYMzMrwgnGzMyKcIIxM7MinGDMzKwIJxgzMyvCCcbMzIpwgjEzsyLW6yv5S5gw4+d1y5edfmCLIzEzay/3YMzMrAgnGDMzK8IJxszMinCCMTOzIpxgzMysCCcYMzMrwgnGzMyKcIIxM7MinGDMzKwIJxgzMyvCCcbMzIpwgjEzsyKcYMzMrIiiCUbSfpKWSOqSNKPO+o0lXZrX3yJpQs26k3L5Ekn75rLtJF0v6W5JiyR9rKb+KZIekrQgPw4o+d7MzKy5YtP1SxoBnAvsAywH5kmaExGLa6odDTwZETtKmgacARwqaTIwDdgZ2Ab4taTXAquAEyPiNkmbAfMlXVPT5jkR8eVS78nMzKor2YPZA+iKiKUR8RwwG5jSo84UYGZevhzYW5Jy+eyIWBkRDwBdwB4RsSIibgOIiGeAu4FxBd+DmZn1U8kEMw54sOb5cl6aDF6sExGrgKeA0VW2zcNpuwK31BQfL+lOSRdJ2qJeUJKOkdQpqfOxxx7r63syM7OKSiYY1SmLinWabitpU+AK4ISIeDoXfxPYAdgFWAGcVS+oiLggIjoiomPMmDHN34GZmfVbyQSzHNiu5vm2wMON6kgaCYwCnmi2raQNScnlkoi4srtCRDwSEasj4gXg26QhOjMza5OSCWYeMEnSREkbkQ7az+lRZw4wPS9PBa6LiMjl0/JZZhOBScCt+fjMhcDdEXF2bUOSxtY8fR9w14C/IzMzq6zYWWQRsUrS8cDVwAjgoohYJOlUoDMi5pCSxSxJXaSey7S87SJJlwGLSWeOHRcRqyW9FfgQsFDSgvxSn4mIq4AzJe1CGkpbBnyk1HszM7PeFUswAPmD/6oeZSfXLP8dOKTBtqcBp/Uo+w31j88QER9a13jNzGzg+Ep+MzMrwgnGzMyKcIIxM7MinGDMzKwIJxgzMyvCCcbMzIpwgjEzsyKcYMzMrAgnGDMzK8IJxszMinCCMTOzIpxgzMysCCcYMzMrwgnGzMyKcIIxM7MinGDMzKwIJxgzMyvCCcbMzIpwgjEzsyKcYMzMrAgnGDMzK8IJxszMinCCMTOzIpxgzMysCCcYMzMrwgnGzMyKcIIxM7MiRlapJOmfgAm19SPie4ViMjOzYaDXHoykWcCXgbcCu+dHR5XGJe0naYmkLkkz6qzfWNKlef0tkibUrDsply+RtG8u207S9ZLulrRI0sdq6m8p6RpJ9+WfW1SJ0czMyqjSg+kAJkdE9KVhSSOAc4F9gOXAPElzImJxTbWjgScjYkdJ04AzgEMlTQamATsD2wC/lvRaYBVwYkTcJmkzYL6ka3KbM4BrI+L0nMxmAJ/uS8xmZjZwqhyDuQt4dT/a3gPoioilEfEcMBuY0qPOFGBmXr4c2FuScvnsiFgZEQ8AXcAeEbEiIm4DiIhngLuBcXXamgm8tx8xm5nZAGnYg5H0UyCAzYDFkm4FVnavj4iDe2l7HPBgzfPlwJsa1YmIVZKeAkbn8pt7bDuudsM8nLYrcEsuelVErMhtrZC0dS/xmZlZQc2GyL68jm2rTlnPYbZGdZpuK2lT4ArghIh4uk9BSccAxwCMHz++L5uamVkfNBwii4i5ETEXOKB7ubasQtvLge1qnm8LPNyojqSRwCjgiWbbStqQlFwuiYgra+o8ImlsrjMWeLTB+7ogIjoiomPMmDEV3oaZmfVHlWMw+9Qp27/CdvOASZImStqIdNB+To86c4DpeXkqcF0+mWAOMC2fZTYRmATcmo/PXAjcHRFnN2lrOvCTCjGamVkhzY7B/Cvwb8D2ku6sWbUZ8LveGs7HVI4HrgZGABdFxCJJpwKdETGHlCxmSeoi9Vym5W0XSboMWEw6c+y4iFgt6a3Ah4CFkhbkl/pMRFwFnA5cJulo4A/AIdV3g5mZDTQ1OvtY0ihgC+CLpFN+uz0TEU+0ILbiOjo6orOzc0DbnDDj53XLl51+4IC+jplZu0iaHxG9Xg/ZsAcTEU8BTwGH5Qa3BjYBNpW0aUT8YaCCNTOz4afKlfwHSboPeACYCywDflE4LjMzG+KqHOT/ArAncG9ETAT2Bn5bNCozMxvyqiSY5yPiT8AGkjaIiOuBXQrHZWZmQ1yVucj+nC9s/G/gEkmPks7sMjMza6hKD2YK8FfgBOCXwP3AQSWDMjOzoa/XHkxE/EXSa4BJETFT0stJ17WYmZk1VOUssv9Lmun4W7loHPDjkkGZmdnQV2WI7DjgLcDTABFxH+CZis3MrKkqCWZlvp8L8OKklH26+ZiZma1/qiSYuZI+A7xM0j7AD4Gflg3LzMyGuiqnKc8g3dp4IfAR4CrgOyWDGo48R5mZrW+qnEX2gqQfAz+OiMdaEJOZmQ0DDYfIlJwi6XHgHmCJpMckndy68MzMbKhqdgzmBNLZY7tHxOiI2BJ4E/AWSR9vSXRmZjZkNUswRwCHRcQD3QURsRT4YF5nZmbWULMEs2FEPN6zMB+H2bBcSGZmNhw0SzDP9XOdmZlZ07PI3iDp6TrlIt3Z0szMrKFmt0z2hJZmZtZvVa7kNzMz6zMnGDMzK6LZhZYbtzIQMzMbXpr1YG4CkDSrRbGYmdkw0uwsso0kTQf+SdL7e66MiCvLhWVmZkNdswRzLHA48ErgoB7rAnCCMTOzhpqdpvwb4DeSOiPiwhbGZGZmw0CV+8HMkvRR4O35+Vzg/Ih4vlxYZmY21FVJMOeR5h47Lz//EPBN4F9KBWVmZkNfletgdo+I6RFxXX4cBexepXFJ+0laIqlL0ow66zeWdGlef4ukCTXrTsrlSyTtW1N+kaRHJd3Vo61TJD0kaUF+HFAlRjMzK6NKglktaYfuJ5K2B1b3tpGkEcC5wP7AZOAwSZN7VDsaeDIidgTOAc7I204GpgE7A/sB5+X2AC7OZfWcExG75MdVFd6bmZkVUiXBfAq4XtINkuYC1wEnVthuD6ArIpZGxHPAbGBKjzpTgJl5+XJgb0nK5bMjYmW+H01Xbo+IuBF4osLrm5lZG/V6DCYirpU0CdiJNJPyPRGxskLb44AHa54vJ90Rs26diFgl6SlgdC6/uce24yq85vGSjgA6gRMj4skK25iZWQGV5iLLPYk7I+KOiskFUjJ6SVMV61TZtqdvAjsAuwArgLPqBiUdI6lTUudjjz3WS5NmZtZfJSe7XA5sV/N8W+DhRnUkjQRGkYa/qmy7loh4JCJWR8QLwLfJQ2p16l0QER0R0TFmzJg+vB0zM+uLkglmHjBJ0kRJG5EO2s/pUWcOMD0vTwWui4jI5dPyWWYTgUnArc1eTNLYmqfvA+5qVNfMzMrrNcFIukLSgZL6lIwiYhVwPHA1cDdwWUQsknSqpINztQuB0ZK6gE8AM/K2i4DLgMXAL4HjImJ1jucHpIk4d5K0XNLRua0zJS2UdCfwTuDjfYnXzMwGllKHoUkF6V3AUcCewA+BiyPinhbEVlxHR0d0dnYOaJsTZvy8T/WXnX7ggL6+mVlpkuZHREdv9XrtlUTEryPicGA3YBlwjaTfSTpK0obrHqqZmQ1HlYa9JI0GjiRND3M78FVSwrmmWGRmZjak9XodjKQrgdcBs4CDImJFXnWppIEdXzIzs2GjymSX3+k57YqkjfO1Mb2OwZmZ2fqpyhDZF+qU3TTQgZiZ2fDSsAcj6dWk6VleJmlX1lxdvznw8hbEZmZmQ1izIbJ9SQf2twXOril/BvhMwZjMzGwYaHbL5JnATEkfiIgrWhiTmZkNA82GyD4YEf8FTJD0iZ7rI+LsOpuZmZkBzYfIXpF/btqKQMzMbHhpNkT2rfzzc60Lx8zMhotmQ2Rfa7ZhRHx04MMxM7PhotkQ2fyWRWFmZsNOb2eRWWHNZl/2TMtmNpQ1GyL7SkScIOmn1LldcUQcXGczMzMzoPkQ2az888utCMTMzIaXZkNk8/PPufmWx68j9WSWRMRzLYrPzMyGqCrT9R8InA/cT5qPbKKkj0TEL0oHZ2ZmQ1eV6frPAt4ZEV0AknYAfg44wZiZWUNVput/tDu5ZEuBRwvFY2Zmw0Szs8jenxcXSboKuIx0DOYQYF4LYjMzsyGs2RDZQTXLjwDvyMuPAVsUi8jMzIaFZmeRHdXKQMzMbHipchbZJsDRwM7AJt3lEfHhgnGZmdkQV+UsslnAPaQ7XJ4KHA7cXTIoSxpNI+MpZMxsKKhyFtmOEfEfwF/y/GQHAq8vG5aZmQ11VRLM8/nnnyX9AzAKmFAsIjMzGxaqDJFdIGkL4D+AOaQ7XP5H0ajMzGzI6zXBRMR38uJcYPuy4ZiZ2XDR6xCZpNGSvi7pNknzJX1F0ugqjUvaT9ISSV2SZtRZv7GkS/P6WyRNqFl3Ui5fImnfmvKLJD0q6a4ebW0p6RpJ9+WfvlbHzKyNqhyDmU2aGuYDwFTgceDS3jaSNAI4F9gfmAwcJmlyj2pHA09GxI7AOcAZedvJwDTSqdH7Aefl9gAuzmU9zQCujYhJwLX5uZmZtUmVBLNlRHw+Ih7Ijy8Ar6yw3R5AV0QszdP7zwam9KgzBei+c+blwN6SlMtnR8TKiHgA6MrtERE3Ak/Ueb3atmYC760Qo5mZFVLlIP/1kqaR5iKD1ItpfJ/fNcYBD9Y8Xw68qVGdiFgl6SlgdC6/uce243p5vVdFxIrc1gpJW1eIsd+a3erYzMyaT3b5DGlySwGfAP4rr9oAeBb4z17aVp2ynrdeblSnyrb9IukY4BiA8ePHD0STZmZWR8MhsojYLCI2zz83iIiR+bFBRGxeoe3lwHY1z7cFHm5UR9JI0jU2T1TctqdHJI3NbY2lwS0FIuKCiOiIiI4xY8ZUeBtmZtYfVY7BIOlgSV/Oj/dUbHseMEnSxHzL5Wmk62hqzQGm5+WpwHUREbl8Wj7LbCIwCbi1l9erbWs68JOKcZqZWQFVTlM+HfgYsDg/PpbLmoqIVcDxwNWkucsui4hFkk6VdHCudiEwWlIXaRhuRt52EemYz2Lgl8BxEbE6x/MD4CZgJ0nLJR2d2zod2EfSfcA++bmZmbWJUoehSQXpTmCXiHghPx8B3B4R/9iC+Irq6OiIzs7Ofm3bzoP8nuzSzNpJ0vyI6OitXqUhMtY+LXlU/0IyM7P1SZXTlL8I3C7petLZXW8HTioalZmZDXlNE0y+6PE3wJ7A7qQE8+mI+GMLYjMzsyGsaYKJiJD044h4Iy89A8zMzKyhKkNkN0vaPSLmFY/GKvGdLs1sKKiSYN4JHCtpGfAX0jBZDIezyMzMrJwqCWb/4lGYmdmw02wusk2AY4EdgYXAhfniSTMzs141uw5mJtBBSi77A2e1JCIzMxsWmg2RTY6I1wNIupDe5wIzMzN7UbMezPPdCx4aMzOzvmrWg3mDpKfzsoCX5efdZ5FVmbLfzMzWUw0TTESMaGUgZmY2vFQ5TdmGCF+AaWaDSdXZlM3MzPrECcbMzIpwgjEzsyKcYMzMrAgnGDMzK8IJxszMivBpyusxn9ZsZiU5wawHGiUSM7OSPERmZmZFOMGYmVkRTjBmZlaEE4yZmRXhBGNmZkU4wZiZWRFOMGZmVkTR62Ak7Qd8FRgBfCciTu+xfmPge8AbgT8Bh0bEsrzuJOBoYDXw0Yi4ulmbki4G3gE8lZs/MiIWlHx/w5UvwDSzgVAswUgaAZwL7AMsB+ZJmhMRi2uqHQ08GRE7SpoGnAEcKmkyMA3YGdgG+LWk1+ZtmrX5qYi4vNR7MrPW8xeeoatkD2YPoCsilgJImg1MAWoTzBTglLx8OfANScrlsyNiJfCApK7cHhXatEKG8z/6cH5vZu1S8hjMOODBmufLc1ndOhGxijS8NbrJtr21eZqkOyWdk4ffzMysTUr2YFSnLCrWaVReLyF2t3kS8EdgI+AC4NPAqS8JSjoGOAZg/Pjx9eI2e5F7Nmb9V7IHsxzYrub5tsDDjepIGgmMAp5osm3DNiNiRSQrge+yZkhtLRFxQUR0RETHmDFj+vnWzMysNyV7MPOASZImAg+RDtr/nx515gDTgZuAqcB1ERGS5gDfl3Q26SD/JOBWUs+mbpuSxkbEinwM573AXQXfmw1RnlnarHWKJZiIWCXpeOBq0inFF0XEIkmnAp0RMQe4EJiVD+I/QUoY5HqXkQ7erwKOi4jVAPXazC95iaQxpCS0ADi21HszM7PeFb0OJiKuAq7qUXZyzfLfgUMabHsacFqVNnP5P69rvNY/g/E4hXsqZu3nG47ZkOZEMniV/uIxGL/Y2NqcYKyYvn74D6UPBn+4mfXOCcYGDfdGhqbh8HvzF4YynGDMhjl/eFq7OMGYDaB2HXcwG4ycYMwGoeGcSNyjWn84wZi1wHBOGAPF+2j4cYIxs7W4h9F/3ndrc4IxW0+5x9A7J4x14wRjZpUMlYTULE4nhtZygjGz9cZQSZLDRcnp+s3MbD3mBGNmZkU4wZiZWRFOMGZmVoQTjJmZFeGzyMzMCuvr9TTD5fobJxgzsz7y6c7VeIjMzMyKcIIxM7MiPERmZjZEDLVjM04wZmZtMtyP5XiIzMzMinCCMTOzIpxgzMysCB+DMTMb4vpzLKcVJwa4B2NmZkU4wZiZWRFOMGZmVkTRBCNpP0lLJHVJmlFn/caSLs3rb5E0oWbdSbl8iaR9e2tT0sTcxn25zY1KvjczM2uuWIKRNAI4F9gfmAwcJmlyj2pHA09GxI7AOcAZedvJwDRgZ2A/4DxJI3pp8wzgnIiYBDyZ2zYzszYp2YPZA+iKiKUR8RwwG5jSo84UYGZevhzYW5Jy+eyIWBkRDwBdub26beZt/jm3QW7zvQXfm5mZ9aJkghkHPFjzfHkuq1snIlYBTwGjm2zbqHw08OfcRqPXMjOzFip5HYzqlEXFOo3K6yXEZvVfGpR0DHBMfvqspCU9qmwFPF5v20FiMMfn2PpvMMfn2Ppv0ManM9YpttdUqVQywSwHtqt5vi3wcIM6yyWNBEYBT/Sybb3yx4FXShqZezH1XguAiLgAuKBR0JI6I6Kj+Vtrn8Ecn2Prv8Ecn2Prv8EcXytiKzlENg+YlM/u2oh00H5OjzpzgOl5eSpwXURELp+WzzKbCEwCbm3UZt7m+twGuc2fFHxvZmbWi2I9mIhYJel44GpgBHBRRCySdCrQGRFzgAuBWZK6SD2XaXnbRZIuAxYDq4DjImI1QL0280t+Gpgt6QvA7bltMzNrk6JzkUXEVcBVPcpOrln+O3BIg21PA06r0mYuX0o6y2xdNRw+GyQGc3yOrf8Gc3yOrf8Gc3zFY1MaXTIzMxtYnirGzMyKcIKp0dvUNi14/e0kXS/pbkmLJH0sl58i6SFJC/LjgJpt6k6pUyi+ZZIW5hg6c9mWkq7JU/RcI2mLXC5JX8ux3Slpt8Kx7VSzfxZIelrSCe3ad5IukvSopLtqyvq8ryRNz/XvkzS93msNUGxfknRPfv0fSXplLp8g6W81++/8mm3emP8eunL89S4XGKj4+vx7LPH/3CC2S2viWiZpQS5v6b5r8vnRvr+7iPAjDROOAO4Htgc2Au4AJrc4hrHAbnl5M+Be0pQ4pwCfrFN/co5zY2Bijn9EwfiWAVv1KDsTmJGXZwBn5OUDgF+QrlHaE7ilxb/LP5LO1W/LvgPeDuwG3NXffQVsCSzNP7fIy1sUiu3dwMi8fEZNbBNq6/Vo51bgzTnuXwD7F9x3ffo9lvp/rhdbj/VnASe3Y981+fxo29+dezBrVJnapqiIWBERt+XlZ4C7aT4jQaMpdVqpdrqf2il6pgDfi+Rm0nVKY1sU097A/RHx+yZ1iu67iLiRdGZkz9fsy77aF7gmIp6IiCeBa0hz8w14bBHxq1gzE8bNpGvJGsrxbR4RN0X6VPoeAzQ9U4N910ifppUqGVvuhfxv4AfN2ii175p8frTt784JZo0qU9u0jNLM0rsCt+Si43M39qLuLi6tjzmAX0marzQjAsCrImIFpD9wYOs2xVZrGmv/kw+GfQd931ft2ocfJn2z7TZR0u2S5kp6Wy4bl+NpZWx9+T22Y9+9DXgkIu6rKWvLvuvx+dG2vzsnmDUqTzdTmqRNgSuAEyLiaeCbwA7ALsAKUjccWh/zWyJiN9Js1sdJenuTum3Zn0oX4B4M/DAXDZZ910xfp0wqF4j0WdK1Z5fkohXA+IjYFfgE8H1Jm7chtr7+Htvx+z2Mtb/YtGXf1fn8aFi1QRwDFp8TzBpVprYpTtKGpD+OSyLiSoCIeCQiVkfEC8C3WTOU09KYI+Lh/PNR4Ec5jke6h77yz0fbEVuN/YHbIuKRHOug2HdZX/dVS2PMB3PfAxyeh27IQ09/ysvzScc1Xptjqx1GK/2319ffY6v33Ujg/cClNTG3fN/V+/ygjX93TjBrVJnapqg8hnshcHdEnF1TXnvs4n1A9xksjabUKRHbKyRt1r1MOih8F2tP91M7Rc8c4Ih8psqewFPd3fTC1voWORj2XY2+7qurgXdL2iIPCb07lw04SfuRZsM4OCL+WlM+Ruk+TEjanrSflub4npG0Z/67PYKC0zP14/fY6v/ndwH3RMSLQ1+t3neNPj9o59/dup65MJwepLMq7iV90/hsG17/raSu6J3Agvw4AJgFLMzlc4CxNdt8Nse7hAE6i6dBbNuTzsS5A1jUvX9It0q4Frgv/9wyl4t0c7j7c+wdLdh/Lwf+BIyqKWvLviMluRXA86RvhEf3Z1+Rjod05cdRBWPrIo27d//dnZ/rfiD/vu8AbgMOqmmng/RBfz/wDfKF24Xi6/PvscT/c73YcvnFwLE96rZ039H486Ntf3e+kt/MzIrwEJmZmRXhBGNmZkU4wZiZWRFOMGZmVoQTjJmZFeEEY0VJWq00k+xdkn4o6eW5/NkWx/GePGXHHZIWS/rIALW7jaTL+7ntXpJ+1qNsX62ZffdZpdmAF0j6nqQOSV8biLh7vOaxko4Y6HZLknSkpG+0Ow5rrugdLc2Av0XELgCSLgGOBc5uvsm6yRecKdJV391XN18A7BERyyVtTJrptmp7IyLfsrunSLMbTF33qF9s72ryRW2SbiDNINxZU6Wz3nbr+Jrn917LrO/cg7FW+m9gx9oCSZtKulbSbUr3x5iSyz+vfD+L/Pw0SR/Ny5+SNC9PfPi5XDZB6T4Y55Euaqud6mIz0pep7mk7VkbEkrzdxZKm1rzOs/nnXkr31vg+sFDSGZL+rabeKZJOzK97Vy67RdLONXVuULrvxx6Sfpd7UL+TtFN/dl5tjye//kxJv1K6B8n7JZ2Z9+Evc1Ltvu/IXKUJSq9WnRmtc1ufrIn5DEm3SrpXayZorK0/VtKNNT3Tt+Xyd0u6Kf8uf6g0JxaSds/v+47c7maSNpH03Rzv7ZLemeseKenK/B7uk3RmzeselWOaC7ylpvyQHMcdkm7sz761Qgbi6lY//Gj0AJ7NP0eSpqj41zrlm+flrUhXDovUw7gtl29Autp4NGnaigtynQ2An5Hu0TEBeAHYs0Ec3yHNwfQD4HBgg1x+MTC1Trx7AX8BJubnuwJza+otBsZTc88P4OPA5/LyWODevLw5a+618i7giprX+FmTfXcDa19d/WJ90v1RfgNsCLwB+Cv5KnbSPHHvzet+B4zJ5YcCF9V5nVPI91rJr3lWXj4A+HWd+ieyZiaHEaQEvhVwI/CKXP5p4GTSvViWArvX7ovcxndz2euAPwCbAEfm+qPy89+TviyMzXXG5DZ/C3wjb78QGJeXX9nuv3k/1jw8RGalvUz5Dn+kHsyFPdYL+P9KMzO/QJoW/FURsUzSnyTtCrwKuD0i/iTp3aQkc3veflPSHE9/AH4f6b4WLxER/yLp9aQP+E8C+5A+zJq5NdI9RoiI2yVtLWkb0ofckxHxB6Vp0btdRrp3xn+S7gvSPaPzKGCmpEmkqTw27OV1q/pFRDwvaSHpg/6XuXwhKfHtBPwDcE0aNWQEaZqT3nRPkjif+kOJ84CLci/pxxGxQNI7SDe3+m1+rY2Am3IMKyJiHkDk2X0lvRX4ei67R9LvSRNBAlwbEU/leotJN47bCrghIh7L5ZfW1P8tcLGky2pit0HACcZKe/EYTAOHkz6w35g/LJeRvrlC6nUcCbwauCiXCfhiRHyrtpH8Qf+XZoFExELScNcs4IHc9iryUHE+drNRzSY927ucdLzl1aQbWPVs/6GcFP+R1FvoPpHg88D1EfG+HOcNzeLsg5X5dV+Q9Hzkr/CkRD2StK8WRcSb+9MusJo6nxERcWP+QnAgMEvSl4AnSTepOqy2bt4X9eajanaL4JU1y7Ux1J3XKiKOlfSmHM8CSbtEnsXY2svHYKzdRgGP5uTyTtK31W4/It1Jb3fWzOZ6NfDhmvH9cZK2pgml4zx71RTtQhp6gXQb6Dfm5Sk0713MJs3KO5WUbBrV+XfShJsLa97jQ3n5yGaxDrAlwBhJb4Z0skPtMaL+kvQa0u/s26Qe6W6ku2C+RdKOuc7LJb0WuAfYRtLuuXwzpantbyR9uSDXG5/jbeQWYC9Jo3PP6ZCaeHaIiFsi4mTgcdY+/mZt5B6MtdslwE8ldZJmf72ne0VEPCfpeuDPkc/iiohfSfpfwE15KOZZ4IOkb7qNCPh3Sd8C/kbqmRyZ130b+ImkW0kzzTbsBUXEIqVbFjwUjW9jVsvtAAAAx0lEQVQ9cDnwVVKvpduZpCGyTwDXNYlzQOX9NxX4mqRRpP/3r5Bm+F0XewGfkvQ8af8fERGPSToS+IHSWXoA/y8i7pV0KPB1SS8j7f93AecB5+fhvVXAkRGxMv9O672XFZJOIQ27rSCdyDEir/5SHn4U6Xd4xzq+Pxsgnk3ZBi1JG5A+SA6JtW9Da2ZDgIfIbFCSNJl0Rtm1Ti5mQ5N7MGZmVoR7MGZmVoQTjJmZFeEEY2ZmRTjBmJlZEU4wZmZWhBOMmZkV8T97Vr5HljT6JAAAAABJRU5ErkJggg==\n",
      "text/plain": [
<<<<<<< HEAD
       "<matplotlib.figure.Figure at 0x1b1ea00bbe0>"
=======
       "<matplotlib.figure.Figure at 0x26f43573780>"
>>>>>>> acfda29e9f0b3f3b9b95f36e18527c9bac9e3e27
      ]
     },
     "metadata": {},
     "output_type": "display_data"
    }
   ],
   "source": [
    "plt.hist(f.player_survive_time,bins=50,normed=True)\n",
    "plt.xlabel('Player Survival Time in seconds')\n",
    "plt.ylabel(\"Probability of Death\")\n",
    "plt.show()"
   ]
  },
  {
   "cell_type": "markdown",
   "metadata": {},
   "source": [
    "The histogram shows that there is a spike in probability of player deaths very early and then a sharp decay. It levels off at around 500 after which there is a slow decay until the end."
   ]
  },
  {
   "cell_type": "code",
   "execution_count": 22,
   "metadata": {
    "scrolled": false
   },
   "outputs": [
    {
     "data": {
      "image/png": "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\n",
      "text/plain": [
<<<<<<< HEAD
       "<matplotlib.figure.Figure at 0x1b1ec0470b8>"
=======
       "<matplotlib.figure.Figure at 0x26f4387ab00>"
>>>>>>> acfda29e9f0b3f3b9b95f36e18527c9bac9e3e27
      ]
     },
     "metadata": {},
     "output_type": "display_data"
    }
   ],
   "source": [
    "plt.plot(i,marker='.',linestyle='None')\n",
    "plt.ylabel(\"Average Survival Time in a Match\")\n",
    "plt.show()"
   ]
  },
  {
   "cell_type": "markdown",
   "metadata": {},
   "source": [
<<<<<<< HEAD
    "The scatterplot of player survive times gives no useful information since there are too many data points without and indication of a trend."
=======
    "The scatterplot of average player survive times in each match gives no useful information since there is no noticeable trend. If a linear regression line is made there would be too many outliers, making it useless."
>>>>>>> acfda29e9f0b3f3b9b95f36e18527c9bac9e3e27
   ]
  },
  {
   "cell_type": "code",
   "execution_count": 38,
   "metadata": {},
   "outputs": [
    {
     "data": {
      "image/png": "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\n",
      "text/plain": [
<<<<<<< HEAD
       "[<matplotlib.lines.Line2D at 0x1b1ec1543c8>]"
      ]
     },
     "execution_count": 7,
     "metadata": {},
     "output_type": "execute_result"
    },
    {
     "data": {
      "image/png": "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\n",
      "text/plain": [
       "<matplotlib.figure.Figure at 0x1b1ec0a0c50>"
=======
       "<matplotlib.figure.Figure at 0x26f3eba3d30>"
>>>>>>> acfda29e9f0b3f3b9b95f36e18527c9bac9e3e27
      ]
     },
     "metadata": {},
     "output_type": "display_data"
    }
   ],
   "source": [
    "_=plt.plot(k)\n",
    "_=plt.plot(g)\n",
    "plt.ylabel(\"Player Survival Time(sec)\")\n",
    "plt.xlabel(\"Team Placement\")\n",
    "plt.legend()\n",
    "plt.show()"
   ]
  },
  {
   "cell_type": "markdown",
   "metadata": {},
   "source": [
    "The average time a player is alive is higher as his team placement gets closer to one, which makes sense considering that whoever wins has outlived all other players in their match which gives him team placement of one. However, looking at the count and mean graph shows some irregularity towards the right hand side of the graph. The number of teams that place close to 100 are significantly less than teams that place higher. And also the average survival time of teams close to 100 are higher than what would be expected considering the trend of the rest of the means. This irregularity in the count can be understood if party size column is observed. Since we are looking at games that are not exclusively solo players, party size equal to one, this means that the number of teams in a match can be much less than 100 since only 100 players can be in any given match and party size in a match can differ."
   ]
  },
  {
   "cell_type": "code",
   "execution_count": 8,
   "metadata": {},
   "outputs": [],
   "source": [
    "mu = np.mean(i)\n",
    "sigma = np.std(i)\n",
    "fit = norm.pdf(i,np.mean(i),np.std(i))"
   ]
  },
  {
   "cell_type": "code",
<<<<<<< HEAD
   "execution_count": 10,
=======
   "execution_count": 9,
>>>>>>> acfda29e9f0b3f3b9b95f36e18527c9bac9e3e27
   "metadata": {},
   "outputs": [
    {
     "data": {
<<<<<<< HEAD
      "image/png": "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\n",
      "text/plain": [
       "<matplotlib.figure.Figure at 0x1b1ec20fc50>"
=======
      "image/png": "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\n",
      "text/plain": [
       "<matplotlib.figure.Figure at 0x26f3f646278>"
>>>>>>> acfda29e9f0b3f3b9b95f36e18527c9bac9e3e27
      ]
     },
     "metadata": {},
     "output_type": "display_data"
    }
   ],
   "source": [
    "count, bins, ignored = plt.hist(i,bins=30,normed=True)\n",
    "plt.plot(bins, 1/(sigma * np.sqrt(2 * np.pi)) * np.exp( - (bins - mu)**2 / (2 * sigma**2) ), linewidth=2, color='r')\n",
    "plt.show()"
   ]
  },
  {
   "cell_type": "markdown",
   "metadata": {},
   "source": [
    "The normal curve doesn't fit too well with the histogram of the mean survival time of each match but does that mean the normal distribution isn't useful for this dataset?"
   ]
  },
  {
   "cell_type": "code",
   "execution_count": 10,
   "metadata": {},
   "outputs": [],
   "source": [
    "def ecdf(data):\n",
    "    n = len(data)\n",
    "    x= np.sort(data)\n",
    "    y = np.arange(1,n+1) / n\n",
    "    return x, y"
   ]
  },
  {
   "cell_type": "code",
   "execution_count": 11,
   "metadata": {},
   "outputs": [
    {
     "data": {
      "image/png": "iVBORw0KGgoAAAANSUhEUgAAAXcAAAD8CAYAAACMwORRAAAABHNCSVQICAgIfAhkiAAAAAlwSFlzAAALEgAACxIB0t1+/AAAADl0RVh0U29mdHdhcmUAbWF0cGxvdGxpYiB2ZXJzaW9uIDIuMS4yLCBodHRwOi8vbWF0cGxvdGxpYi5vcmcvNQv5yAAAIABJREFUeJzt3Xl81NW9//HXZ2aSsK8JiIQdlEUFARGLdUfBDaxLRb1WW0u9vd6u3v68tdJeutrl4fVWa8G1LkBdEBBB61ZcQTOIAiIFIhMCGAIMENZkZs7vj5mESQhkgCST+eb9fDzmkfl+50zyOQTfHs6c7/macw4REfEWX7oLEBGR+qdwFxHxIIW7iIgHKdxFRDxI4S4i4kEKdxERD1K4i4h4kMJdRMSDFO4iIh4USNcPzs3Ndb17907XjxcRyUjBYHCrcy6vrnZ1hruZPQZcDmxxzp1Sy+sG3A9cCuwFbnHOLa3r+/bu3ZuCgoK6momISBIzC6XSLpVpmSeAcUd4fTwwIPGYDDyUyg8WEZGGU+fI3Tn3tpn1PkKTCcCTLr4D2WIz62Bm3Zxzm+upRhFp5oKhMIsLtzG6b2dG9Op47N8oFiMY2spH67ZwZu8OnJ7fFmLR+MNFIRZJHEegalNFV/05HONxqm0Th10GQXarY+5qfcy5dwc2JB0XJ84p3EXkmAXXbye4ZgNdA7uZ8WaQtrEdbPKXccIZ7emevQ8OlEHFXijfCxV7IHLg4CN6ACLlia/7Dz53MUYAIwDeTXMH63L7u3DCqcf89voId6vlXK37CJvZZOJTN/Ts2bMefrSIZKRoBMLrYdsa2FkMO4pgTyk7t27mwM4SWkd2MGTfVkZYBQAT/IA/8d4gEGgJOW0hu3X8kdUKslpAdhsI5IA/O/41kAP+HAhkgz+HD4vKeGfddiLOjzPj7JO7cfaAruDzxx/mB18g8dxHVbxZUsxVPa/5WgrHR9O2Q69j+IM9qD7CvRjokXScD2yqraFzbjowHWDkyJHaSF7Ew4KhMIvXbeWcvD2c6vsCNi2DrWvigb79C4hVHGzsz6a8RS4bdrdga6wt2+nPVjecba4d22lHmHZsde3Y5e/AH2+5iOH9TjymmvyhMA8XLqYiGiMr4GPsOaPheKZ5mrD6CPd5wB1mNgs4E9ip+XaRZioa4fPgm2wMLiCw+WO+boXk2q74a74s6NQXck+CgZfFv3YeAB16Qus8Hl5UyJ/+sZqYi6/08PkM5xxZAR9TLh9CeG85o/t2ZvhxhPGIXh155rbR9TN/38SlshRyJnAekGtmxcDPgSwA59xfgQXEl0GuJb4U8taGKlZEmqD9u2Dt6/CvVziw6hUGVuxkgDPWkM9b0WF84gZw2pnnc92ll8SnRw5jdN/OZAd8VERihwR6fYbwiF4dPR3qlVJZLTOpjtcd8B/1VpGINH0V+2D1Alg2Ewr/CbEK9vjb84/y03gtejrvxE6jjFYYkJPl46qho48Y7NC8RtWNIW1XqIpIBtr0MQSfILJ8NoHyXZS3PpHtg27hR592Z8n+/kSTLp3xG1w/qidfG56fclA3l1F1Y1C4i8iRxWKw5lV4/wEIvUuFvyULyofzbPQ8Po4O4apATxZHioglvSXgM6ZOOIUbztSquHRRuItI7WIxWPYMvHc/bFtDWU5X1gy8k29+OogdsZYA+Fx83XPlXLnfZ1w7ssdRjdalYSjcRaQ65+Lz6W/9FkqWs7HlSfwpegfzd40i9mkW0djBVcw+M64ens/Vw/M1V97EKNxF5KDNn1I258e0LfmQXa16MTV2By+Ez8IlLrLxOYffZ8RiDl9i6qUyzBXqTYvCXaSZqrZfS7cc+OdvcR88SHmsNVMit/Lsjgsod/6qy80NyM5quCWKUr8U7iLN0IwlRUyZu4KYc5wfWM6DHWbQoizEZydM5KbQpYRdm6oLiQynufQMpHAXaWaCoTD3zF1BTmwfUwJPcr3/n+yI9KTFN15iv+9U9j2yGH8DX0gkDU/hLuJxydMvAFNfWslA9wUPZd9Hvm3loeiVnHntHxje5wRGgC4k8giFu4iHBUNhJj28OL5M0W/4zDg/toT7sv/CDlpzXfk9dBx0Lv/e94Sq9+hCIm9QuIt4UOVo/ZMNOyiPxC8vikRj3O5/ibuyZ7Es1o9vl/+Ynf6OzDy3X5qrlYagcBfxmOTReuX24NlU8JusR7nG/zYvRc/ip7HbufLMfvqA1MMU7iIeM23RuqrRunPQ2Xbx16z7OMO3mk/7f5eiE7/JE/1yFeoep3AX8ZAZS4p47bOSquMeVsILrX9Pp9h2Cr/6Z047/2ZOS2N90ngU7iIeMWNJET+bs7zqoqM+tpmZ2b+ik98RuGUBffNHprU+aVwKd5EMFwyFeWFpMX//aAOV2770si/5e/YvaZfjI/DNl6HrkPQWKY1O4S6SgSpXw3Rslc3U+Ss5UBGrGrF3Yxszsn9Du2xocdtC6DIwrbVKeijcRTJM8tYBPjNizlUFex47eCbnN+Rl7Sf71pcV7M2Ywl0kQyRPv1Ruu+sSuzQajo6+PbzU9o/kRXbgv3kOnDgszRVLOincRTJA5dr1yiWOlfyJbXd37t7DjWt/TLuSDXDT89BzdJoqlaZC4S6SAZLXrlequpXdqB4w57uw+T2Y+BD0PS8tNUrTonAXaeKCoTCvryqpdm5ofnumXDEkfiHSP38Hn8yA8/4bht2QpiqlqfHV3URE0mn20mKS7myHzzgY7J8+C//8LQy7Ec79f+krUpochbtIE7c0FK52PLJy18Yvl8O870Gvs+Hy/6VqIxkRFO4iTdrvFqxi1Zdl1c7179oWykpg1g3QsgNc8xgEstNUoTRVmnMXaaJmLCli2tuF1c4ZcPWwE+C5f4M9W+GWl6Ft1/QUKE2awl2kiUlez+5qvPadc/oyYu0DUPQBfO1h6D48LTVK06dwF2lCDree3YgH+10DS+DJ+2H4N+C069JTpGQEhbtIEzJ7afHh17Of0hoemgC5J8G436apQskUCneRJqS07EC14/5d2nDv1acxomcHmHUj7AvDjc9Ddus0VSiZQqtlRJqQHXvLqx33zW0dX/b4yUxY/TJcOAW66XYbUjeFu0gTEQyFKaixpj23bQ7s2AAL/x/0/AqM/m6aqpNMo2kZkSaititRrz79RJh7C7gYTPwL+Pxpq08yS0ojdzMbZ2arzWytmd1Vy+s9zewtM/vYzD41s0vrv1QRb1tTUv1ipZG9OjKi+En44m245DfQqU+aKpNMVGe4m5kfeBAYDwwGJpnZ4BrNfgY865w7Hbge+Et9FyriZbVNyYzqsDO+KdigK2D4zWmqTDJVKiP3UcBa51yhc64cmAVMqNHGAe0Sz9sDm+qvRBHvO3RKxvHtsofAnw3j/6B9Y+SopRLu3YENScfFiXPJfgHcZGbFwALgP2v7RmY22cwKzKygtLT0GMoV8aaaUzLf7bqK9hsXwXl3QbtuaapKMlkq4V7bkKHmVdGTgCecc/nApcBTZnbI93bOTXfOjXTOjczLyzv6akU8qOaUTEv28609j0CXITDqO2msTDJZKqtlioEeScf5HDrt8i1gHIBz7gMzawHkAlvqo0gRL5u2aF21KZnvB16kY8WXcNnj4NeCNjk2qYzcPwIGmFkfM8sm/oHpvBptioALAcxsENAC0LyLSB1mLCniH58dvMtSfyvmtsCC+M03en0ljZVJpqsz3J1zEeAO4FVgFfFVMSvNbKqZXZlo9mPg22b2CTATuMU5V3PqRkSSzFhSxM/mLK927qeBGVT4WsLYqWmqSrwipX/zOecWEP+gNPnclKTnnwFj6rc0Ee8KhsLcM3dFtemYi3xBLvAvo3j4T8lvnZu+4sQTNKEnkgazlxYTTUr2Fhzg9y2fZG+7geSP/1EaKxOvULiLpEHNpY//k/smnXaXwsSnwJ+VpqrES7RxmEgjq7n0sQthrtr7HAyeAL3OSmNl4iUKd5FGVvNq1DuzniNADC76RbpKEg9SuIs0suQbcgy29VzjX4Rv9HegU980ViVeo3AXSRvH3YFn2OtrC1+9M93FiMco3EXS5ELfUsb4VzKv4zegZYd0lyMeo3AXaWQ79pYTIMJPAzNYGzuRd9pdnu6SxIMU7iKNaMaSIj5aH+ZG/xv0823m15Eb6dhON7uW+qdwF2kklVeltmU3Pwi8wDvRU3jbDePq4fnpLk08SOEu0kimLVpHNOb4z8Ac2rOH30Rv4pcTT2NEr47pLk08SOEu0giCoTCvfVZCN7Zxs/8fPBs9l/yBZ3DDmT3TXZp4lMJdpBHcu3AVDvh+4AUMxwORq7j93H7pLks8TOEu0sCCoTAfrg/TxzZzjf9tnoleRIu83pqOkQalcBdpYLOXFgPww8DzHCCLv0Qm8M2zdTWqNCyFu0gDKy07wAAr5nLfYv4WvYTcE3porl0anMJdpBH8IPA8e2jB9Mhl9OjUKt3lSDOgcBdpYO13fs5l/g95LDqOHbRNdznSTCjcRRpQMBTmwi1PsMu15NHIeABy2+akuSppDhTuIg3og3ffZJz/Ix6PjmcXbfAZuiJVGoXCXaQBnV/8F3a41jwSuRSAkb06agmkNAqFu0hDWf8uQ/YV8OfIRMqIf4jaoVV2mouS5kLhLtJQ3v4jO3wdeTo6Nt2VSDOkcBdpCBuDUPgWDx0YxwEOjtb1Yao0lkC6CxDxovCrv8Nca56OXlR1zq8PU6URaeQuUt9KPqNj0T94InoJe2gJgBn8cuKp+jBVGo3CXaSerZ/zS/aSw+ORcVXnzujVUVsOSKNSuIvUo3lvvkePTQt5KnIRO2lTdb5/V12ZKo1L4S5Sj/wf/C8RAlXr2gGy/aa5dml0CneRevLioo8YW/4Gf4+eRynxufX+Xdowc/JZmmuXRqdwF6kHwVCY8Ot/wodjevRyIP4f171X6x6pkh4Kd5F68MqHy5nke4M5sbMpdnmYwa+u0uoYSR+Fu0g9GLj+GXKo4KHIFYBWx0j6pRTuZjbOzFab2Vozu+swba4zs8/MbKWZzajfMkWaro/XhBi7ex4LY2ewznUHtDpG0q/OK1TNzA88CIwFioGPzGyec+6zpDYDgP8GxjjnwmbWpaEKFmlqvlhwP6fbXv4SmQigbX2lSUhl5D4KWOucK3TOlQOzgAk12nwbeNA5FwZwzm2p3zJFmqal6zZxzvbneCs6lJWuNwAXDuqquXZJu1TCvTuwIem4OHEu2UnASWb2npktNrNx1MLMJptZgZkVlJaWHlvFIk1EMBQmOPs+cm0XDySN2m8/t1+aKxNJLdytlnOuxnEAGACcB0wCHjGzDoe8ybnpzrmRzrmReXl5R1urSJMxY0kRN0x7l/G7Z7MkNpCgOxnQqF2ajlTCvRjokXScD2yqpc1c51yFc+4LYDXxsBfxnGAozD1zV3AJH5BvW6vujZrtN43apclIJdw/AgaYWR8zywauB+bVaDMHOB/AzHKJT9MU1mehIk3F7KXFRGMxbg/MZ02sO2+4Edx4Zk9diSpNSp2rZZxzETO7A3gV8AOPOedWmtlUoMA5Ny/x2sVm9hkQBf7LObetIQsXSYdgKMySwm2c7VvBYF+I/6qYzIhenfn1VaemuzSRalK6WYdzbgGwoMa5KUnPHfCjxEPEk2YsKeKeuSuIxhw/z3qJEteBudExXKM17dIE6QpVkRTMWFLE3S8uJxpznGqFfNW/Ir5fuz9ba9qlSdJt9kTqUPkBauUSse8E5rPLtWJZ16uZOeEMzbNLk6SRu0gd4h+gxqO9p5Uw3reEmbEL+S8FuzRhGrmL1KG07EDV81v9rxAzP2fd8DNOU7BLE6aRu0gdduwtB6Ade7jWv4iCNudz2qCBaa5K5MgU7iJHEAyFKQiFAfi6/y3a2H4Kuk1Kc1UidVO4ixzB7KXFxBwEiHBL4FXejw3mK2dfkO6yROqkcBc5gsr59vG+D+lu23i703X6EFUygsJd5Aji8+2O2wILWBfrxhcdx6S7JJGUKNxFDqNyvn2krWaor5DHouPp3K5lussSSYnCXeQwpi1aR8zBbYGFhF0bXox9VVejSsZQuIvUIhgK8/qqEnpaCRf7Cng6ehFjBvXUfLtkDIW7SC0qV8nc6n+FCD6ejo7VXu2SURTuIrUoLTtAZ3Zyvf8t5sXG0KtXX43aJaMo3EVqsWH7Xm4OvEZLK+cvkSvp0Co73SWJHBWFu0gNv1uwii++3Mq/+f/B69HTKXQnkts2J91liRwVhbtIkhlLipj2diET/O/TyXbzcORyDLRKRjKOwl0koXLfdohxm38BK2O9WOIG8p1zNN8umUfhLpJQuW/7eb5PGODbyPTIZdx+Tj/uunRQuksTOWraz10koXIfmdv8C9jkOrGlx3juV7BLhtLIXSRhx95yBtt6xvhX8rfIJbRt3SrdJYkcM4W7CAf3kflWYCG7XQtmRi/QChnJaAp3EeLz7bkuzBW+93k+eg67rbVWyEhGU7iLEJ9v/2ZgIX5iPBYdz8heHbVCRjKawl0EaBndzY3+N3g5Npoi11VXpErGU7iLAKO2zaGt7WNa5Ip0lyJSL7QUUpq9pYUlXFA2l/djg1npegPow1TJeBq5S7O3bOFjdLPtTI9eBoDPtN2AZD6N3KVZC67fzpiSZ1hNPotiQwG4cFBXfZgqGU8jd2m2gqEwL89+gpN9G/hr5AocPnyGbsohnqBwl2YpGAoz6eHFXLLj7xS7XF6KnQWgJZDiGQp3aZZmLy3mlOjnnOn7nEcj44kkZij7d22b5spE6kdK4W5m48xstZmtNbO7jtDuGjNzZjay/koUqX+lZQf498BLhF0bZkXPByDbb/ogVTyjznA3Mz/wIDAeGAxMMrPBtbRrC3wPWFLfRYrUt9a71jDWH+Rv0YvZRwv6d2nDzMlnaUpGPCOVkfsoYK1zrtA5Vw7MAibU0u6XwO+B/fVYn0i9C4bCjCmZwT6Xzd8iFwMwqk8nBbt4Sirh3h3YkHRcnDhXxcxOB3o45+bXY20iDeL1xUuZ4HuPWdHzCdNO69rFk1IJd6vlnKt60cwH3Af8uM5vZDbZzArMrKC0tDT1KkXq0eDQ0xiOR6OXAlohI96USrgXAz2SjvOBTUnHbYFTgH+a2XpgNDCvtg9VnXPTnXMjnXMj8/Lyjr1qkWO07F/rOX/PAl6OjabYxf8OaoWMeFEq4f4RMMDM+phZNnA9MK/yRefcTudcrnOut3OuN7AYuNI5V9AgFYsch9I3H6CN7eehyJWAthoQ76oz3J1zEeAO4FVgFfCsc26lmU01sysbukCRenOgjNEls3gjejqfu56ApmTEu1LaW8Y5twBYUOPclMO0Pe/4yxKpf8WvPUi+K+PPkauqzmlKRrxKV6hK81Cxn/bLpvNudAjLXH9AUzLibQp3aR4+nUXbyDYeih6cSdSUjHiZtvwV74vF2L/ofop8/XgvdkrVad1KT7xMI3fxvLfn/40Wuwr5v/2XknzZhu62JF6mkbt4WnD9dtoV/JkN5LEwNqrqvDYJE6/TyF087Z1XnmWYbx0PRCcSxQ/A0Pz22iRMPE/hLp41Y0kRIzY+zRbXgRejZwPxFTJTrhiiYBfPU7iLJwVDYWbPm81X/ct5NDKecrIw4FcTT1WwS7OgOXfxpGmL1nG7bw7bXRueio7FDH498VRuOLNnuksTaRQauYvnBENh1n6+jIv8H/Nk9GL20oKLBnVVsEuzonAXz5m2aB23+eZzwGXxdGQsPoPbz+2X7rJEGpXCXTwlGAqzatUKrvG/zbPRc9lKey4c1FXz7NLsKNzFU2YvLeYHgedw+HgwMkGjdmm2FO7iGcFQmE1rPuEq33s8Hr2EL+ms/WOk2VK4iycEQ2EmPbyYq8qeZj/ZPBy5DNCWvtJ8KdzFE6YtWkff6Hqu9H/A49FL2EZ7bTEgzZrWuUvGC4bCvL6qhIcCz7PLtWR65HKG5rfXlajSrGnkLhlv9tJihlDIJf4CHo5cRpm1UbBLs6dwl4xXWnaAOwPPst214fHoOH2IKoLCXTyg244CzvV/ykORK9lNq3SXI9IkKNwlsznH1Tse50vXkSejFwOwfU95mosSST+Fu2S0RS89yWmxz/lz5CoOEL9tXp+8NmmuSiT9tFpGMlbwiy30CP6Wte5E/h49D4iPVnRFqohG7pLB1sy/j762md9FJhEhgBn86irt1y4CGrlLhlq2eh2Xbn2Ct2On8npsOIC29RVJopG7ZKRdr/+R1uxjauTfANMGYSI1KNwl8+zcyJmlLzAv9hXWuvj2AlrbLlKdwl0yTvjFO3Euxp8i11ad0wZhItUp3CWzrHuTjusX8EBkIsWuCwA+QxuEidSgcJfMESmHBT9hs/9EpkcvrzqtKRmRQyncJXN88ABsW8NP999EOVlVpzUlI3Iohbtkhp3FsOj3fNbuq7wVHVZ1WlMyIrVTuEtmePVuwPFAzreqndaUjEjtUgp3MxtnZqvNbK2Z3VXL6z8ys8/M7FMze8PMetV/qdJsrX4FPpvDxlP/g4Ubsqu9pCkZkdrVGe5m5gceBMYDg4FJZja4RrOPgZHOudOA54Hf13eh0kwd2A0L7oS8gdy56Vxc0kuGpmREDieVkfsoYK1zrtA5Vw7MAiYkN3DOveWc25s4XAzovzipH6//HHYW8/kZv+KD0O5qL/XLa60pGZHDSCXcuwMbko6LE+cO51vAwuMpSgSA0Pvw0SMw+t95auMJh7z8zbP7pqEokcyQSrhbLedcLecws5uAkcAfDvP6ZDMrMLOC0tLS1KuU5qdiP7z0fWjfEy74GaVlB6q9POiEttokTOQIUgn3YqBH0nE+sKlmIzO7CLgbuNI5d6Dm6wDOuenOuZHOuZF5eXnHUq80F4vuha3/giv+l+DmcgpLq0/J9Oik2+mJHEkqW/5+BAwwsz7ARuB64IbkBmZ2OjANGOec21LvVUrzsuVzeO9+GHYjwazhTHp4MeWRWLUmuW1z0lScSGaoc+TunIsAdwCvAquAZ51zK81sqpldmWj2B6AN8JyZLTOzeQ1WsXhbtALm3A4t2sHYqcxeWnxIsGf7TatkROqQ0s06nHMLgAU1zk1Jen5RPdclzdWie2HTx3Ddk9A6lzUl/6r2cv8ubbj36tO0SkakDrpCVZqOoiXwzp9g6A0weALBUJiCULhak1F9OinYRVKgcJem4UAZvDgZ2ufD+HsBmL20mFjSuiztIyOSOt1DVZqGV/4bwiG4dQG0aEcwFGZJ4bZqTbSPjEjqFO6Sfsufh4+fgrN/CL2+QjAUrnWFjPaREUmdpmUkvbZ/AfO+Bz1Gw/l3AzBt0TqtkBE5Thq5S/qU74FnbwZ/AK5+BPxZBENhXl9VUq3Z0Pz2TLliiKZkRI6Cwl3SwzmYeweUrIBJs6BDD2YsKeL/3vjXIR+iKthFjp7CXdLjvfth5Wy44B446RJ+t2AVf3278JBmFw7qqmAXOQYKd2l8696C138BQ64i2PNWXnhxOTM/LDqkWbbfuP3cfo1fn4gHKNylcW1dC8/fCrknsXT4b5j0yIeHfHgKcPHgrnzn3H4atYscI4W7NJ6yL+Hpq8D8cMMsXli07ZBg9xlM/mpf7rp0UJqKFPEGhbs0jn074OmrYc82uGU+dOrLmpL3qzXRvjEi9UfhLg1v/06YcR2UroYbn4Xuw7VvjEgDU7hLw9qzFZ7+GpSshGseg34XEAyFmfrSSu0bI9KAFO7ScHZuhKcmwo4iuH4mnHQxM5YUMWXuCiKx6ndq1JJHkfqlcJeGsW0dPDkR9oXhptnQewwzlhTxsznLqZHrWvIo0gAU7lL/SlbGg91F4ZaX4MTTaw12v8H1o3ryteH5GrWL1DOFu9Sv4oL4qpisVnDzfMg7udZg9xn8cuKp3HBmz/TVKuJhCnc5bsFQmMWF27jEX0D/d34IbbrCzXOhYy+CoTBT5q44JNh/pWAXaVAKdzkuwVCYGx5+n2+7OfQNPMfuLkNpc/Oz0LYrAIsLtxFNSnYFu0jjULjLMakcra9dH+Kvdi/nBz5hTvQrfHzCL/mfRLADjO7bmZwsH+UVMXw+Y+qEUxTsIo1A4S4pCYbCvLC0GAOGnNieqfNX0je6nulZf6SLL8zPKm7l6ehF3ODLqfa+Eb068sxto1lcuI3RfTvrg1ORRqJwlzrNWFLEPXOWE03Mrvh9xmX2Hr/KepS9tOC6il/wSazfYe+WNEL3PhVpdAp3OUTllMvovp0BmDJ3RVWw57GDn/v/xuX+JSyN9edH7gdMnnAuY/eWa2Qu0oQo3KWayitIY86RHfBx9fD8xAeijmv9i7g78AytOMAnA/6Txd1u4k/9dGWpSFOkcJcqNdejl0diOGBkViE/sac4w7eaf7U4lfLx9zF06BkMTWu1InIkCvdmrLbpl+T16L1sC3fumkEn/3z2ZnUidMZvOemi28HnS1PFIpIqhbvHJQd48vRJMBTmxkcWUx6J1Zh+ic+r3x54iVuyXsNfnA3n/IRWY75Hr5y26eqGiBwlhbsHVQZ6x1bZTJ2/sirAn7ltdFXALy6M3wUp5qAiMf0yOGsTN7v5XOV/l4DF8A27Ec6/G9p1S2+HROSoKdwzXM2RefKI3GdGzLmqAF9cuK0q3Ef37Ux2wEeLSBmXZX3EXV8uo63/Qyp8OYRPup4uY38EnbVTo0imUrhnsGAozKSHF1MRiZEV8DHz26OrjchxDp/PMBxZAV/V3DrhECM2L+TD/Lm0/nIJfheFyAC44B6yRtxKl9ad09ovETl+CvcMNm3RuqobTJdHYsxeWszXhueTHfBVBf6Uy4cQ3rOfC9pvZtC6B2HBQihZAUC7vIEw5nsw6Ao4cTiYpbM7IlKPFO4ZqHIrgNdXlVQ774hfDTrrppMpWvEeI7JDdF8/AzZ8CLu/BPNBz7Pg4l/DyeM17SLiYSmFu5mNA+4H/MAjzrnf1Xg9B3gSGAFsA77unFtfv6VKZag/HyymIhKjLbvpbSX0s00M8G3kxm1lcN86hu0sYljlmzr2gd5joP9YOOkSaNUpnV0QkUZSZ7ibmR94EBgLFAMfmdk859xnSc2+BYSdc/3N7HrgXuDrDVFws1CxD/Zuh33b+dcXRYRC68h121m5ahVnu+3PxxKLAAAF60lEQVRc59tKz5wtdLLdVW+JmR9f+UDocQac8S048XToNhRadkhjR0QkXVIZuY8C1jrnCgHMbBYwAUgO9wnALxLPnwceMDNzztW4W2YdKvZD2WbAQfJbXfzy92rPq16v7blL8X0c+X11/YxYBCLlENkP0cTXyIHEI/lc0mvRA4dpcwAOlMVDPbKvqusnJR4A/a0lW+jARpfLwtiZbLATyO83hNNPH8WQIUMhkH1Uf9wi4l2phHt3YEPScTFw5uHaOOciZrYT6AxsPapqNi2Fx8cf1VuaPH8OBFrEgzfQAvzZ1Y8DLaBFh/hxTjto2TH+aNWJVwrLeXLZLkpcB7a4TuzztcI5h99nXDuyh+49KiKHlUq417aEouaIPJU2mNlkYDJAz5613LChc3+Y+NfKxvFvW7WCw6qv5qh8/XDPa32fpfA+Un+fLwCBnMSjluD2Zx/XCpS8vDBLlyeWOmb5mHr5EMLafVFEUpBKuBcDPZKO84FNh2lTbGYBoD2wveY3cs5NB6YDjBw58tApmzZdYNiklApvDnSjCxE5VqmE+0fAADPrA2wErgduqNFmHvAN4APgGuDNo55vl1rpRhcicizqDPfEHPodwKvEl0I+5pxbaWZTgQLn3DzgUeApM1tLfMR+fUMWLSIiR2bpGmCbWSkQSssPr10uR/sBcOZrbn1Wf72vOfS5l3Mur65GaQv3psbMCpxzI9NdR2Nqbn1Wf72vOfb5cHTXBRERD1K4i4h4kML9oOnpLiANmluf1V/va459rpXm3EVEPEgjdxERD2pW4W5m681suZktM7OCxLlOZvaama1JfO2YOG9m9n9mttbMPjWz4emt/uiZWQcze97MPjezVWZ2llf7a2YnJ36vlY9dZvYDr/a3kpn90MxWmtkKM5tpZi3MrI+ZLUn0+e9mlp1om5M4Xpt4vXd6qz96Zvb9RF9XmtkPEuc8/Ts+Vs0q3BPOd84NS1oudRfwhnNuAPBG4hhgPDAg8ZgMPNTolR6/+4FXnHMDgaHAKjzaX+fc6sTvdRjx+wrsBV7Eo/0FMLPuwPeAkc65U4hfZFi55fZ9iT6HiW/JDUlbcwP3JdplDDM7Bfg28Z1qhwKXm9kAPPw7Pi7OuWbzANYDuTXOrQa6JZ53A1Ynnk8DJtXWLhMeQDvgCxKfq3i9vzX6eDHwntf7y8HdWDsRv9p8PnAJ8Yt4Aok2ZwGvJp6/CpyVeB5ItLN01H6M/b2W+M2CKo/vAX7i5d/x8Tya28jdAf8ws2Bih0qArs65zQCJr10S52vb6rh7o1V6/PoCpcDjZvaxmT1iZq3xbn+TXQ/MTDz3bH+dcxuBPwJFwGZgJxAEdjjnIolmyf2qtjV3on0m3Q19BXCOmXU2s1bApcQ3LPTs7/h4NLdwH+OcG078n2v/YWbnHKFtStsYN2EBYDjwkHPudGAPB/+5WptM7y8AifnlK4Hn6mpay7mM6m9ibnkC0Ac4EWhN/O92TZX9yug+O+dWEZ9Keg14BfgEiBzhLRnd3+PVrMLdObcp8XUL8fnYUUCJmXUDSHzdkmieylbHTVkxUOycW5I4fp542Hu1v5XGA0udc5V3D/dyfy8CvnDOlTrnKoDZwFeADomtt6F6v6r6fKStuZsy59yjzrnhzrlziNe+Bm//jo9Zswl3M2ttZm0rnxOfl13Bwe2KSXydm3g+D7g58Yn7aGBn5T/9MoFz7ktgg5mdnDh1IfFbI3qyv0kmcXBKBrzd3yJgtJm1MjPj4O/4LeJbb8Ohfa78s8jIrbnNrEvia0/ga8R/117+HR+7dE/6N9aD+Bz0J4nHSuDuxPnOxD9hX5P42ilx3ojfGHwdsJz4ioS09+Mo+zwMKAA+BeYAHT3e31bANqB90jnP9jfRj/8BPic+UHkKyEn8Xf8QWEt8eion0bZF4nht4vW+6a7/GPr7DvH/gX0CXNgcfsfH+tAVqiIiHtRspmVERJoThbuIiAcp3EVEPEjhLiLiQQp3EREPUriLiHiQwl1ExIMU7iIiHvT/AYnt62ih0+c/AAAAAElFTkSuQmCC\n",
      "text/plain": [
       "<matplotlib.figure.Figure at 0x26f3eedb828>"
      ]
     },
     "metadata": {},
     "output_type": "display_data"
    }
   ],
   "source": [
    "x,y = ecdf(i)\n",
    "plt.plot(x,y,marker='.',linestyle='none')\n",
    "plt.margins(0.02)\n",
    "samples = np.random.normal(mu,sigma,100000)\n",
    "x_s,y_s = ecdf(samples)\n",
    "plt.plot(x_s,y_s)\n",
    "plt.show()"
   ]
  },
  {
   "cell_type": "markdown",
   "metadata": {},
   "source": [
    "The cumulative density function of the sample versus the normal cdf given the sample's mean and standard deviation lie very close to one another. This indicates that the Central Limit Theorem is most likely applicable for the sample."
   ]
  },
  {
   "cell_type": "code",
   "execution_count": null,
   "metadata": {},
   "outputs": [],
   "source": []
  },
  {
   "cell_type": "code",
   "execution_count": null,
   "metadata": {},
   "outputs": [],
   "source": []
  },
  {
   "cell_type": "code",
   "execution_count": null,
   "metadata": {},
   "outputs": [],
   "source": []
  }
 ],
 "metadata": {
  "kernelspec": {
   "display_name": "Python 3",
   "language": "python",
   "name": "python3"
  },
  "language_info": {
   "codemirror_mode": {
    "name": "ipython",
    "version": 3
   },
   "file_extension": ".py",
   "mimetype": "text/x-python",
   "name": "python",
   "nbconvert_exporter": "python",
   "pygments_lexer": "ipython3",
   "version": "3.6.4"
  }
 },
 "nbformat": 4,
 "nbformat_minor": 2
}
