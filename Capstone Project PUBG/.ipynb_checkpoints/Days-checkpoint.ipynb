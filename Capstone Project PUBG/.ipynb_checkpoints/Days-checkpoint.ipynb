{
 "cells": [
  {
   "cell_type": "markdown",
   "metadata": {},
   "source": [
    "# When Will You Die In PLAYERUNKNOWN'S BATTLEGROUNDS?\n",
    "\n",
    "## What is PLAYERUNKNOWN'S BATTLEGROUNDS?\n",
    "\n",
    "PLAYERUNKNOWN'S BATTLEGROUNDS, aka PUBG, is a Battle Royale online game with an enormous player community. A battle royale game has typically 100 players in an arena with weapons and items scattered throughout the arena, where players drop into the map and try to gether loot in order to outlive everybody else.\n",
    "\n",
    "##"
   ]
  },
  {
   "cell_type": "code",
   "execution_count": 1,
   "metadata": {},
   "outputs": [],
   "source": [
    "import pandas as pd\n",
    "import numpy as np\n",
    "import matplotlib.pyplot as plt\n",
    "import seaborn as sns\n",
    "from scipy.stats import norm"
   ]
  },
  {
   "cell_type": "code",
   "execution_count": 2,
   "metadata": {},
   "outputs": [
    {
     "name": "stdout",
     "output_type": "stream",
     "text": [
      "<class 'pandas.core.frame.DataFrame'>\n",
      "Int64Index: 99995 entries, 0 to 19998\n",
      "Data columns (total 15 columns):\n",
      "date                   99995 non-null object\n",
      "game_size              99995 non-null int64\n",
      "match_id               99995 non-null object\n",
      "match_mode             99995 non-null object\n",
      "party_size             99995 non-null int64\n",
      "player_assists         99995 non-null int64\n",
      "player_dbno            99995 non-null int64\n",
      "player_dist_ride       99995 non-null float64\n",
      "player_dist_walk       99995 non-null float64\n",
      "player_dmg             99995 non-null int64\n",
      "player_kills           99995 non-null int64\n",
      "player_name            99841 non-null object\n",
      "player_survive_time    99995 non-null float64\n",
      "team_id                99995 non-null int64\n",
      "team_placement         99995 non-null int64\n",
      "dtypes: float64(3), int64(8), object(4)\n",
      "memory usage: 12.2+ MB\n",
      "None\n",
      "       game_size match_mode  party_size       player_name  \\\n",
      "494           91        tpp           1             Satch   \n",
      "495           91        tpp           1    osamabinlaggon   \n",
      "496           91        tpp           1        dengboyu76   \n",
      "497           91        tpp           1        GOGingmimi   \n",
      "498           91        tpp           1    AtomicBrunette   \n",
      "499           91        tpp           1             MIUI6   \n",
      "500           91        tpp           1          LORD_JTR   \n",
      "501           91        tpp           1      DongMing1986   \n",
      "502           91        tpp           1         Prima_Top   \n",
      "503           91        tpp           1         xxfffffff   \n",
      "504           91        tpp           1          dsadwada   \n",
      "505           91        tpp           1         masami-_-   \n",
      "506           91        tpp           1    rinimabishagou   \n",
      "507           91        tpp           1     Johnnie_Nutts   \n",
      "508           91        tpp           1          jprodigy   \n",
      "509           91        tpp           1           TB_dong   \n",
      "510           91        tpp           1        delaidfast   \n",
      "511           91        tpp           1       jordy140420   \n",
      "512           91        tpp           1            Duo_hw   \n",
      "513           91        tpp           1       a2741458298   \n",
      "514           91        tpp           1             sdjdd   \n",
      "515           91        tpp           1         JuXinM4a1   \n",
      "516           91        tpp           1       Liush1yaNG_   \n",
      "517           91        tpp           1      xiaozhangcjw   \n",
      "518           91        tpp           1         hyh981118   \n",
      "519           91        tpp           1          Timor001   \n",
      "520           91        tpp           1      siliymaui125   \n",
      "521           91        tpp           1           MLBBear   \n",
      "522           91        tpp           1           dearW11   \n",
      "523           91        tpp           1         Energy-Jx   \n",
      "...          ...        ...         ...               ...   \n",
      "19679         96        tpp           1            FemJay   \n",
      "19680         96        tpp           1           moxi123   \n",
      "19681         96        tpp           1  XiaoYuanEBa_zzuC   \n",
      "19682         96        tpp           1           xgs1997   \n",
      "19683         96        tpp           1    Demon_Zero1672   \n",
      "19684         96        tpp           1    TheCloudsurfer   \n",
      "19685         96        tpp           1     Frankieeeeeee   \n",
      "19686         96        tpp           1         Rayzer623   \n",
      "19687         96        tpp           1          Mr-STIHL   \n",
      "19688         96        tpp           1         conjuswow   \n",
      "19689         96        tpp           1       hellbob5050   \n",
      "19690         96        tpp           1           G0DL1k3   \n",
      "19691         96        tpp           1     GILIGILIAI_16   \n",
      "19692         96        tpp           1         DiamondMX   \n",
      "19693         96        tpp           1         ShiBoi228   \n",
      "19694         96        tpp           1      Crazy_Dashie   \n",
      "19695         96        tpp           1  BlurberrySpecial   \n",
      "19696         96        tpp           1         Diooooooy   \n",
      "19697         96        tpp           1   zhendebuyaodawo   \n",
      "19698         96        tpp           1     eatDVDchicken   \n",
      "19699         96        tpp           1       Teaaaaaaaaa   \n",
      "19700         96        tpp           1        CaoHaoKing   \n",
      "19701         96        tpp           1         410637667   \n",
      "19702         96        tpp           1           biertje   \n",
      "19703         96        tpp           1         Tenebros0   \n",
      "19704         96        tpp           1      Ericsuperman   \n",
      "19705         96        tpp           1          Jedburgh   \n",
      "19706         96        tpp           1          TmaXXamT   \n",
      "19707         96        tpp           1          laihaima   \n",
      "19708         96        tpp           1            Anal1G   \n",
      "\n",
      "       player_survive_time  team_placement  \\\n",
      "494                186.999              79   \n",
      "495                124.782              87   \n",
      "496                839.161              35   \n",
      "497                751.716              46   \n",
      "498                744.088              47   \n",
      "499                108.231              90   \n",
      "500               1006.527              29   \n",
      "501                741.473              48   \n",
      "502                290.769              67   \n",
      "503                337.259              63   \n",
      "504               1020.411              27   \n",
      "505                214.808              76   \n",
      "506                165.839              80   \n",
      "507                665.444              53   \n",
      "508                125.975              85   \n",
      "509               1111.732              21   \n",
      "510                345.475              62   \n",
      "511                426.540              58   \n",
      "512                249.322              72   \n",
      "513               1010.649              28   \n",
      "514               1958.935               1   \n",
      "515                199.623              78   \n",
      "516                351.842              61   \n",
      "517               1123.503              20   \n",
      "518                772.476              44   \n",
      "519               1335.668              26   \n",
      "520                799.851              42   \n",
      "521                936.479              30   \n",
      "522                764.254              45   \n",
      "523                248.997              73   \n",
      "...                    ...             ...   \n",
      "19679             1478.955              14   \n",
      "19680             1884.442               4   \n",
      "19681              613.949              46   \n",
      "19682              240.773              79   \n",
      "19683              241.894              78   \n",
      "19684              644.155              45   \n",
      "19685              611.201              47   \n",
      "19686              301.197              67   \n",
      "19687              151.125              89   \n",
      "19688              438.594              56   \n",
      "19689             1963.001               2   \n",
      "19690              688.773              42   \n",
      "19691             1301.142              21   \n",
      "19692             1208.306              23   \n",
      "19693              818.120              37   \n",
      "19694              294.018              69   \n",
      "19695             1171.260              24   \n",
      "19696             1643.649               9   \n",
      "19697              469.720              55   \n",
      "19698              112.574              93   \n",
      "19699              161.477              88   \n",
      "19700              195.770              84   \n",
      "19701               96.663              95   \n",
      "19702              952.942              35   \n",
      "19703              476.108              54   \n",
      "19704             1710.061               6   \n",
      "19705              802.410              38   \n",
      "19706             1170.334              25   \n",
      "19707              180.052              87   \n",
      "19708             1886.849               3   \n",
      "\n",
      "                                                match_id  \n",
      "494    2U4GBNA0YmlixJ6lhgS6xB2tqdo7SEhoYyHlVu18akkAzL...  \n",
      "495    2U4GBNA0YmlixJ6lhgS6xB2tqdo7SEhoYyHlVu18akkAzL...  \n",
      "496    2U4GBNA0YmlixJ6lhgS6xB2tqdo7SEhoYyHlVu18akkAzL...  \n",
      "497    2U4GBNA0YmlixJ6lhgS6xB2tqdo7SEhoYyHlVu18akkAzL...  \n",
      "498    2U4GBNA0YmlixJ6lhgS6xB2tqdo7SEhoYyHlVu18akkAzL...  \n",
      "499    2U4GBNA0YmlixJ6lhgS6xB2tqdo7SEhoYyHlVu18akkAzL...  \n",
      "500    2U4GBNA0YmlixJ6lhgS6xB2tqdo7SEhoYyHlVu18akkAzL...  \n",
      "501    2U4GBNA0YmlixJ6lhgS6xB2tqdo7SEhoYyHlVu18akkAzL...  \n",
      "502    2U4GBNA0YmlixJ6lhgS6xB2tqdo7SEhoYyHlVu18akkAzL...  \n",
      "503    2U4GBNA0YmlixJ6lhgS6xB2tqdo7SEhoYyHlVu18akkAzL...  \n",
      "504    2U4GBNA0YmlixJ6lhgS6xB2tqdo7SEhoYyHlVu18akkAzL...  \n",
      "505    2U4GBNA0YmlixJ6lhgS6xB2tqdo7SEhoYyHlVu18akkAzL...  \n",
      "506    2U4GBNA0YmlixJ6lhgS6xB2tqdo7SEhoYyHlVu18akkAzL...  \n",
      "507    2U4GBNA0YmlixJ6lhgS6xB2tqdo7SEhoYyHlVu18akkAzL...  \n",
      "508    2U4GBNA0YmlixJ6lhgS6xB2tqdo7SEhoYyHlVu18akkAzL...  \n",
      "509    2U4GBNA0YmlixJ6lhgS6xB2tqdo7SEhoYyHlVu18akkAzL...  \n",
      "510    2U4GBNA0YmlixJ6lhgS6xB2tqdo7SEhoYyHlVu18akkAzL...  \n",
      "511    2U4GBNA0YmlixJ6lhgS6xB2tqdo7SEhoYyHlVu18akkAzL...  \n",
      "512    2U4GBNA0YmlixJ6lhgS6xB2tqdo7SEhoYyHlVu18akkAzL...  \n",
      "513    2U4GBNA0YmlixJ6lhgS6xB2tqdo7SEhoYyHlVu18akkAzL...  \n",
      "514    2U4GBNA0YmlixJ6lhgS6xB2tqdo7SEhoYyHlVu18akkAzL...  \n",
      "515    2U4GBNA0YmlixJ6lhgS6xB2tqdo7SEhoYyHlVu18akkAzL...  \n",
      "516    2U4GBNA0YmlixJ6lhgS6xB2tqdo7SEhoYyHlVu18akkAzL...  \n",
      "517    2U4GBNA0YmlixJ6lhgS6xB2tqdo7SEhoYyHlVu18akkAzL...  \n",
      "518    2U4GBNA0YmlixJ6lhgS6xB2tqdo7SEhoYyHlVu18akkAzL...  \n",
      "519    2U4GBNA0YmlixJ6lhgS6xB2tqdo7SEhoYyHlVu18akkAzL...  \n",
      "520    2U4GBNA0YmlixJ6lhgS6xB2tqdo7SEhoYyHlVu18akkAzL...  \n",
      "521    2U4GBNA0YmlixJ6lhgS6xB2tqdo7SEhoYyHlVu18akkAzL...  \n",
      "522    2U4GBNA0YmlixJ6lhgS6xB2tqdo7SEhoYyHlVu18akkAzL...  \n",
      "523    2U4GBNA0YmlixJ6lhgS6xB2tqdo7SEhoYyHlVu18akkAzL...  \n",
      "...                                                  ...  \n",
      "19679  2U4GBNA0YmneMQBd6JvO4m6cwi2rvsqE2XO_zAPYxJHMY7...  \n",
      "19680  2U4GBNA0YmneMQBd6JvO4m6cwi2rvsqE2XO_zAPYxJHMY7...  \n",
      "19681  2U4GBNA0YmneMQBd6JvO4m6cwi2rvsqE2XO_zAPYxJHMY7...  \n",
      "19682  2U4GBNA0YmneMQBd6JvO4m6cwi2rvsqE2XO_zAPYxJHMY7...  \n",
      "19683  2U4GBNA0YmneMQBd6JvO4m6cwi2rvsqE2XO_zAPYxJHMY7...  \n",
      "19684  2U4GBNA0YmneMQBd6JvO4m6cwi2rvsqE2XO_zAPYxJHMY7...  \n",
      "19685  2U4GBNA0YmneMQBd6JvO4m6cwi2rvsqE2XO_zAPYxJHMY7...  \n",
      "19686  2U4GBNA0YmneMQBd6JvO4m6cwi2rvsqE2XO_zAPYxJHMY7...  \n",
      "19687  2U4GBNA0YmneMQBd6JvO4m6cwi2rvsqE2XO_zAPYxJHMY7...  \n",
      "19688  2U4GBNA0YmneMQBd6JvO4m6cwi2rvsqE2XO_zAPYxJHMY7...  \n",
      "19689  2U4GBNA0YmneMQBd6JvO4m6cwi2rvsqE2XO_zAPYxJHMY7...  \n",
      "19690  2U4GBNA0YmneMQBd6JvO4m6cwi2rvsqE2XO_zAPYxJHMY7...  \n",
      "19691  2U4GBNA0YmneMQBd6JvO4m6cwi2rvsqE2XO_zAPYxJHMY7...  \n",
      "19692  2U4GBNA0YmneMQBd6JvO4m6cwi2rvsqE2XO_zAPYxJHMY7...  \n",
      "19693  2U4GBNA0YmneMQBd6JvO4m6cwi2rvsqE2XO_zAPYxJHMY7...  \n",
      "19694  2U4GBNA0YmneMQBd6JvO4m6cwi2rvsqE2XO_zAPYxJHMY7...  \n",
      "19695  2U4GBNA0YmneMQBd6JvO4m6cwi2rvsqE2XO_zAPYxJHMY7...  \n",
      "19696  2U4GBNA0YmneMQBd6JvO4m6cwi2rvsqE2XO_zAPYxJHMY7...  \n",
      "19697  2U4GBNA0YmneMQBd6JvO4m6cwi2rvsqE2XO_zAPYxJHMY7...  \n",
      "19698  2U4GBNA0YmneMQBd6JvO4m6cwi2rvsqE2XO_zAPYxJHMY7...  \n",
      "19699  2U4GBNA0YmneMQBd6JvO4m6cwi2rvsqE2XO_zAPYxJHMY7...  \n",
      "19700  2U4GBNA0YmneMQBd6JvO4m6cwi2rvsqE2XO_zAPYxJHMY7...  \n",
      "19701  2U4GBNA0YmneMQBd6JvO4m6cwi2rvsqE2XO_zAPYxJHMY7...  \n",
      "19702  2U4GBNA0YmneMQBd6JvO4m6cwi2rvsqE2XO_zAPYxJHMY7...  \n",
      "19703  2U4GBNA0YmneMQBd6JvO4m6cwi2rvsqE2XO_zAPYxJHMY7...  \n",
      "19704  2U4GBNA0YmneMQBd6JvO4m6cwi2rvsqE2XO_zAPYxJHMY7...  \n",
      "19705  2U4GBNA0YmneMQBd6JvO4m6cwi2rvsqE2XO_zAPYxJHMY7...  \n",
      "19706  2U4GBNA0YmneMQBd6JvO4m6cwi2rvsqE2XO_zAPYxJHMY7...  \n",
      "19707  2U4GBNA0YmneMQBd6JvO4m6cwi2rvsqE2XO_zAPYxJHMY7...  \n",
      "19708  2U4GBNA0YmneMQBd6JvO4m6cwi2rvsqE2XO_zAPYxJHMY7...  \n",
      "\n",
      "[20054 rows x 7 columns]\n"
     ]
    }
   ],
   "source": [
    "d = pd.read_csv('data/agg_match_stats_1k.csv')\n",
    "e = pd.read_csv('data/agg_match_stats_2k.csv')\n",
    "a = pd.read_csv('data/agg_match_stats_3k.csv')\n",
    "t = pd.read_csv('data/agg_match_stats_4k.csv')\n",
    "h = pd.read_csv('data/agg_match_stats_5k.csv')\n",
    "x = pd.concat([d,e,a,t,h])\n",
    "#d=d[d.party_size==1]\n",
    "f = x[['game_size','match_mode','party_size','player_name','player_survive_time','team_placement','match_id']]\n",
    "f['match_id'].astype(str)\n",
    "f = f[f.party_size == 1]\n",
    "f = f[f.player_survive_time <= 2000]\n",
    "y = f[f.team_placement >= 75]\n",
    "print(x.info())\n",
    "print(f)"
   ]
  },
  {
   "cell_type": "code",
   "execution_count": 36,
   "metadata": {},
   "outputs": [
    {
     "data": {
      "text/plain": [
       "224"
      ]
     },
     "execution_count": 36,
     "metadata": {},
     "output_type": "execute_result"
    }
   ],
   "source": [
    "t = f.match_id\n",
    "len(t.unique())\n"
   ]
  },
  {
   "cell_type": "markdown",
   "metadata": {},
   "source": [
    "## Trends in the sample"
   ]
  },
  {
   "cell_type": "code",
   "execution_count": 3,
   "metadata": {},
   "outputs": [
    {
     "name": "stdout",
     "output_type": "stream",
     "text": [
      "team_placement\n",
      "1     1875.167810\n",
      "2     1876.691854\n",
      "3     1824.539949\n",
      "4     1766.245115\n",
      "5     1729.136050\n",
      "6     1681.644735\n",
      "7     1647.661454\n",
      "8     1614.920253\n",
      "9     1584.503170\n",
      "10    1552.207138\n",
      "11    1524.516837\n",
      "12    1494.531694\n",
      "13    1468.598203\n",
      "14    1446.108305\n",
      "15    1415.670177\n",
      "16    1389.271452\n",
      "17    1367.995194\n",
      "18    1331.880315\n",
      "19    1298.605152\n",
      "20    1267.635316\n",
      "21    1242.297832\n",
      "22    1208.943169\n",
      "23    1182.368663\n",
      "24    1148.920024\n",
      "25    1120.581816\n",
      "26    1097.680322\n",
      "27    1067.097827\n",
      "28    1029.518365\n",
      "29    1018.568602\n",
      "30     990.544315\n",
      "         ...     \n",
      "70     230.277366\n",
      "71     217.353010\n",
      "72     219.577121\n",
      "73     213.843685\n",
      "74     195.350098\n",
      "75     196.412884\n",
      "76     200.631826\n",
      "77     184.706525\n",
      "78     180.454152\n",
      "79     178.203135\n",
      "80     165.376043\n",
      "81     178.114837\n",
      "82     167.785897\n",
      "83     157.130969\n",
      "84     162.735794\n",
      "85     150.426516\n",
      "86     151.373033\n",
      "87     132.247475\n",
      "88     137.792358\n",
      "89     167.831301\n",
      "90     156.633818\n",
      "91     134.168974\n",
      "92     164.374988\n",
      "93     137.130404\n",
      "94     164.324774\n",
      "95     193.631400\n",
      "96     180.010126\n",
      "97     205.367882\n",
      "98     161.330050\n",
      "99     269.341043\n",
      "Name: player_survive_time, Length: 99, dtype: float64\n",
      "match_id\n",
      "2U4GBNA0Ymk-pKwHr1Q5hIk_TxZM0rixnc5Bq0W9Fj0eTW6aan4uHG6t6lOWEng8    703.715296\n",
      "2U4GBNA0Ymk1RHgbpquKEf2XGvs0Lf4hBM0pppK6ltkeeUpBTkUBBgaM9ptjLyK9    724.991101\n",
      "2U4GBNA0Ymk1rJOiMJ4a64VGfTk5zO9oexa_PzbvN9d3P_AIDhtiYzPPyuSH9mac    767.446034\n",
      "2U4GBNA0Ymk2id_cwEQEe9UgwqJNu7pxUaBQv7t83TAtdfDLCE0Xafl55b5G8HmC    692.052112\n",
      "2U4GBNA0Ymk31K0TCNVShks5i9Fq_tt4cQwdGSjwwtS6LXpLOrXoBn1izhxVwaCA    608.155115\n",
      "Name: player_survive_time, dtype: float64\n"
     ]
    }
   ],
   "source": [
    "g = f.groupby('team_placement').player_survive_time.mean()\n",
    "print(g)\n",
    "i = f.groupby('match_id').player_survive_time.mean()\n",
    "i = i[i <= 950]\n",
    "print(i.head())\n",
    "j = y.groupby('match_id').player_survive_time.mean()\n",
    "#print(j.head())\n",
    "k = f.groupby('team_placement').count()"
   ]
  },
  {
   "cell_type": "markdown",
   "metadata": {},
   "source": [
    "### Number of teams in the dataset in each team placement"
   ]
  },
  {
   "cell_type": "code",
   "execution_count": 39,
   "metadata": {},
   "outputs": [
    {
     "name": "stdout",
     "output_type": "stream",
     "text": [
      "team_placement\n",
      "1     205\n",
      "2     205\n",
      "3     216\n",
      "4     217\n",
      "5     221\n",
      "6     223\n",
      "7     218\n",
      "8     221\n",
      "9     217\n",
      "10    218\n",
      "11    215\n",
      "12    218\n",
      "13    216\n",
      "14    213\n",
      "15    214\n",
      "16    210\n",
      "17    210\n",
      "18    213\n",
      "19    204\n",
      "20    211\n",
      "21    213\n",
      "22    213\n",
      "23    208\n",
      "24    206\n",
      "25    205\n",
      "26    214\n",
      "27    207\n",
      "28    203\n",
      "29    206\n",
      "30    199\n",
      "     ... \n",
      "70    213\n",
      "71    207\n",
      "72    214\n",
      "73    216\n",
      "74    214\n",
      "75    215\n",
      "76    213\n",
      "77    223\n",
      "78    216\n",
      "79    207\n",
      "80    207\n",
      "81    215\n",
      "82    201\n",
      "83    193\n",
      "84    204\n",
      "85    182\n",
      "86    179\n",
      "87    181\n",
      "88    179\n",
      "89    195\n",
      "90    192\n",
      "91    151\n",
      "92    168\n",
      "93    141\n",
      "94    144\n",
      "95    150\n",
      "96     95\n",
      "97     68\n",
      "98     60\n",
      "99     23\n",
      "Name: player_name, Length: 99, dtype: int64\n"
     ]
    }
   ],
   "source": [
    "print(f.groupby('team_placement').player_name.count())"
   ]
  },
  {
   "cell_type": "markdown",
   "metadata": {},
   "source": [
    "Histogram shows the probability of survival time in a game"
   ]
  },
  {
   "cell_type": "code",
   "execution_count": 20,
   "metadata": {},
   "outputs": [
    {
     "data": {
      "image/png": "[encoded data removed]",
      "text/plain": [
       "<matplotlib.figure.Figure at 0x26f43573780>"
      ]
     },
     "metadata": {},
     "output_type": "display_data"
    }
   ],
   "source": [
    "plt.hist(f.player_survive_time,bins=50,normed=True)\n",
    "plt.xlabel('Player Survival Time in seconds')\n",
    "plt.ylabel(\"Probability of Death\")\n",
    "plt.show()"
   ]
  },
  {
   "cell_type": "markdown",
   "metadata": {},
   "source": [
    "The histogram shows that there is a spike in probability of player deaths very early and then a sharp decay. It levels off at around 500 after which there is a slow decay until the end."
   ]
  },
  {
   "cell_type": "code",
   "execution_count": 22,
   "metadata": {
    "scrolled": false
   },
   "outputs": [
    {
     "data": {
      "image/png": "[encoded data removed]",
      "text/plain": [
       "<matplotlib.figure.Figure at 0x26f4387ab00>"
      ]
     },
     "metadata": {},
     "output_type": "display_data"
    }
   ],
   "source": [
    "plt.plot(i,marker='.',linestyle='None')\n",
    "plt.ylabel(\"Average Survival Time in a Match\")\n",
    "plt.show()"
   ]
  },
  {
   "cell_type": "markdown",
   "metadata": {},
   "source": [
    "The scatterplot of average player survive times in each match gives no useful information since there is no noticeable trend. If a linear regression line is made there would be too many outliers, making it useless."
   ]
  },
  {
   "cell_type": "code",
   "execution_count": 38,
   "metadata": {},
   "outputs": [
    {
     "data": {
      "image/png": "[encoded data removed]",
      "text/plain": [
       "<matplotlib.figure.Figure at 0x26f3eba3d30>"
      ]
     },
     "metadata": {},
     "output_type": "display_data"
    }
   ],
   "source": [
    "_=plt.plot(k)\n",
    "_=plt.plot(g)\n",
    "plt.ylabel(\"Player Survival Time(sec)\")\n",
    "plt.xlabel(\"Team Placement\")\n",
    "plt.legend()\n",
    "plt.show()"
   ]
  },
  {
   "cell_type": "markdown",
   "metadata": {},
   "source": [
    "The average time a player is alive is higher as his team placement gets closer to one, which makes sense considering that whoever wins has outlived all other players in their match which gives him team placement of one. However, looking at the count and mean graph shows some irregularity towards the right hand side of the graph. The number of teams that place close to 100 are significantly less than teams that place higher. And also the average survival time of teams close to 100 are higher than what would be expected considering the trend of the rest of the means. This irregularity in the count can be understood if party size column is observed. Since we are looking at games that are not exclusively solo players, party size equal to one, this means that the number of teams in a match can be much less than 100 since only 100 players can be in any given match and party size in a match can differ."
   ]
  },
  {
   "cell_type": "code",
   "execution_count": 8,
   "metadata": {},
   "outputs": [],
   "source": [
    "mu = np.mean(i)\n",
    "sigma = np.std(i)\n",
    "fit = norm.pdf(i,np.mean(i),np.std(i))"
   ]
  },
  {
   "cell_type": "code",
   "execution_count": 9,
   "metadata": {},
   "outputs": [
    {
     "data": {
      "image/png": "[encoded data removed]",
      "text/plain": [
       "<matplotlib.figure.Figure at 0x26f3f646278>"
      ]
     },
     "metadata": {},
     "output_type": "display_data"
    }
   ],
   "source": [
    "count, bins, ignored = plt.hist(i,bins=30,normed=True)\n",
    "plt.plot(bins, 1/(sigma * np.sqrt(2 * np.pi)) * np.exp( - (bins - mu)**2 / (2 * sigma**2) ), linewidth=2, color='r')\n",
    "plt.show()"
   ]
  },
  {
   "cell_type": "markdown",
   "metadata": {},
   "source": [
    "The normal curve doesn't fit too well with the histogram of the mean survival time of each match but does that mean the normal distribution isn't useful for this dataset?"
   ]
  },
  {
   "cell_type": "code",
   "execution_count": 10,
   "metadata": {},
   "outputs": [],
   "source": [
    "def ecdf(data):\n",
    "    n = len(data)\n",
    "    x= np.sort(data)\n",
    "    y = np.arange(1,n+1) / n\n",
    "    return x, y"
   ]
  },
  {
   "cell_type": "code",
   "execution_count": 11,
   "metadata": {},
   "outputs": [
    {
     "data": {
      "image/png": "[encoded data removed]",
      "text/plain": [
       "<matplotlib.figure.Figure at 0x26f3eedb828>"
      ]
     },
     "metadata": {},
     "output_type": "display_data"
    }
   ],
   "source": [
    "x,y = ecdf(i)\n",
    "plt.plot(x,y,marker='.',linestyle='none')\n",
    "plt.margins(0.02)\n",
    "samples = np.random.normal(mu,sigma,100000)\n",
    "x_s,y_s = ecdf(samples)\n",
    "plt.plot(x_s,y_s)\n",
    "plt.show()"
   ]
  },
  {
   "cell_type": "markdown",
   "metadata": {},
   "source": [
    "The cumulative density function of the sample versus the normal cdf given the sample's mean and standard deviation lie very close to one another. This indicates that the Central Limit Theorem is most likely applicable for the sample."
   ]
  },
  {
   "cell_type": "code",
   "execution_count": null,
   "metadata": {},
   "outputs": [],
   "source": []
  },
  {
   "cell_type": "code",
   "execution_count": null,
   "metadata": {},
   "outputs": [],
   "source": []
  },
  {
   "cell_type": "code",
   "execution_count": null,
   "metadata": {},
   "outputs": [],
   "source": []
  }
 ],
 "metadata": {
  "kernelspec": {
   "display_name": "Python 3",
   "language": "python",
   "name": "python3"
  },
  "language_info": {
   "codemirror_mode": {
    "name": "ipython",
    "version": 3
   },
   "file_extension": ".py",
   "mimetype": "text/x-python",
   "name": "python",
   "nbconvert_exporter": "python",
   "pygments_lexer": "ipython3",
   "version": "3.6.4"
  }
 },
 "nbformat": 4,
 "nbformat_minor": 2
}
