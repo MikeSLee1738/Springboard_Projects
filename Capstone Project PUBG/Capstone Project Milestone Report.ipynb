{
 "cells": [
  {
   "cell_type": "markdown",
   "metadata": {},
   "source": [
    "# When Will You Die In PLAYERUNKNOWN'S BATTLEGROUNDS?\n",
    "\n",
    "## What is PLAYERUNKNOWN'S BATTLEGROUNDS?\n",
    "\n",
    "PLAYERUNKNOWN'S BATTLEGROUNDS, aka PUBG, is a Battle Royale online game with an enormous player community. A battle royale game has typically 100 players in an arena with weapons and items scattered throughout the arena, where players drop into the map and try to gether loot in order to outlive everybody else. Throughout any given match, the playable map size also decreases as the game progresses in order to force remaining players to kill each other in order to create a winner. This is done by making zones on the map that will slowly get smaller and smaller until the entire map is covered. The outside zone, called the blue zone in the dataset, will damage players more and more as each playable zone decreases in size, and will eventually kill someone that is stuck in the blue zone.\n",
    "\n",
    "## Problem\n",
    "\n",
    "A game needs it playerbase to derive a form of fun from it in order to capture a player's devotion to it. Especially in an online game, it requires this factor even more otherwise the players will move onto something else that will give them the fun that they crave. In a Battle Royale game, the fun comes from the adrenaline rush of surviving and beating other players and getting closer to winning the match. \n",
    "\n",
    "## Client\n",
    "\n",
    "The game development studio, PUBG Corporation can use this analysis to see how players are enjoying the game and if any improvements can be made in order to increase their playerbase, as well as to keep the current playerbase happy enough to keep playing. \n",
    "\n",
    "## Data Wrangling Process\n",
    "\n",
    "First thing done after loading in each dataset was I joined the datasets together. Then, only rows that contained the map name Erangel in the map column was kept. Also, in order to remove any outliers, any rows where the timer value was bigger than 2000 seconds was removed, since a match can only last for about 2000 seconds before the blue zone covers the entire map and kills any remaining players. One dataset is made to count the number of deaths for every unique cause of death in the dataset. Another dataset is made, the cleaned data grouped by its match id, then its average death timers were calculated into a series. Several plots were made to look at trends in the data.\n",
    "\n",
    "## Other Potential Datasets\n",
    "\n",
    "Another possible dataset to use is a dataset that recorded number of hours players have played the game, which would be useful to look for a relationship between win percentage and total playtime. \n",
    "\n",
    "## Initial Findings\n",
    "\n",
    "The average survival time in a match follows a normal curve. Also, the highest percentage of deaths in the data is between time 0 and at time 300. It also shows that most games never have 100 total players in a match, and it is usually around 90. The number of kills also seems to have a relationship with team placement."
   ]
  },
  {
   "cell_type": "code",
   "execution_count": null,
   "metadata": {},
   "outputs": [],
   "source": []
  }
 ],
 "metadata": {
  "kernelspec": {
   "display_name": "Python 3",
   "language": "python",
   "name": "python3"
  },
  "language_info": {
   "codemirror_mode": {
    "name": "ipython",
    "version": 3
   },
   "file_extension": ".py",
   "mimetype": "text/x-python",
   "name": "python",
   "nbconvert_exporter": "python",
   "pygments_lexer": "ipython3",
   "version": "3.6.4"
  }
 },
 "nbformat": 4,
 "nbformat_minor": 2
}
