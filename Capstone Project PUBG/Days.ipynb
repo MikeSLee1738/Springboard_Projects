{
 "cells": [
  {
   "cell_type": "markdown",
   "metadata": {},
   "source": [
    "# When Will You Die In PLAYERUNKNOWN'S BATTLEGROUNDS?\n",
    "\n",
    "## What is PLAYERUNKNOWN'S BATTLEGROUNDS?\n",
    "\n",
    "PLAYERUNKNOWN'S BATTLEGROUNDS, aka PUBG, is a Battle Royale online game with an enormous player community. A battle royale game has typically 100 players in an arena with weapons and items scattered throughout the arena, where players drop into the map and try to gether loot in order to outlive everybody else."
   ]
  },
  {
   "cell_type": "code",
   "execution_count": 2,
   "metadata": {},
   "outputs": [],
   "source": [
    "import pandas as pd\n",
    "import numpy as np\n",
    "import matplotlib.pyplot as plt\n",
    "import seaborn as sns\n",
    "from scipy.stats import norm\n",
    "import matplotlib as mpl\n",
    "import seaborn as sns"
   ]
  },
  {
   "cell_type": "code",
   "execution_count": 3,
   "metadata": {},
   "outputs": [
    {
     "name": "stdout",
     "output_type": "stream",
     "text": [
      "<class 'pandas.core.frame.DataFrame'>\n",
      "Int64Index: 67369231 entries, 0 to 11993484\n",
      "Data columns (total 15 columns):\n",
      "date                   object\n",
      "game_size              int64\n",
      "match_id               object\n",
      "match_mode             object\n",
      "party_size             int64\n",
      "player_assists         int64\n",
      "player_dbno            int64\n",
      "player_dist_ride       float64\n",
      "player_dist_walk       float64\n",
      "player_dmg             int64\n",
      "player_kills           int64\n",
      "player_name            object\n",
      "player_survive_time    float64\n",
      "team_id                int64\n",
      "team_placement         int64\n",
      "dtypes: float64(3), int64(8), object(4)\n",
      "memory usage: 8.0+ GB\n",
      "None\n",
      "          game_size match_mode  party_size      player_name  \\\n",
      "494              91        tpp           1            Satch   \n",
      "495              91        tpp           1   osamabinlaggon   \n",
      "496              91        tpp           1       dengboyu76   \n",
      "497              91        tpp           1       GOGingmimi   \n",
      "498              91        tpp           1   AtomicBrunette   \n",
      "499              91        tpp           1            MIUI6   \n",
      "500              91        tpp           1         LORD_JTR   \n",
      "501              91        tpp           1     DongMing1986   \n",
      "502              91        tpp           1        Prima_Top   \n",
      "503              91        tpp           1        xxfffffff   \n",
      "504              91        tpp           1         dsadwada   \n",
      "505              91        tpp           1        masami-_-   \n",
      "506              91        tpp           1   rinimabishagou   \n",
      "507              91        tpp           1    Johnnie_Nutts   \n",
      "508              91        tpp           1         jprodigy   \n",
      "509              91        tpp           1          TB_dong   \n",
      "510              91        tpp           1       delaidfast   \n",
      "511              91        tpp           1      jordy140420   \n",
      "512              91        tpp           1           Duo_hw   \n",
      "513              91        tpp           1      a2741458298   \n",
      "514              91        tpp           1            sdjdd   \n",
      "515              91        tpp           1        JuXinM4a1   \n",
      "516              91        tpp           1      Liush1yaNG_   \n",
      "517              91        tpp           1     xiaozhangcjw   \n",
      "518              91        tpp           1        hyh981118   \n",
      "519              91        tpp           1         Timor001   \n",
      "520              91        tpp           1     siliymaui125   \n",
      "521              91        tpp           1          MLBBear   \n",
      "522              91        tpp           1          dearW11   \n",
      "523              91        tpp           1        Energy-Jx   \n",
      "...             ...        ...         ...              ...   \n",
      "11993185         94        tpp           1        gezwungen   \n",
      "11993186         94        tpp           1     sebastheduck   \n",
      "11993187         94        tpp           1        Fierro_DD   \n",
      "11993188         94        tpp           1          Sethro_   \n",
      "11993189         94        tpp           1       Day_Dream-   \n",
      "11993190         94        tpp           1    Rasta_Diamond   \n",
      "11993191         94        tpp           1   420BLAZELEGEND   \n",
      "11993192         94        tpp           1     TitoM_DeMers   \n",
      "11993193         94        tpp           1            DSZHY   \n",
      "11993194         94        tpp           1             cabz   \n",
      "11993195         94        tpp           1           aqindy   \n",
      "11993196         94        tpp           1       CHAJILA123   \n",
      "11993197         94        tpp           1           xr1998   \n",
      "11993198         94        tpp           1      menendez143   \n",
      "11993199         94        tpp           1      Hoovilation   \n",
      "11993200         94        tpp           1          Kainses   \n",
      "11993201         94        tpp           1     Master_Xiang   \n",
      "11993202         94        tpp           1         easysnow   \n",
      "11993203         94        tpp           1    CaptainHero32   \n",
      "11993204         94        tpp           1         NoLaterZ   \n",
      "11993205         94        tpp           1        Triipodex   \n",
      "11993206         94        tpp           1        yanshi007   \n",
      "11993207         94        tpp           1  Ni_Chou_Sha_613   \n",
      "11993208         94        tpp           1     CYX1314AHJKZ   \n",
      "11993209         94        tpp           1       chuhedadai   \n",
      "11993210         94        tpp           1          qiaotou   \n",
      "11993211         94        tpp           1          pengbbb   \n",
      "11993212         94        tpp           1        ZiFengNo1   \n",
      "11993213         94        tpp           1           Sirpzy   \n",
      "11993214         94        tpp           1    canrendecibei   \n",
      "\n",
      "          player_survive_time  team_placement  \\\n",
      "494                   186.999              79   \n",
      "495                   124.782              87   \n",
      "496                   839.161              35   \n",
      "497                   751.716              46   \n",
      "498                   744.088              47   \n",
      "499                   108.231              90   \n",
      "500                  1006.527              29   \n",
      "501                   741.473              48   \n",
      "502                   290.769              67   \n",
      "503                   337.259              63   \n",
      "504                  1020.411              27   \n",
      "505                   214.808              76   \n",
      "506                   165.839              80   \n",
      "507                   665.444              53   \n",
      "508                   125.975              85   \n",
      "509                  1111.732              21   \n",
      "510                   345.475              62   \n",
      "511                   426.540              58   \n",
      "512                   249.322              72   \n",
      "513                  1010.649              28   \n",
      "514                  1958.935               1   \n",
      "515                   199.623              78   \n",
      "516                   351.842              61   \n",
      "517                  1123.503              20   \n",
      "518                   772.476              44   \n",
      "519                  1335.668              26   \n",
      "520                   799.851              42   \n",
      "521                   936.479              30   \n",
      "522                   764.254              45   \n",
      "523                   248.997              73   \n",
      "...                       ...             ...   \n",
      "11993185             1579.152               9   \n",
      "11993186             1102.291              27   \n",
      "11993187             1461.952              14   \n",
      "11993188             1349.714              19   \n",
      "11993189              241.518              73   \n",
      "11993190             1490.715              11   \n",
      "11993191              150.033              83   \n",
      "11993192              782.738              93   \n",
      "11993193              181.682              77   \n",
      "11993194              129.698              87   \n",
      "11993195             1727.373               1   \n",
      "11993196              967.755              34   \n",
      "11993197              857.637              42   \n",
      "11993198             1345.709              76   \n",
      "11993199              144.335              94   \n",
      "11993200              953.556              36   \n",
      "11993201              790.754              48   \n",
      "11993202             1382.277              17   \n",
      "11993203             1637.335               4   \n",
      "11993204              802.741              45   \n",
      "11993205              447.142              59   \n",
      "11993206             1138.777              25   \n",
      "11993207             1115.290              26   \n",
      "11993208              388.183              64   \n",
      "11993209             1622.048               6   \n",
      "11993210              985.725              33   \n",
      "11993211              229.634              75   \n",
      "11993212               89.620              94   \n",
      "11993213             1615.408               7   \n",
      "11993214              956.543              35   \n",
      "\n",
      "                                                   match_id  player_kills  \\\n",
      "494       2U4GBNA0YmlixJ6lhgS6xB2tqdo7SEhoYyHlVu18akkAzL...             0   \n",
      "495       2U4GBNA0YmlixJ6lhgS6xB2tqdo7SEhoYyHlVu18akkAzL...             0   \n",
      "496       2U4GBNA0YmlixJ6lhgS6xB2tqdo7SEhoYyHlVu18akkAzL...             0   \n",
      "497       2U4GBNA0YmlixJ6lhgS6xB2tqdo7SEhoYyHlVu18akkAzL...             0   \n",
      "498       2U4GBNA0YmlixJ6lhgS6xB2tqdo7SEhoYyHlVu18akkAzL...             1   \n",
      "499       2U4GBNA0YmlixJ6lhgS6xB2tqdo7SEhoYyHlVu18akkAzL...             0   \n",
      "500       2U4GBNA0YmlixJ6lhgS6xB2tqdo7SEhoYyHlVu18akkAzL...             4   \n",
      "501       2U4GBNA0YmlixJ6lhgS6xB2tqdo7SEhoYyHlVu18akkAzL...             0   \n",
      "502       2U4GBNA0YmlixJ6lhgS6xB2tqdo7SEhoYyHlVu18akkAzL...             0   \n",
      "503       2U4GBNA0YmlixJ6lhgS6xB2tqdo7SEhoYyHlVu18akkAzL...             0   \n",
      "504       2U4GBNA0YmlixJ6lhgS6xB2tqdo7SEhoYyHlVu18akkAzL...             0   \n",
      "505       2U4GBNA0YmlixJ6lhgS6xB2tqdo7SEhoYyHlVu18akkAzL...             1   \n",
      "506       2U4GBNA0YmlixJ6lhgS6xB2tqdo7SEhoYyHlVu18akkAzL...             0   \n",
      "507       2U4GBNA0YmlixJ6lhgS6xB2tqdo7SEhoYyHlVu18akkAzL...             0   \n",
      "508       2U4GBNA0YmlixJ6lhgS6xB2tqdo7SEhoYyHlVu18akkAzL...             1   \n",
      "509       2U4GBNA0YmlixJ6lhgS6xB2tqdo7SEhoYyHlVu18akkAzL...             1   \n",
      "510       2U4GBNA0YmlixJ6lhgS6xB2tqdo7SEhoYyHlVu18akkAzL...             0   \n",
      "511       2U4GBNA0YmlixJ6lhgS6xB2tqdo7SEhoYyHlVu18akkAzL...             0   \n",
      "512       2U4GBNA0YmlixJ6lhgS6xB2tqdo7SEhoYyHlVu18akkAzL...             0   \n",
      "513       2U4GBNA0YmlixJ6lhgS6xB2tqdo7SEhoYyHlVu18akkAzL...             1   \n",
      "514       2U4GBNA0YmlixJ6lhgS6xB2tqdo7SEhoYyHlVu18akkAzL...             6   \n",
      "515       2U4GBNA0YmlixJ6lhgS6xB2tqdo7SEhoYyHlVu18akkAzL...             0   \n",
      "516       2U4GBNA0YmlixJ6lhgS6xB2tqdo7SEhoYyHlVu18akkAzL...             0   \n",
      "517       2U4GBNA0YmlixJ6lhgS6xB2tqdo7SEhoYyHlVu18akkAzL...             1   \n",
      "518       2U4GBNA0YmlixJ6lhgS6xB2tqdo7SEhoYyHlVu18akkAzL...             0   \n",
      "519       2U4GBNA0YmlixJ6lhgS6xB2tqdo7SEhoYyHlVu18akkAzL...             1   \n",
      "520       2U4GBNA0YmlixJ6lhgS6xB2tqdo7SEhoYyHlVu18akkAzL...             0   \n",
      "521       2U4GBNA0YmlixJ6lhgS6xB2tqdo7SEhoYyHlVu18akkAzL...             3   \n",
      "522       2U4GBNA0YmlixJ6lhgS6xB2tqdo7SEhoYyHlVu18akkAzL...             1   \n",
      "523       2U4GBNA0YmlixJ6lhgS6xB2tqdo7SEhoYyHlVu18akkAzL...             1   \n",
      "...                                                     ...           ...   \n",
      "11993185  2U4GBNA0Ymk7usSf7x0NYOE09uaDGL_zfMl8l6uUhGznLs...             7   \n",
      "11993186  2U4GBNA0Ymk7usSf7x0NYOE09uaDGL_zfMl8l6uUhGznLs...             3   \n",
      "11993187  2U4GBNA0Ymk7usSf7x0NYOE09uaDGL_zfMl8l6uUhGznLs...             0   \n",
      "11993188  2U4GBNA0Ymk7usSf7x0NYOE09uaDGL_zfMl8l6uUhGznLs...             1   \n",
      "11993189  2U4GBNA0Ymk7usSf7x0NYOE09uaDGL_zfMl8l6uUhGznLs...             0   \n",
      "11993190  2U4GBNA0Ymk7usSf7x0NYOE09uaDGL_zfMl8l6uUhGznLs...             4   \n",
      "11993191  2U4GBNA0Ymk7usSf7x0NYOE09uaDGL_zfMl8l6uUhGznLs...             0   \n",
      "11993192  2U4GBNA0Ymk7usSf7x0NYOE09uaDGL_zfMl8l6uUhGznLs...             0   \n",
      "11993193  2U4GBNA0Ymk7usSf7x0NYOE09uaDGL_zfMl8l6uUhGznLs...             2   \n",
      "11993194  2U4GBNA0Ymk7usSf7x0NYOE09uaDGL_zfMl8l6uUhGznLs...             0   \n",
      "11993195  2U4GBNA0Ymk7usSf7x0NYOE09uaDGL_zfMl8l6uUhGznLs...            10   \n",
      "11993196  2U4GBNA0Ymk7usSf7x0NYOE09uaDGL_zfMl8l6uUhGznLs...             1   \n",
      "11993197  2U4GBNA0Ymk7usSf7x0NYOE09uaDGL_zfMl8l6uUhGznLs...             1   \n",
      "11993198  2U4GBNA0Ymk7usSf7x0NYOE09uaDGL_zfMl8l6uUhGznLs...             0   \n",
      "11993199  2U4GBNA0Ymk7usSf7x0NYOE09uaDGL_zfMl8l6uUhGznLs...             0   \n",
      "11993200  2U4GBNA0Ymk7usSf7x0NYOE09uaDGL_zfMl8l6uUhGznLs...             1   \n",
      "11993201  2U4GBNA0Ymk7usSf7x0NYOE09uaDGL_zfMl8l6uUhGznLs...             0   \n",
      "11993202  2U4GBNA0Ymk7usSf7x0NYOE09uaDGL_zfMl8l6uUhGznLs...             4   \n",
      "11993203  2U4GBNA0Ymk7usSf7x0NYOE09uaDGL_zfMl8l6uUhGznLs...             1   \n",
      "11993204  2U4GBNA0Ymk7usSf7x0NYOE09uaDGL_zfMl8l6uUhGznLs...             0   \n",
      "11993205  2U4GBNA0Ymk7usSf7x0NYOE09uaDGL_zfMl8l6uUhGznLs...             0   \n",
      "11993206  2U4GBNA0Ymk7usSf7x0NYOE09uaDGL_zfMl8l6uUhGznLs...             0   \n",
      "11993207  2U4GBNA0Ymk7usSf7x0NYOE09uaDGL_zfMl8l6uUhGznLs...             1   \n",
      "11993208  2U4GBNA0Ymk7usSf7x0NYOE09uaDGL_zfMl8l6uUhGznLs...             1   \n",
      "11993209  2U4GBNA0Ymk7usSf7x0NYOE09uaDGL_zfMl8l6uUhGznLs...             2   \n",
      "11993210  2U4GBNA0Ymk7usSf7x0NYOE09uaDGL_zfMl8l6uUhGznLs...             0   \n",
      "11993211  2U4GBNA0Ymk7usSf7x0NYOE09uaDGL_zfMl8l6uUhGznLs...             0   \n",
      "11993212  2U4GBNA0Ymk7usSf7x0NYOE09uaDGL_zfMl8l6uUhGznLs...             0   \n",
      "11993213  2U4GBNA0Ymk7usSf7x0NYOE09uaDGL_zfMl8l6uUhGznLs...             1   \n",
      "11993214  2U4GBNA0Ymk7usSf7x0NYOE09uaDGL_zfMl8l6uUhGznLs...             0   \n",
      "\n",
      "          player_dmg  player_dist_ride  player_dist_walk  player_dbno  \n",
      "494                0          0.000000        170.954788            0  \n",
      "495                0          0.000000         66.545590            0  \n",
      "496              124        728.722656        610.168945            0  \n",
      "497               24       2646.184000       1431.292000            0  \n",
      "498              100          0.000000        723.102300            0  \n",
      "499                0          0.000000          0.000000            0  \n",
      "500              438       1055.677610       1889.028000            0  \n",
      "501                0          0.000000        927.809937            0  \n",
      "502                0          0.000000        706.727400            0  \n",
      "503                0          0.000000        171.162720            0  \n",
      "504               60       6892.920000       1382.882810            0  \n",
      "505              114          0.000000        122.943039            0  \n",
      "506                0          0.000000         88.442090            0  \n",
      "507                0          0.000000        292.052917            0  \n",
      "508              169          0.000000         34.951366            0  \n",
      "509               96          0.000000       1294.686520            0  \n",
      "510                0          0.000000        228.851517            0  \n",
      "511                2       1101.990720        427.561768            0  \n",
      "512                0          0.000000        177.067291            0  \n",
      "513               67          0.000000       2435.037350            0  \n",
      "514              515       2113.720210       4042.225000            0  \n",
      "515                0          0.000000         81.473976            0  \n",
      "516                0          0.000000        537.120900            0  \n",
      "517              175       1755.197390       2224.459470            0  \n",
      "518               64        369.883200       2282.243650            0  \n",
      "519              130        742.244300       1203.649660            0  \n",
      "520                0       1093.456180       1345.949340            0  \n",
      "521              228       2027.765500        541.117554            0  \n",
      "522               77          0.000000       1078.954000            0  \n",
      "523              122          0.000000        234.766647            0  \n",
      "...              ...               ...               ...          ...  \n",
      "11993185         715       3051.946780       2929.345700            0  \n",
      "11993186         278       2281.759280       2352.134000            0  \n",
      "11993187           2       2116.052730       3923.572510            0  \n",
      "11993188          99        468.660600       1281.547850            0  \n",
      "11993189           0          0.000000        234.824585            0  \n",
      "11993190         182          0.881534       3566.361570            0  \n",
      "11993191          73          0.000000         59.652443            0  \n",
      "11993192           0          0.000000         14.231616            0  \n",
      "11993193         214          0.000000        152.118149            0  \n",
      "11993194           0          0.000000        237.815613            0  \n",
      "11993195         914       2763.500240       2311.662600            0  \n",
      "11993196         181       1099.862790       1256.429570            0  \n",
      "11993197         100        440.552032       2013.659420            0  \n",
      "11993198           0          0.000000        106.252220            0  \n",
      "11993199           0          0.000000          0.000000            0  \n",
      "11993200         176       1610.020750       1310.124630            0  \n",
      "11993201           0          0.000000       1198.495360            0  \n",
      "11993202         485       1423.945920       2649.108400            0  \n",
      "11993203          39       3725.641600       3335.016850            0  \n",
      "11993204          45        930.717346       1170.406740            0  \n",
      "11993205           0          0.000000        657.782700            0  \n",
      "11993206          23       4820.322270       1430.469480            0  \n",
      "11993207          96       3501.558840       1486.008300            0  \n",
      "11993208         100          0.000000        341.112885            0  \n",
      "11993209         192       5713.323000       1096.122920            0  \n",
      "11993210          99          0.000000       1032.820190            0  \n",
      "11993211           0          0.000000        108.038284            0  \n",
      "11993212           0          0.000000          9.312519            0  \n",
      "11993213          93        424.576965       3485.545000            0  \n",
      "11993214           0        901.312700       1165.086000            0  \n",
      "\n",
      "[14011203 rows x 12 columns]\n"
     ]
    }
   ],
   "source": [
    "d = pd.read_csv('agg_match_stats_0.csv')\n",
    "e = pd.read_csv('agg_match_stats_1.csv')\n",
    "a = pd.read_csv('agg_match_stats_2.csv')\n",
    "t = pd.read_csv('agg_match_stats_3.csv')\n",
    "h = pd.read_csv('agg_match_stats_4.csv')\n",
    "x = pd.concat([d,e,a,t,h])\n",
    "#d=d[d.party_size==1]\n",
    "f = x[['game_size','match_mode','party_size','player_name','player_survive_time','team_placement','match_id','player_kills','player_dmg'\n",
    "      ,'player_dist_ride','player_dist_walk','player_dbno']]\n",
    "f['match_id'].astype(str)\n",
    "f = f[f.party_size == 1]\n",
    "f = f[f.player_survive_time <= 2000]\n",
    "f.reset_index()\n",
    "print(x.info())\n",
    "print(f)"
   ]
  },
  {
   "cell_type": "markdown",
   "metadata": {},
   "source": [
    "## What is the average amount of time that a player in a match will survive?"
   ]
  },
  {
   "cell_type": "code",
   "execution_count": 26,
   "metadata": {},
   "outputs": [
    {
     "name": "stdout",
     "output_type": "stream",
     "text": [
      "team_placement\n",
      "1      1873.380034\n",
      "2      1873.616051\n",
      "3      1824.144466\n",
      "4      1771.736636\n",
      "5      1726.883338\n",
      "6      1687.472575\n",
      "7      1651.834665\n",
      "8      1618.792180\n",
      "9      1587.629970\n",
      "10     1557.806085\n",
      "11     1529.058968\n",
      "12     1501.388448\n",
      "13     1474.521495\n",
      "14     1447.740803\n",
      "15     1420.775116\n",
      "16     1393.265046\n",
      "17     1365.112949\n",
      "18     1336.608056\n",
      "19     1307.728003\n",
      "20     1278.637713\n",
      "21     1249.605479\n",
      "22     1220.109384\n",
      "23     1190.887350\n",
      "24     1162.029637\n",
      "25     1133.223595\n",
      "26     1104.696852\n",
      "27     1076.494001\n",
      "28     1048.914846\n",
      "29     1021.821273\n",
      "30      995.369153\n",
      "          ...     \n",
      "71      232.297500\n",
      "72      224.214715\n",
      "73      216.799286\n",
      "74      209.370795\n",
      "75      202.075120\n",
      "76      196.589349\n",
      "77      189.959889\n",
      "78      183.447579\n",
      "79      178.508893\n",
      "80      172.894102\n",
      "81      168.236689\n",
      "82      164.173696\n",
      "83      161.109409\n",
      "84      156.885502\n",
      "85      152.869309\n",
      "86      150.659238\n",
      "87      149.085319\n",
      "88      147.300016\n",
      "89      147.130713\n",
      "90      146.301677\n",
      "91      148.849986\n",
      "92      150.540054\n",
      "93      154.089600\n",
      "94      159.988585\n",
      "95      164.824232\n",
      "96      171.314849\n",
      "97      177.576291\n",
      "98      183.478117\n",
      "99      195.683188\n",
      "100     189.607581\n",
      "Name: player_survive_time, Length: 100, dtype: float64\n",
      "match_id\n",
      "2U4GBNA0Ymk--2xnuFhXM2XOTQ1-vT4JaSt5qsPdeJimOjvddCBiTumAcdw1lXFT    713.803889\n",
      "2U4GBNA0Ymk--7qt8xPyFW0ndWz7dIODaGxvZ65u0FW-26xh4B19pC08jYSAeLOK    700.574250\n",
      "2U4GBNA0Ymk--LNGPewkO0NBW-19dThFgDg3T6cDVBBxBaDkfnmYnbSvairqBSAi    664.582396\n",
      "2U4GBNA0Ymk--_HCtlxj8Tvf3pSLjsWPRX06R6X8WBVGPXiX9o-HkrpqopD7eV1Y    721.780086\n",
      "2U4GBNA0Ymk--yZOk9oII2rZHynfEwxRRprJNJ6apGfASTVFur3sVR0SJdsotBpN    688.132667\n",
      "Name: player_survive_time, dtype: float64\n"
     ]
    }
   ],
   "source": [
    "g = f.groupby('team_placement').player_survive_time.mean()\n",
    "print(g)\n",
    "i = f.groupby('match_id').player_survive_time.mean()\n",
    "i = i[i <= 900]\n",
    "print(i.head())\n",
    "k = f.groupby('team_placement').count()"
   ]
  },
  {
   "cell_type": "markdown",
   "metadata": {},
   "source": [
    "### Average survival time for each team placement"
   ]
  },
  {
   "cell_type": "code",
   "execution_count": null,
   "metadata": {},
   "outputs": [],
   "source": []
  },
  {
   "cell_type": "markdown",
   "metadata": {},
   "source": [
    "Histogram shows the probability of survival time in a game"
   ]
  },
  {
   "cell_type": "code",
   "execution_count": 5,
   "metadata": {},
   "outputs": [
    {
     "data": {
      "image/png": "[encoded data removed]",
      "text/plain": [
       "<matplotlib.figure.Figure at 0x1751a9fd588>"
      ]
     },
     "metadata": {},
     "output_type": "display_data"
    }
   ],
   "source": [
    "plt.hist(f.player_survive_time,bins=50,normed=True)\n",
    "plt.show()"
   ]
  },
  {
   "cell_type": "code",
   "execution_count": 6,
   "metadata": {},
   "outputs": [
    {
     "data": {
      "text/plain": [
       "[<matplotlib.lines.Line2D at 0x175e2f73f98>]"
      ]
     },
     "execution_count": 6,
     "metadata": {},
     "output_type": "execute_result"
    },
    {
     "data": {
      "image/png": "[encoded data removed]",
      "text/plain": [
       "<matplotlib.figure.Figure at 0x175e2eed4a8>"
      ]
     },
     "metadata": {},
     "output_type": "display_data"
    }
   ],
   "source": [
    "plt.plot(k)\n",
    "plt.plot(g)"
   ]
  },
  {
   "cell_type": "markdown",
   "metadata": {},
   "source": [
    "The average time a player is alive is higher as his team placement gets closer to one, which makes sense considering that whoever wins has outlived all other players in their match which gives him team placement of one. However, looking at the count and mean graph shows some irregularity towards the right hand side of the graph. The number of teams that place close to 100 are significantly less than teams that place higher. And also the average survival time of teams close to 100 are higher than what would be expected considering the trend of the rest of the means. This irregularity in the count can be understood if party size column is observed. Since we are looking at games that are not exclusively solo players, party size equal to one, this means that the number of teams in a match can be much less than 100 since only 100 players can be in any given match and party size in a match can differ."
   ]
  },
  {
   "cell_type": "code",
   "execution_count": 22,
   "metadata": {},
   "outputs": [
    {
     "name": "stdout",
     "output_type": "stream",
     "text": [
      "722.3408393078654 66.25287484540112\n"
     ]
    }
   ],
   "source": [
    "mu = np.mean(i)\n",
    "sigma = np.std(i)\n",
    "fit = norm.pdf(i,np.mean(i),np.std(i))\n",
    "print(mu,sigma)"
   ]
  },
  {
   "cell_type": "code",
   "execution_count": 23,
   "metadata": {},
   "outputs": [
    {
     "data": {
      "image/png": "[encoded data removed]",
      "text/plain": [
       "<matplotlib.figure.Figure at 0x1771f1a8eb8>"
      ]
     },
     "metadata": {},
     "output_type": "display_data"
    }
   ],
   "source": [
    "count, bins, ignored = plt.hist(i,bins=30,normed=True)\n",
    "plt.plot(bins, 1/(sigma * np.sqrt(2 * np.pi)) * np.exp( - (bins - mu)**2 / (2 * sigma**2) ), linewidth=2, color='r')\n",
    "plt.show()"
   ]
  },
  {
   "cell_type": "code",
   "execution_count": null,
   "metadata": {},
   "outputs": [],
   "source": []
  },
  {
   "cell_type": "code",
   "execution_count": 9,
   "metadata": {},
   "outputs": [],
   "source": [
    "f['target_perc'] = f.team_placement / f.game_size\n",
    " "
   ]
  },
  {
   "cell_type": "code",
   "execution_count": 10,
   "metadata": {},
   "outputs": [],
   "source": [
    "def dec(perc):\n",
    "#     perc = f.team_placement / f.game_size\n",
    "    if perc <= 0.1 and perc >= 0:\n",
    "        return 1\n",
    "    elif perc <= 0.2 and perc > 0.1:\n",
    "        return 2\n",
    "    elif perc <= 0.3 and perc > 0.2:\n",
    "        return 3\n",
    "    elif perc <= 0.4 and perc > 0.3:\n",
    "        return 4\n",
    "    elif perc <= 0.5 and perc > 0.4:\n",
    "        return 5\n",
    "    elif perc <= 0.6 and perc > 0.5:\n",
    "        return 6\n",
    "    elif perc <= 0.7 and perc > 0.6:\n",
    "        return 7\n",
    "    elif perc <= 0.8 and perc > 0.7:\n",
    "        return 8\n",
    "    elif perc <= 0.9 and perc > 0.8:\n",
    "        return 9\n",
    "    else:\n",
    "        return 10\n",
    "\n",
    "f['target_10_bins'] = f.target_perc.apply(dec)"
   ]
  },
  {
   "cell_type": "code",
   "execution_count": 11,
   "metadata": {},
   "outputs": [
    {
     "data": {
      "text/plain": [
       "array([ 9, 10,  4,  6,  8,  7,  3,  1,  5,  2], dtype=int64)"
      ]
     },
     "execution_count": 11,
     "metadata": {},
     "output_type": "execute_result"
    }
   ],
   "source": [
    "f.target_10_bins.unique()"
   ]
  },
  {
   "cell_type": "code",
   "execution_count": 12,
   "metadata": {
    "scrolled": true
   },
   "outputs": [
    {
     "data": {
      "text/plain": [
       "494         0.868132\n",
       "495         0.956044\n",
       "496         0.384615\n",
       "497         0.505495\n",
       "498         0.516484\n",
       "499         0.989011\n",
       "500         0.318681\n",
       "501         0.527473\n",
       "502         0.736264\n",
       "503         0.692308\n",
       "504         0.296703\n",
       "505         0.835165\n",
       "506         0.879121\n",
       "507         0.582418\n",
       "508         0.934066\n",
       "509         0.230769\n",
       "510         0.681319\n",
       "511         0.637363\n",
       "512         0.791209\n",
       "513         0.307692\n",
       "514         0.010989\n",
       "515         0.857143\n",
       "516         0.670330\n",
       "517         0.219780\n",
       "518         0.483516\n",
       "519         0.285714\n",
       "520         0.461538\n",
       "521         0.329670\n",
       "522         0.494505\n",
       "523         0.802198\n",
       "              ...   \n",
       "11993185    0.095745\n",
       "11993186    0.287234\n",
       "11993187    0.148936\n",
       "11993188    0.202128\n",
       "11993189    0.776596\n",
       "11993190    0.117021\n",
       "11993191    0.882979\n",
       "11993192    0.989362\n",
       "11993193    0.819149\n",
       "11993194    0.925532\n",
       "11993195    0.010638\n",
       "11993196    0.361702\n",
       "11993197    0.446809\n",
       "11993198    0.808511\n",
       "11993199    1.000000\n",
       "11993200    0.382979\n",
       "11993201    0.510638\n",
       "11993202    0.180851\n",
       "11993203    0.042553\n",
       "11993204    0.478723\n",
       "11993205    0.627660\n",
       "11993206    0.265957\n",
       "11993207    0.276596\n",
       "11993208    0.680851\n",
       "11993209    0.063830\n",
       "11993210    0.351064\n",
       "11993211    0.797872\n",
       "11993212    1.000000\n",
       "11993213    0.074468\n",
       "11993214    0.372340\n",
       "Name: target_perc, Length: 14011203, dtype: float64"
      ]
     },
     "execution_count": 12,
     "metadata": {},
     "output_type": "execute_result"
    }
   ],
   "source": [
    "f.target_perc"
   ]
  },
  {
   "cell_type": "code",
   "execution_count": 14,
   "metadata": {},
   "outputs": [
    {
     "name": "stdout",
     "output_type": "stream",
     "text": [
      "Coefficients: \n",
      " [-0.00490075]\n",
      "LinearRegression(copy_X=True, fit_intercept=True, n_jobs=1, normalize=False)\n"
     ]
    }
   ],
   "source": [
    "from sklearn.linear_model import LinearRegression\n",
    "from sklearn.model_selection import train_test_split\n",
    "\n",
    "data = f[['player_survive_time']]\n",
    "data1 = f.target_10_bins\n",
    "\n",
    "X_train,X_test,y_train,y_test = train_test_split(data,data1,test_size=0.3,random_state=42)\n",
    "regr = LinearRegression()\n",
    "regr.fit(X_train,y_train)\n",
    "\n",
    "# f[['player_survive_time','team_placement','target_perc']]\n",
    "# print(data.shape)\n",
    "# print(data1.shape)\n",
    "y_pred = regr.predict(X_test)\n",
    "print('Coefficients: \\n', regr.coef_)\n",
    "print(regr)\n",
    "# ,'player_kills','player_dmg'"
   ]
  },
  {
   "cell_type": "markdown",
   "metadata": {},
   "source": [
    "plt.figure()\n",
    "_=plt.scatter(X_test,y_test,marker='.',color='red',alpha=0.5,markersize=0.2)\n",
    "mpl.rcParams['agg.path.chunksize'] = 1000000\n",
    "plt.xticks([200,400,600,800,1000,1200,1400,1600,1800,2000])\n",
    "plt.xlim(0,2000)\n",
    "plt.yticks([1,2,3,4,5,6,7,8,9,10])\n",
    "plt.figure()\n",
    "plt.plot(X_test,y_pred)\n"
   ]
  },
  {
   "cell_type": "code",
   "execution_count": 28,
   "metadata": {},
   "outputs": [
    {
     "data": {
      "image/png": "[encoded data removed]",
      "text/plain": [
       "<matplotlib.figure.Figure at 0x24c2ed60518>"
      ]
     },
     "metadata": {},
     "output_type": "display_data"
    }
   ],
   "source": [
    "_=sns.regplot(f.player_survive_time,f.target_10_bins,fit_reg=True)\n",
    "# plt.xticks([20,40,60,80,100])\n",
    "# plt.yticks([1,2,3,4,5,6,7,8,9,10])"
   ]
  },
  {
   "cell_type": "code",
   "execution_count": 19,
   "metadata": {},
   "outputs": [
    {
     "data": {
      "text/html": [
       "<table class=\"simpletable\">\n",
       "<caption>OLS Regression Results</caption>\n",
       "<tr>\n",
       "  <th>Dep. Variable:</th>     <td>target_10_bins</td>  <th>  R-squared:         </th>  <td>   0.870</td>  \n",
       "</tr>\n",
       "<tr>\n",
       "  <th>Model:</th>                   <td>OLS</td>       <th>  Adj. R-squared:    </th>  <td>   0.870</td>  \n",
       "</tr>\n",
       "<tr>\n",
       "  <th>Method:</th>             <td>Least Squares</td>  <th>  F-statistic:       </th>  <td>9.402e+07</td> \n",
       "</tr>\n",
       "<tr>\n",
       "  <th>Date:</th>             <td>Thu, 14 Jun 2018</td> <th>  Prob (F-statistic):</th>   <td>  0.00</td>   \n",
       "</tr>\n",
       "<tr>\n",
       "  <th>Time:</th>                 <td>21:11:58</td>     <th>  Log-Likelihood:    </th> <td>-2.0509e+07</td>\n",
       "</tr>\n",
       "<tr>\n",
       "  <th>No. Observations:</th>     <td>14011203</td>     <th>  AIC:               </th>  <td>4.102e+07</td> \n",
       "</tr>\n",
       "<tr>\n",
       "  <th>Df Residuals:</th>         <td>14011201</td>     <th>  BIC:               </th>  <td>4.102e+07</td> \n",
       "</tr>\n",
       "<tr>\n",
       "  <th>Df Model:</th>              <td>     1</td>      <th>                     </th>      <td> </td>     \n",
       "</tr>\n",
       "<tr>\n",
       "  <th>Covariance Type:</th>      <td>nonrobust</td>    <th>                     </th>      <td> </td>     \n",
       "</tr>\n",
       "</table>\n",
       "<table class=\"simpletable\">\n",
       "<tr>\n",
       "           <td></td>              <th>coef</th>     <th>std err</th>      <th>t</th>      <th>P>|t|</th>  <th>[0.025</th>    <th>0.975]</th>  \n",
       "</tr>\n",
       "<tr>\n",
       "  <th>Intercept</th>           <td>    9.1928</td> <td>    0.000</td> <td>    2e+04</td> <td> 0.000</td> <td>    9.192</td> <td>    9.194</td>\n",
       "</tr>\n",
       "<tr>\n",
       "  <th>player_survive_time</th> <td>   -0.0049</td> <td> 5.05e-07</td> <td>-9696.135</td> <td> 0.000</td> <td>   -0.005</td> <td>   -0.005</td>\n",
       "</tr>\n",
       "</table>\n",
       "<table class=\"simpletable\">\n",
       "<tr>\n",
       "  <th>Omnibus:</th>       <td>4245829.271</td> <th>  Durbin-Watson:     </th>   <td>   1.799</td>  \n",
       "</tr>\n",
       "<tr>\n",
       "  <th>Prob(Omnibus):</th>   <td> 0.000</td>    <th>  Jarque-Bera (JB):  </th> <td>24681320.306</td>\n",
       "</tr>\n",
       "<tr>\n",
       "  <th>Skew:</th>            <td> 1.337</td>    <th>  Prob(JB):          </th>   <td>    0.00</td>  \n",
       "</tr>\n",
       "<tr>\n",
       "  <th>Kurtosis:</th>        <td> 8.927</td>    <th>  Cond. No.          </th>   <td>1.49e+03</td>  \n",
       "</tr>\n",
       "</table>"
      ],
      "text/plain": [
       "<class 'statsmodels.iolib.summary.Summary'>\n",
       "\"\"\"\n",
       "                            OLS Regression Results                            \n",
       "==============================================================================\n",
       "Dep. Variable:         target_10_bins   R-squared:                       0.870\n",
       "Model:                            OLS   Adj. R-squared:                  0.870\n",
       "Method:                 Least Squares   F-statistic:                 9.402e+07\n",
       "Date:                Thu, 14 Jun 2018   Prob (F-statistic):               0.00\n",
       "Time:                        21:11:58   Log-Likelihood:            -2.0509e+07\n",
       "No. Observations:            14011203   AIC:                         4.102e+07\n",
       "Df Residuals:                14011201   BIC:                         4.102e+07\n",
       "Df Model:                           1                                         \n",
       "Covariance Type:            nonrobust                                         \n",
       "=======================================================================================\n",
       "                          coef    std err          t      P>|t|      [0.025      0.975]\n",
       "---------------------------------------------------------------------------------------\n",
       "Intercept               9.1928      0.000      2e+04      0.000       9.192       9.194\n",
       "player_survive_time    -0.0049   5.05e-07  -9696.135      0.000      -0.005      -0.005\n",
       "==============================================================================\n",
       "Omnibus:                  4245829.271   Durbin-Watson:                   1.799\n",
       "Prob(Omnibus):                  0.000   Jarque-Bera (JB):         24681320.306\n",
       "Skew:                           1.337   Prob(JB):                         0.00\n",
       "Kurtosis:                       8.927   Cond. No.                     1.49e+03\n",
       "==============================================================================\n",
       "\n",
       "Warnings:\n",
       "[1] Standard Errors assume that the covariance matrix of the errors is correctly specified.\n",
       "[2] The condition number is large, 1.49e+03. This might indicate that there are\n",
       "strong multicollinearity or other numerical problems.\n",
       "\"\"\""
      ]
     },
     "execution_count": 19,
     "metadata": {},
     "output_type": "execute_result"
    }
   ],
   "source": [
    "from statsmodels.formula.api import ols\n",
    "m = ols('target_10_bins~player_survive_time',f).fit()\n",
    "m.summary()"
   ]
  },
  {
   "cell_type": "code",
   "execution_count": 20,
   "metadata": {},
   "outputs": [
    {
     "data": {
      "image/png": "[encoded data removed]",
      "text/plain": [
       "<matplotlib.figure.Figure at 0x177b01ef630>"
      ]
     },
     "metadata": {},
     "output_type": "display_data"
    }
   ],
   "source": [
    "import numpy as np\n",
    "import matplotlib.pyplot as plt\n",
    "from sklearn import linear_model\n",
    "\n",
    "# import some data to play with\n",
    "X = f[['player_survive_time','player_kills']]  # we only take the first two features.\n",
    "Y = f.target_10_bins\n",
    "\n",
    "h = 1.0  # step size in the mesh\n",
    "\n",
    "logreg = linear_model.LogisticRegression(C=100)\n",
    "\n",
    "# we create an instance of Neighbours Classifier and fit the data.\n",
    "logreg.fit(X, Y)\n",
    "\n",
    "# Plot the decision boundary. For that, we will assign a color to each\n",
    "# point in the mesh [x_min, x_max]x[y_min, y_max].\n",
    "x_min, x_max = X.player_kills.min() - .5, X.player_kills.max() + .5\n",
    "y_min, y_max = X.player_kills.min() - .5, X.player_kills.max() + .5\n",
    "xx, yy = np.meshgrid(np.arange(x_min, x_max, h), np.arange(y_min, y_max, h))\n",
    "Z = logreg.predict(np.c_[xx.ravel(), yy.ravel()])\n",
    "\n",
    "# Put the result into a color plot\n",
    "Z = Z.reshape(xx.shape)\n",
    "plt.figure(1, figsize=(4, 3))\n",
    "plt.pcolormesh(xx, yy, Z, cmap=plt.cm.Paired)\n",
    "\n",
    "# Plot also the training points\n",
    "plt.scatter(X.iloc[:, 0], X.iloc[:, 1], c=Y, edgecolors='k', cmap=plt.cm.Paired)\n",
    "# plt.xlabel('Sepal length')\n",
    "# plt.ylabel('Sepal width')\n",
    "\n",
    "plt.xlim(xx.min(), xx.max())\n",
    "plt.ylim(yy.min(), yy.max())\n",
    "plt.xticks(())\n",
    "plt.yticks(())\n",
    "\n",
    "plt.show()"
   ]
  },
  {
   "cell_type": "code",
   "execution_count": 16,
   "metadata": {},
   "outputs": [],
   "source": [
    "from sklearn.model_selection import KFold\n",
    "from sklearn.metrics import accuracy_score\n",
    "\n",
    "def cv_score(clf, x, y, score_func=accuracy_score):\n",
    "    result = 0\n",
    "    nfold = 5\n",
    "    for train, test in KFold(nfold).split(x): # split data into train/test groups, 5 times\n",
    "        clf.fit(x[train], y[train]) # fit\n",
    "        result += score_func(clf.predict(x[test]), y[test]) # evaluate score function on held-out data\n",
    "    return result / nfold # average"
   ]
  },
  {
   "cell_type": "code",
   "execution_count": 17,
   "metadata": {},
   "outputs": [
    {
     "name": "stdout",
     "output_type": "stream",
     "text": [
      "0.9773564535618045\n"
     ]
    }
   ],
   "source": [
    "from sklearn.linear_model import LogisticRegression\n",
    "from sklearn.metrics import accuracy_score\n",
    "\n",
    "Xlr,Xtestlr,ylr,ytestlr = train_test_split(f[['player_dmg','player_survive_time','player_kills']].values,\n",
    "                                           (f.target_10_bins ==1).values,test_size=0.3,random_state=4)\n",
    "\n",
    "logreg = LogisticRegression()\n",
    "logreg.fit(Xlr,ylr)\n",
    "print(accuracy_score(logreg.predict(Xtestlr), ytestlr))"
   ]
  },
  {
   "cell_type": "code",
   "execution_count": 19,
   "metadata": {},
   "outputs": [
    {
     "name": "stdout",
     "output_type": "stream",
     "text": [
      "0.9773756551258792\n"
     ]
    }
   ],
   "source": [
    "clf = LogisticRegression()\n",
    "score = cv_score(clf, Xlr, ylr)\n",
    "print(score)"
   ]
  },
  {
   "cell_type": "code",
   "execution_count": 20,
   "metadata": {},
   "outputs": [
    {
     "name": "stdout",
     "output_type": "stream",
     "text": [
      "0.9768719765341572 0.001\n",
      "0.977375757085128 0.1\n",
      "0.9773756551258792 1\n",
      "0.9773759610036781 10\n",
      "0.9773763688406216 100\n",
      "Max Score: 0.9773763688406216 Best C: 100\n"
     ]
    }
   ],
   "source": [
    "Cs = [0.001, 0.1, 1, 10, 100]\n",
    "clf = LogisticRegression()\n",
    "# your turn\n",
    "from sklearn.linear_model import LogisticRegression\n",
    "max_score = 0\n",
    "for C in Cs:\n",
    "    clf = LogisticRegression(C=C)\n",
    "    score = cv_score(clf,Xlr,ylr)\n",
    "    print(score, C)\n",
    "    if score > max_score:\n",
    "        max_score = score\n",
    "        best_C = C\n",
    "print(\"Max Score:\",max_score, \"Best C:\", best_C)"
   ]
  },
  {
   "cell_type": "code",
   "execution_count": null,
   "metadata": {},
   "outputs": [],
   "source": []
  },
  {
   "cell_type": "code",
   "execution_count": 22,
   "metadata": {},
   "outputs": [
    {
     "data": {
      "image/png": "[encoded data removed]",
      "text/plain": [
       "<matplotlib.figure.Figure at 0x24b9e09f0f0>"
      ]
     },
     "metadata": {},
     "output_type": "display_data"
    }
   ],
   "source": [
    "from sklearn.metrics import roc_curve\n",
    "\n",
    "# Compute predicted probabilities: y_pred_prob\n",
    "y_pred_prob = logreg.predict_proba(Xtestlr)[:,1]\n",
    "\n",
    "# Generate ROC curve values: fpr, tpr, thresholds\n",
    "fpr, tpr, thresholds = roc_curve(ytestlr, y_pred_prob)\n",
    "\n",
    "# Plot ROC curve\n",
    "plt.plot([0, 1], [0, 1], 'k--')\n",
    "plt.plot(fpr, tpr)\n",
    "plt.xlabel('False Positive Rate')\n",
    "plt.ylabel('True Positive Rate')\n",
    "plt.title('ROC Curve')\n",
    "plt.show()"
   ]
  },
  {
   "cell_type": "code",
   "execution_count": 23,
   "metadata": {},
   "outputs": [
    {
     "data": {
      "text/plain": [
       "array([[2.000000e+01, 1.600017e+03, 1.000000e+00],\n",
       "       [5.700000e+01, 1.187935e+03, 0.000000e+00],\n",
       "       [0.000000e+00, 2.771430e+02, 0.000000e+00],\n",
       "       ...,\n",
       "       [2.610000e+02, 1.622733e+03, 2.000000e+00],\n",
       "       [3.000000e+02, 3.091500e+02, 2.000000e+00],\n",
       "       [1.150000e+02, 1.014256e+03, 1.000000e+00]])"
      ]
     },
     "execution_count": 23,
     "metadata": {},
     "output_type": "execute_result"
    }
   ],
   "source": [
    "Xtestlr"
   ]
  },
  {
   "cell_type": "code",
   "execution_count": 24,
   "metadata": {},
   "outputs": [],
   "source": [
    "import sklearn\n",
    "\n",
    "def cv_optimize(clf, parameters, Xtrain, ytrain, n_folds=5):\n",
    "    gs = sklearn.model_selection.GridSearchCV(clf, param_grid=parameters, cv=n_folds)\n",
    "    gs.fit(Xtrain, ytrain)\n",
    "    print(\"BEST PARAMS\", gs.best_params_)\n",
    "    best = gs.best_estimator_\n",
    "    return best\n",
    "\n",
    "def do_classify(clf, parameters, indf, featurenames, targetname, target1val, standardize=False, train_size=0.8):\n",
    "    subdf=indf[featurenames]\n",
    "    if standardize:\n",
    "        subdfstd=(subdf - subdf.mean())/subdf.std()\n",
    "    else:\n",
    "        subdfstd=subdf\n",
    "    X=subdfstd.values\n",
    "    y=(indf[targetname].values==target1val)*1\n",
    "    Xtrain, Xtest, ytrain, ytest = train_test_split(X, y, train_size=train_size)\n",
    "    clf = cv_optimize(clf, parameters, Xtrain, ytrain)\n",
    "    clf=clf.fit(Xtrain, ytrain)\n",
    "    training_accuracy = clf.score(Xtrain, ytrain)\n",
    "    test_accuracy = clf.score(Xtest, ytest)\n",
    "    print(\"Accuracy on training data: {:0.2f}\".format(training_accuracy))\n",
    "    print(\"Accuracy on test data:     {:0.2f}\".format(test_accuracy))\n",
    "    return clf, Xtrain, ytrain, Xtest, ytest"
   ]
  },
  {
   "cell_type": "code",
   "execution_count": 25,
   "metadata": {},
   "outputs": [
    {
     "name": "stderr",
     "output_type": "stream",
     "text": [
      "C:\\Users\\michael\\Anaconda3\\lib\\site-packages\\sklearn\\model_selection\\_split.py:2026: FutureWarning: From version 0.21, test_size will always complement train_size unless both are specified.\n",
      "  FutureWarning)\n"
     ]
    },
    {
     "name": "stdout",
     "output_type": "stream",
     "text": [
      "BEST PARAMS {'C': 0.001}\n",
      "Accuracy on training data: 0.99\n",
      "Accuracy on test data:     0.99\n"
     ]
    }
   ],
   "source": [
    "clf_l, Xtrain_l, ytrain_l, Xtest_l, ytest_l  = do_classify(LogisticRegression(), \n",
    "                                                           {\"C\": [0.001,0.01, 0.1, 1, 10, 100]}, \n",
    "                                                           f, ['team_placement','player_survive_time','player_kills'],\n",
    "                                                           'target_10_bins',1)"
   ]
  },
  {
   "cell_type": "code",
   "execution_count": null,
   "metadata": {},
   "outputs": [],
   "source": []
  },
  {
   "cell_type": "code",
   "execution_count": null,
   "metadata": {},
   "outputs": [],
   "source": []
  }
 ],
 "metadata": {
  "kernelspec": {
   "display_name": "Python 3",
   "language": "python",
   "name": "python3"
  },
  "language_info": {
   "codemirror_mode": {
    "name": "ipython",
    "version": 3
   },
   "file_extension": ".py",
   "mimetype": "text/x-python",
   "name": "python",
   "nbconvert_exporter": "python",
   "pygments_lexer": "ipython3",
   "version": "3.6.4"
  }
 },
 "nbformat": 4,
 "nbformat_minor": 2
}
