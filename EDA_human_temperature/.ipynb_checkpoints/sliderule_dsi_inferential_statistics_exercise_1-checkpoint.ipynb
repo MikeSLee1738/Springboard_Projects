{
 "cells": [
  {
   "cell_type": "markdown",
   "metadata": {},
   "source": [
    "# What is the True Normal Human Body Temperature? \n",
    "\n",
    "#### Background\n",
    "\n",
    "The mean normal body temperature was held to be 37$^{\\circ}$C or 98.6$^{\\circ}$F for more than 120 years since it was first conceptualized and reported by Carl Wunderlich in a famous 1868 book. But, is this value statistically correct?"
   ]
  },
  {
   "cell_type": "markdown",
   "metadata": {},
   "source": [
    "<h3>Exercises</h3>\n",
    "\n",
    "<p>In this exercise, you will analyze a dataset of human body temperatures and employ the concepts of hypothesis testing, confidence intervals, and statistical significance.</p>\n",
    "\n",
    "<p>Answer the following questions <b>in this notebook below and submit to your Github account</b>.</p> \n",
    "\n",
    "<ol>\n",
    "<li>  Is the distribution of body temperatures normal? \n",
    "    <ul>\n",
    "    <li> Although this is not a requirement for the Central Limit Theorem to hold (read the introduction on Wikipedia's page about the CLT carefully: https://en.wikipedia.org/wiki/Central_limit_theorem), it gives us some peace of mind that the population may also be normally distributed if we assume that this sample is representative of the population.\n",
    "    <li> Think about the way you're going to check for the normality of the distribution. Graphical methods are usually used first, but there are also other ways: https://en.wikipedia.org/wiki/Normality_test\n",
    "    </ul>\n",
    "<li>  Is the sample size large? Are the observations independent?\n",
    "    <ul>\n",
    "    <li> Remember that this is a condition for the Central Limit Theorem, and hence the statistical tests we are using, to apply.\n",
    "    </ul>\n",
    "<li>  Is the true population mean really 98.6 degrees F?\n",
    "    <ul>\n",
    "    <li> First, try a bootstrap hypothesis test.\n",
    "    <li> Now, let's try frequentist statistical testing. Would you use a one-sample or two-sample test? Why?\n",
    "    <li> In this situation, is it appropriate to use the $t$ or $z$ statistic? \n",
    "    <li> Now try using the other test. How is the result be different? Why?\n",
    "    </ul>\n",
    "<li>  Draw a small sample of size 10 from the data and repeat both frequentist tests. \n",
    "    <ul>\n",
    "    <li> Which one is the correct one to use? \n",
    "    <li> What do you notice? What does this tell you about the difference in application of the $t$ and $z$ statistic?\n",
    "    </ul>\n",
    "<li>  At what temperature should we consider someone's temperature to be \"abnormal\"?\n",
    "    <ul>\n",
    "    <li> As in the previous example, try calculating everything using the boostrap approach, as well as the frequentist approach.\n",
    "    <li> Start by computing the margin of error and confidence interval. When calculating the confidence interval, keep in mind that you should use the appropriate formula for one draw, and not N draws.\n",
    "    </ul>\n",
    "<li>  Is there a significant difference between males and females in normal temperature?\n",
    "    <ul>\n",
    "    <li> What testing approach did you use and why?\n",
    "    <li> Write a story with your conclusion in the context of the original problem.\n",
    "    </ul>\n",
    "</ol>\n",
    "\n",
    "You can include written notes in notebook cells using Markdown: \n",
    "   - In the control panel at the top, choose Cell > Cell Type > Markdown\n",
    "   - Markdown syntax: http://nestacms.com/docs/creating-content/markdown-cheat-sheet\n",
    "\n",
    "#### Resources\n",
    "\n",
    "+ Information and data sources: http://www.amstat.org/publications/jse/datasets/normtemp.txt, http://www.amstat.org/publications/jse/jse_data_archive.htm\n",
    "+ Markdown syntax: http://nestacms.com/docs/creating-content/markdown-cheat-sheet\n",
    "\n",
    "****"
   ]
  },
  {
   "cell_type": "code",
   "execution_count": 1,
   "metadata": {},
   "outputs": [],
   "source": [
    "import pandas as pd\n",
    "\n",
    "df = pd.read_csv('data/human_body_temperature.csv')"
   ]
  },
  {
   "cell_type": "code",
   "execution_count": 2,
   "metadata": {},
   "outputs": [
    {
     "data": {
      "text/plain": [
       "<matplotlib.figure.Figure at 0x2a182648668>"
      ]
     },
     "metadata": {},
     "output_type": "display_data"
    }
   ],
   "source": [
    "# Your work here.\n",
    "import seaborn as sns\n",
    "import matplotlib.pyplot as plt\n",
    "import numpy as np\n",
    "import scipy\n",
    "import scipy.stats\n",
    "plt.hist(df.temperature,bins=10,normed=True,histtype='step')\n",
    "plt.show()"
   ]
  },
  {
   "cell_type": "code",
   "execution_count": 3,
   "metadata": {},
   "outputs": [],
   "source": [
    "def ecdf(data):\n",
    "    n = len(data)\n",
    "    x= np.sort(data)\n",
    "    y = np.arange(1,n+1) / n\n",
    "    return x, y"
   ]
  },
  {
   "cell_type": "code",
   "execution_count": 4,
   "metadata": {},
   "outputs": [
    {
     "data": {
      "image/png": "[encoded data removed]",
      "text/plain": [
       "<matplotlib.figure.Figure at 0x2a1849defd0>"
      ]
     },
     "metadata": {},
     "output_type": "display_data"
    }
   ],
   "source": [
    "temp = df.temperature\n",
    "x,y = ecdf(df.temperature)\n",
    "plt.plot(x,y,marker='.',linestyle='none')\n",
    "plt.margins(0.02)\n",
    "plt.xlabel('temperature')\n",
    "plt.ylabel('ecdf')\n",
    "plt.show()"
   ]
  },
  {
   "cell_type": "code",
   "execution_count": 5,
   "metadata": {},
   "outputs": [
    {
     "name": "stdout",
     "output_type": "stream",
     "text": [
      "0.7303577789050377\n",
      "98.24923076923078\n"
     ]
    },
    {
     "data": {
      "image/png": "[encoded data removed]",
      "text/plain": [
       "<matplotlib.figure.Figure at 0x2a1847ec748>"
      ]
     },
     "metadata": {},
     "output_type": "display_data"
    }
   ],
   "source": [
    "temp_mean = df.temperature.mean()\n",
    "temp_std = np.std(df.temperature)\n",
    "print(temp_std)\n",
    "print(temp_mean)\n",
    "samples = np.random.normal(temp_mean,temp_std,10000)\n",
    "x_s,y_s = ecdf(samples)\n",
    "_=plt.plot(x_s,y_s)\n",
    "_=plt.plot(x,y,marker='.',linestyle='none')\n",
    "plt.show()"
   ]
  },
  {
   "cell_type": "markdown",
   "metadata": {},
   "source": [
    "The graph for the empirical cumulative distribution function of the sample data closely matches the normal ECDF with the same mean and standard deviation so it is safe to assume that the data follows the normal distribution. This also implies, according to the Cantral Limit Theorem that since it follows the normal distribution, each sample is independent and the sample size is large enough."
   ]
  },
  {
   "cell_type": "code",
   "execution_count": 6,
   "metadata": {},
   "outputs": [],
   "source": [
    "def bootstrap_replicate_1d(data,func):\n",
    "    return func(np.random.choice(data,size=len(data)))\n",
    "\n",
    "def draw_bs_reps(data,func,size=1):\n",
    "    bs_replicates = np.empty(size)\n",
    "    for i in range(size):\n",
    "        bs_replicates[i] = bootstrap_replicate_1d(data,func)\n",
    "    return bs_replicates\n",
    "\n",
    "def permutation_sample(data1,data2):\n",
    "    data = np.concatenate((data1,data2))\n",
    "    permuted_data = np.random.permutation(data)\n",
    "    perm_sample_1 = permuted_data[:len(data1)]\n",
    "    perm_sample_2 = permuted_data[len(data1):]\n",
    "    return perm_sample_1,perm_sample_2\n",
    "\n",
    "def draw_perm_reps(data_1,data_2,func,size=1):\n",
    "    perm_replicates = np.empty(size)\n",
    "    \n",
    "    for i in range(size):\n",
    "        perm_sample_1,perm_sample_2 = permutation_sample(data_1,data_2)\n",
    "        perm_replicates[i] = func(perm_sample_1,perm_sample_2)\n",
    "    return perm_replicates"
   ]
  },
  {
   "cell_type": "markdown",
   "metadata": {},
   "source": [
    "Null hypothesis: Population mean of 98.6 is equal to the sample mean\n",
    "Alternative hypothesis: Population mean is not equal to the sample mean"
   ]
  },
  {
   "cell_type": "code",
   "execution_count": 7,
   "metadata": {},
   "outputs": [
    {
     "name": "stdout",
     "output_type": "stream",
     "text": [
      "0.0\n"
     ]
    }
   ],
   "source": [
    "bootstrap_replicates = np.empty(100000)\n",
    "size = len(bootstrap_replicates)\n",
    "for i in range(size):\n",
    "    bootstrap_sample = np.random.choice(temp,size=len(temp))\n",
    "    bootstrap_replicates[i] = np.mean(bootstrap_sample)\n",
    "p = np.sum(bootstrap_replicates >= 98.6) / len(bootstrap_replicates)\n",
    "print(p)"
   ]
  },
  {
   "cell_type": "markdown",
   "metadata": {},
   "source": [
    "Since p value is zero, the null hypothesis is rejected. A one sample was used because there was not another sample given with the population mean. Since it is assumed that the population and sample data both follow the normal ditribution, it is acceptable to use the sample data's distribution and translate it to the population mean in order to test it."
   ]
  },
  {
   "cell_type": "markdown",
   "metadata": {},
   "source": [
    "The t-test would be better to use since we do not know the standard deviation of the population and also because we have only one sample of data. "
   ]
  },
  {
   "cell_type": "code",
   "execution_count": 8,
   "metadata": {},
   "outputs": [
    {
     "data": {
      "text/plain": [
       "Ttest_1sampResult(statistic=-5.4548232923645195, pvalue=2.4106320415561276e-07)"
      ]
     },
     "execution_count": 8,
     "metadata": {},
     "output_type": "execute_result"
    }
   ],
   "source": [
    "from scipy import stats\n",
    "t = scipy.stats.ttest_1samp(temp,98.6)\n",
    "t"
   ]
  },
  {
   "cell_type": "markdown",
   "metadata": {},
   "source": [
    "t test shows that the population mean and sample mean are significantly different from each other."
   ]
  },
  {
   "cell_type": "code",
   "execution_count": 9,
   "metadata": {},
   "outputs": [
    {
     "data": {
      "text/plain": [
       "-5.475925202078116"
      ]
     },
     "execution_count": 9,
     "metadata": {},
     "output_type": "execute_result"
    }
   ],
   "source": [
    "z = (temp_mean-98.6)/(temp_std/(130**0.5))\n",
    "z"
   ]
  },
  {
   "cell_type": "markdown",
   "metadata": {},
   "source": [
    "The z score also shows that the population temperature mean is significantly different from the sample mean."
   ]
  },
  {
   "cell_type": "code",
   "execution_count": 10,
   "metadata": {},
   "outputs": [
    {
     "data": {
      "text/plain": [
       "array([98.4, 98.6, 98.4, 97.4, 99.1, 97.6, 98.6, 97.1, 98.6, 98.8])"
      ]
     },
     "execution_count": 10,
     "metadata": {},
     "output_type": "execute_result"
    }
   ],
   "source": [
    "ten = np.random.choice(temp,size=10)\n",
    "ten"
   ]
  },
  {
   "cell_type": "code",
   "execution_count": 11,
   "metadata": {},
   "outputs": [
    {
     "name": "stdout",
     "output_type": "stream",
     "text": [
      "0.0384\n"
     ]
    }
   ],
   "source": [
    "bs_rep = np.empty(10000)\n",
    "bs_size = len(bs_rep)\n",
    "for i in range(bs_size):\n",
    "    bootstrap_sample = np.random.choice(ten,size=len(ten))\n",
    "    bs_rep[i] = np.mean(bootstrap_sample)\n",
    "p_ten = np.sum(bs_rep >= 98.6) / len(bs_rep)\n",
    "print(p_ten)"
   ]
  },
  {
   "cell_type": "code",
   "execution_count": 12,
   "metadata": {},
   "outputs": [
    {
     "data": {
      "text/plain": [
       "Ttest_1sampResult(statistic=-1.6324702191443738, pvalue=0.13701504113451157)"
      ]
     },
     "execution_count": 12,
     "metadata": {},
     "output_type": "execute_result"
    }
   ],
   "source": [
    "t_ten = scipy.stats.ttest_1samp(ten,98.6)\n",
    "t_ten"
   ]
  },
  {
   "cell_type": "code",
   "execution_count": 13,
   "metadata": {},
   "outputs": [
    {
     "data": {
      "text/plain": [
       "-1.720774701630144"
      ]
     },
     "execution_count": 13,
     "metadata": {},
     "output_type": "execute_result"
    }
   ],
   "source": [
    "z_ten = (ten.mean() - 98.6)/ (ten.std()/(10**0.5))\n",
    "z_ten"
   ]
  },
  {
   "cell_type": "markdown",
   "metadata": {},
   "source": [
    "The p-value for the bootstrap test is within my confidence interval of 95 percent, which means that the null htpyothesis failed to be rejected.\n",
    "The t-test and z-test for the sample size of 10 both show that the null hypothesis that the population mean is equal to the sample mean failed to be rejected. The difference in value between the t and z test shows that their distributions increase in variation as the sample size decreases.\n",
    "The correct test to use it the t-test since we are using a small smple size, and the t-test is designed for use with smaller sample sizes."
   ]
  },
  {
   "cell_type": "code",
   "execution_count": 14,
   "metadata": {},
   "outputs": [
    {
     "data": {
      "text/plain": [
       "array([98.12384615, 98.37461538])"
      ]
     },
     "execution_count": 14,
     "metadata": {},
     "output_type": "execute_result"
    }
   ],
   "source": [
    "t_bs = draw_bs_reps(temp,np.mean,100000)\n",
    "confidence_interval = np.percentile(t_bs,[2.5,97.5])\n",
    "confidence_interval"
   ]
  },
  {
   "cell_type": "code",
   "execution_count": 19,
   "metadata": {},
   "outputs": [
    {
     "name": "stdout",
     "output_type": "stream",
     "text": [
      "Z Confidence Interval:  [96.8177295225769, 99.68073201588466]\n",
      "Z Margin of Error: 1.431501246653874\n",
      "T Confidence Interval:  [96.80020093588318, 99.69826060257837]\n",
      "T Margin of Error: 1.4490298333475948\n"
     ]
    }
   ],
   "source": [
    "z_norm_ci = [temp_mean - (1.96 * temp_std), temp_mean + (1.96 * temp_std)]\n",
    "print(\"Z Confidence Interval: \",z_norm_ci)\n",
    "z_me = 1.96 * temp_std\n",
    "print(\"Z Margin of Error:\",z_me)\n",
    "t_norm_ci = [temp_mean - (1.984 * temp_std), temp_mean + (1.984 * temp_std)]\n",
    "print(\"T Confidence Interval: \",t_norm_ci)\n",
    "t_me = 1.984 * temp_std\n",
    "print(\"T Margin of Error:\", t_me)"
   ]
  },
  {
   "cell_type": "markdown",
   "metadata": {},
   "source": [
    "These intervals for normal temperature is derived using a 95 percent confidence interval."
   ]
  },
  {
   "cell_type": "code",
   "execution_count": 24,
   "metadata": {},
   "outputs": [
    {
     "name": "stdout",
     "output_type": "stream",
     "text": [
      "98.39384615384613\n",
      "0.7377464486428966\n",
      "98.1046153846154\n",
      "0.6933598841828696\n"
     ]
    }
   ],
   "source": [
    "temp_f = df.temperature[df.gender == 'F']\n",
    "temp_m = df.temperature[df.gender == 'M']\n",
    "temp_f_mean = np.mean(temp_f)\n",
    "temp_f_std = np.std(temp_f)\n",
    "temp_m_mean = np.mean(temp_m)\n",
    "temp_m_std = np.std(temp_m)\n",
    "print(temp_f_mean)\n",
    "print(temp_f_std)\n",
    "print(temp_m_mean)\n",
    "print(temp_m_std)"
   ]
  },
  {
   "cell_type": "code",
   "execution_count": 26,
   "metadata": {},
   "outputs": [
    {
     "name": "stdout",
     "output_type": "stream",
     "text": [
      "Z Male Normal Temperature Interval: [96.74563001161698, 99.46360075761382]\n",
      "Z Female Normal Temperature Interval: [96.94786311450605, 99.8398291931862]\n"
     ]
    }
   ],
   "source": [
    "zm_ci = [temp_m_mean - (1.96*temp_m_std),temp_m_mean + (1.96*temp_m_std)]\n",
    "print(\"Z Male Normal Temperature Interval:\",zm_ci)\n",
    "zf_ci = [temp_f_mean - (1.96*temp_f_std),temp_f_mean + (1.96*temp_f_std)]\n",
    "print(\"Z Female Normal Temperature Interval:\",zf_ci)"
   ]
  },
  {
   "cell_type": "markdown",
   "metadata": {},
   "source": [
    "The female and male normal temperature confidence intervals were made using the z-score because since the entire sample follows the normal distribution, even if it is split by gender it should still be safe to assume that they both are normal. "
   ]
  },
  {
   "cell_type": "markdown",
   "metadata": {},
   "source": []
  }
 ],
 "metadata": {
  "kernelspec": {
   "display_name": "Python 3",
   "language": "python",
   "name": "python3"
  },
  "language_info": {
   "codemirror_mode": {
    "name": "ipython",
    "version": 3
   },
   "file_extension": ".py",
   "mimetype": "text/x-python",
   "name": "python",
   "nbconvert_exporter": "python",
   "pygments_lexer": "ipython3",
   "version": "3.6.4"
  }
 },
 "nbformat": 4,
 "nbformat_minor": 1
}
