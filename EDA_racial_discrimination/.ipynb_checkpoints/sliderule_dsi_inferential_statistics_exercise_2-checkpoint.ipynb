{
 "cells": [
  {
   "cell_type": "markdown",
   "metadata": {},
   "source": [
    "# Examining Racial Discrimination in the US Job Market\n",
    "\n",
    "### Background\n",
    "Racial discrimination continues to be pervasive in cultures throughout the world. Researchers examined the level of racial discrimination in the United States labor market by randomly assigning identical résumés to black-sounding or white-sounding names and observing the impact on requests for interviews from employers.\n",
    "\n",
    "### Data\n",
    "In the dataset provided, each row represents a resume. The 'race' column has two values, 'b' and 'w', indicating black-sounding and white-sounding. The column 'call' has two values, 1 and 0, indicating whether the resume received a call from employers or not.\n",
    "\n",
    "Note that the 'b' and 'w' values in race are assigned randomly to the resumes when presented to the employer."
   ]
  },
  {
   "cell_type": "markdown",
   "metadata": {},
   "source": [
    "<div class=\"span5 alert alert-info\">\n",
    "### Exercises\n",
    "You will perform a statistical analysis to establish whether race has a significant impact on the rate of callbacks for resumes.\n",
    "\n",
    "Answer the following questions **in this notebook below and submit to your Github account**. \n",
    "\n",
    "   1. What test is appropriate for this problem? Does CLT apply?\n",
    "   2. What are the null and alternate hypotheses?\n",
    "   3. Compute margin of error, confidence interval, and p-value. Try using both the bootstrapping and the frequentist statistical approaches.\n",
    "   4. Write a story describing the statistical significance in the context or the original problem.\n",
    "   5. Does your analysis mean that race/name is the most important factor in callback success? Why or why not? If not, how would you amend your analysis?\n",
    "\n",
    "You can include written notes in notebook cells using Markdown: \n",
    "   - In the control panel at the top, choose Cell > Cell Type > Markdown\n",
    "   - Markdown syntax: http://nestacms.com/docs/creating-content/markdown-cheat-sheet\n",
    "\n",
    "\n",
    "#### Resources\n",
    "+ Experiment information and data source: http://www.povertyactionlab.org/evaluation/discrimination-job-market-united-states\n",
    "+ Scipy statistical methods: http://docs.scipy.org/doc/scipy/reference/stats.html \n",
    "+ Markdown syntax: http://nestacms.com/docs/creating-content/markdown-cheat-sheet\n",
    "+ Formulas for the Bernoulli distribution: https://en.wikipedia.org/wiki/Bernoulli_distribution\n",
    "</div>\n",
    "****"
   ]
  },
  {
   "cell_type": "code",
   "execution_count": 1,
   "metadata": {},
   "outputs": [],
   "source": [
    "import pandas as pd\n",
    "import numpy as np\n",
    "from scipy import stats"
   ]
  },
  {
   "cell_type": "code",
   "execution_count": 2,
   "metadata": {},
   "outputs": [],
   "source": [
    "data = pd.io.stata.read_stata('data/us_job_market_discrimination.dta')"
   ]
  },
  {
   "cell_type": "code",
   "execution_count": 3,
   "metadata": {},
   "outputs": [
    {
     "data": {
      "text/plain": [
       "235.0"
      ]
     },
     "execution_count": 3,
     "metadata": {},
     "output_type": "execute_result"
    }
   ],
   "source": [
    "# number of callbacks for black-sounding names\n",
    "sum(data[data.race=='w'].call)"
   ]
  },
  {
   "cell_type": "code",
   "execution_count": 4,
   "metadata": {},
   "outputs": [
    {
     "data": {
      "text/html": [
       "<div>\n",
       "<style scoped>\n",
       "    .dataframe tbody tr th:only-of-type {\n",
       "        vertical-align: middle;\n",
       "    }\n",
       "\n",
       "    .dataframe tbody tr th {\n",
       "        vertical-align: top;\n",
       "    }\n",
       "\n",
       "    .dataframe thead th {\n",
       "        text-align: right;\n",
       "    }\n",
       "</style>\n",
       "<table border=\"1\" class=\"dataframe\">\n",
       "  <thead>\n",
       "    <tr style=\"text-align: right;\">\n",
       "      <th></th>\n",
       "      <th>id</th>\n",
       "      <th>ad</th>\n",
       "      <th>education</th>\n",
       "      <th>ofjobs</th>\n",
       "      <th>yearsexp</th>\n",
       "      <th>honors</th>\n",
       "      <th>volunteer</th>\n",
       "      <th>military</th>\n",
       "      <th>empholes</th>\n",
       "      <th>occupspecific</th>\n",
       "      <th>...</th>\n",
       "      <th>compreq</th>\n",
       "      <th>orgreq</th>\n",
       "      <th>manuf</th>\n",
       "      <th>transcom</th>\n",
       "      <th>bankreal</th>\n",
       "      <th>trade</th>\n",
       "      <th>busservice</th>\n",
       "      <th>othservice</th>\n",
       "      <th>missind</th>\n",
       "      <th>ownership</th>\n",
       "    </tr>\n",
       "  </thead>\n",
       "  <tbody>\n",
       "    <tr>\n",
       "      <th>0</th>\n",
       "      <td>b</td>\n",
       "      <td>1</td>\n",
       "      <td>4</td>\n",
       "      <td>2</td>\n",
       "      <td>6</td>\n",
       "      <td>0</td>\n",
       "      <td>0</td>\n",
       "      <td>0</td>\n",
       "      <td>1</td>\n",
       "      <td>17</td>\n",
       "      <td>...</td>\n",
       "      <td>1.0</td>\n",
       "      <td>0.0</td>\n",
       "      <td>1.0</td>\n",
       "      <td>0.0</td>\n",
       "      <td>0.0</td>\n",
       "      <td>0.0</td>\n",
       "      <td>0.0</td>\n",
       "      <td>0.0</td>\n",
       "      <td>0.0</td>\n",
       "      <td></td>\n",
       "    </tr>\n",
       "    <tr>\n",
       "      <th>1</th>\n",
       "      <td>b</td>\n",
       "      <td>1</td>\n",
       "      <td>3</td>\n",
       "      <td>3</td>\n",
       "      <td>6</td>\n",
       "      <td>0</td>\n",
       "      <td>1</td>\n",
       "      <td>1</td>\n",
       "      <td>0</td>\n",
       "      <td>316</td>\n",
       "      <td>...</td>\n",
       "      <td>1.0</td>\n",
       "      <td>0.0</td>\n",
       "      <td>1.0</td>\n",
       "      <td>0.0</td>\n",
       "      <td>0.0</td>\n",
       "      <td>0.0</td>\n",
       "      <td>0.0</td>\n",
       "      <td>0.0</td>\n",
       "      <td>0.0</td>\n",
       "      <td></td>\n",
       "    </tr>\n",
       "    <tr>\n",
       "      <th>2</th>\n",
       "      <td>b</td>\n",
       "      <td>1</td>\n",
       "      <td>4</td>\n",
       "      <td>1</td>\n",
       "      <td>6</td>\n",
       "      <td>0</td>\n",
       "      <td>0</td>\n",
       "      <td>0</td>\n",
       "      <td>0</td>\n",
       "      <td>19</td>\n",
       "      <td>...</td>\n",
       "      <td>1.0</td>\n",
       "      <td>0.0</td>\n",
       "      <td>1.0</td>\n",
       "      <td>0.0</td>\n",
       "      <td>0.0</td>\n",
       "      <td>0.0</td>\n",
       "      <td>0.0</td>\n",
       "      <td>0.0</td>\n",
       "      <td>0.0</td>\n",
       "      <td></td>\n",
       "    </tr>\n",
       "    <tr>\n",
       "      <th>3</th>\n",
       "      <td>b</td>\n",
       "      <td>1</td>\n",
       "      <td>3</td>\n",
       "      <td>4</td>\n",
       "      <td>6</td>\n",
       "      <td>0</td>\n",
       "      <td>1</td>\n",
       "      <td>0</td>\n",
       "      <td>1</td>\n",
       "      <td>313</td>\n",
       "      <td>...</td>\n",
       "      <td>1.0</td>\n",
       "      <td>0.0</td>\n",
       "      <td>1.0</td>\n",
       "      <td>0.0</td>\n",
       "      <td>0.0</td>\n",
       "      <td>0.0</td>\n",
       "      <td>0.0</td>\n",
       "      <td>0.0</td>\n",
       "      <td>0.0</td>\n",
       "      <td></td>\n",
       "    </tr>\n",
       "    <tr>\n",
       "      <th>4</th>\n",
       "      <td>b</td>\n",
       "      <td>1</td>\n",
       "      <td>3</td>\n",
       "      <td>3</td>\n",
       "      <td>22</td>\n",
       "      <td>0</td>\n",
       "      <td>0</td>\n",
       "      <td>0</td>\n",
       "      <td>0</td>\n",
       "      <td>313</td>\n",
       "      <td>...</td>\n",
       "      <td>1.0</td>\n",
       "      <td>1.0</td>\n",
       "      <td>0.0</td>\n",
       "      <td>0.0</td>\n",
       "      <td>0.0</td>\n",
       "      <td>0.0</td>\n",
       "      <td>0.0</td>\n",
       "      <td>1.0</td>\n",
       "      <td>0.0</td>\n",
       "      <td>Nonprofit</td>\n",
       "    </tr>\n",
       "  </tbody>\n",
       "</table>\n",
       "<p>5 rows × 65 columns</p>\n",
       "</div>"
      ],
      "text/plain": [
       "  id ad  education  ofjobs  yearsexp  honors  volunteer  military  empholes  \\\n",
       "0  b  1          4       2         6       0          0         0         1   \n",
       "1  b  1          3       3         6       0          1         1         0   \n",
       "2  b  1          4       1         6       0          0         0         0   \n",
       "3  b  1          3       4         6       0          1         0         1   \n",
       "4  b  1          3       3        22       0          0         0         0   \n",
       "\n",
       "   occupspecific    ...      compreq  orgreq  manuf  transcom  bankreal trade  \\\n",
       "0             17    ...          1.0     0.0    1.0       0.0       0.0   0.0   \n",
       "1            316    ...          1.0     0.0    1.0       0.0       0.0   0.0   \n",
       "2             19    ...          1.0     0.0    1.0       0.0       0.0   0.0   \n",
       "3            313    ...          1.0     0.0    1.0       0.0       0.0   0.0   \n",
       "4            313    ...          1.0     1.0    0.0       0.0       0.0   0.0   \n",
       "\n",
       "  busservice othservice  missind  ownership  \n",
       "0        0.0        0.0      0.0             \n",
       "1        0.0        0.0      0.0             \n",
       "2        0.0        0.0      0.0             \n",
       "3        0.0        0.0      0.0             \n",
       "4        0.0        1.0      0.0  Nonprofit  \n",
       "\n",
       "[5 rows x 65 columns]"
      ]
     },
     "execution_count": 4,
     "metadata": {},
     "output_type": "execute_result"
    }
   ],
   "source": [
    "data.head()"
   ]
  },
  {
   "cell_type": "markdown",
   "metadata": {
    "collapsed": true
   },
   "source": [
    "# Question 1\n",
    "The variables that are used can only be either 1 value or another, making them binomial. Although this means that they follow the binomial distribution, the binomial distribution is similar enough to the normal distribution that the Central Limit Theorem is still applicable. The t-test will be most useful"
   ]
  },
  {
   "cell_type": "markdown",
   "metadata": {},
   "source": [
    "# Question 2\n",
    "Null hypothesis: p_w = p_b\n",
    "\n",
    "Alternate hypothesis: P(call=1 | race=b) =/= P(call=1 | race=w)"
   ]
  },
  {
   "cell_type": "code",
   "execution_count": 5,
   "metadata": {},
   "outputs": [
    {
     "name": "stdout",
     "output_type": "stream",
     "text": [
      "     race  call\n",
      "0       w   0.0\n",
      "1       w   0.0\n",
      "4       w   0.0\n",
      "5       w   0.0\n",
      "6       w   0.0\n",
      "11      w   0.0\n",
      "13      w   0.0\n",
      "15      w   0.0\n",
      "16      w   0.0\n",
      "18      w   0.0\n",
      "21      w   0.0\n",
      "22      w   0.0\n",
      "23      w   0.0\n",
      "24      w   0.0\n",
      "27      w   0.0\n",
      "30      w   0.0\n",
      "32      w   0.0\n",
      "34      w   0.0\n",
      "35      w   0.0\n",
      "39      w   0.0\n",
      "40      w   0.0\n",
      "42      w   0.0\n",
      "43      w   0.0\n",
      "46      w   0.0\n",
      "48      w   0.0\n",
      "51      w   0.0\n",
      "52      w   0.0\n",
      "54      w   0.0\n",
      "56      w   0.0\n",
      "58      w   0.0\n",
      "...   ...   ...\n",
      "4811    w   0.0\n",
      "4813    w   0.0\n",
      "4814    w   0.0\n",
      "4816    w   0.0\n",
      "4817    w   0.0\n",
      "4819    w   0.0\n",
      "4822    w   0.0\n",
      "4824    w   0.0\n",
      "4826    w   1.0\n",
      "4829    w   1.0\n",
      "4830    w   0.0\n",
      "4831    w   0.0\n",
      "4834    w   0.0\n",
      "4836    w   0.0\n",
      "4838    w   0.0\n",
      "4839    w   0.0\n",
      "4843    w   1.0\n",
      "4845    w   0.0\n",
      "4846    w   1.0\n",
      "4847    w   1.0\n",
      "4851    w   0.0\n",
      "4852    w   0.0\n",
      "4854    w   0.0\n",
      "4855    w   0.0\n",
      "4860    w   0.0\n",
      "4861    w   1.0\n",
      "4862    w   0.0\n",
      "4863    w   0.0\n",
      "4867    w   0.0\n",
      "4869    w   0.0\n",
      "\n",
      "[2435 rows x 2 columns]\n",
      "     race  call\n",
      "2       b   0.0\n",
      "3       b   0.0\n",
      "7       b   0.0\n",
      "8       b   0.0\n",
      "9       b   0.0\n",
      "10      b   0.0\n",
      "12      b   0.0\n",
      "14      b   0.0\n",
      "17      b   0.0\n",
      "19      b   0.0\n",
      "20      b   0.0\n",
      "25      b   0.0\n",
      "26      b   0.0\n",
      "28      b   0.0\n",
      "29      b   0.0\n",
      "31      b   0.0\n",
      "33      b   0.0\n",
      "36      b   0.0\n",
      "37      b   0.0\n",
      "38      b   0.0\n",
      "41      b   0.0\n",
      "44      b   0.0\n",
      "45      b   0.0\n",
      "47      b   0.0\n",
      "49      b   0.0\n",
      "50      b   0.0\n",
      "53      b   0.0\n",
      "55      b   0.0\n",
      "57      b   0.0\n",
      "59      b   0.0\n",
      "...   ...   ...\n",
      "4808    b   0.0\n",
      "4812    b   0.0\n",
      "4815    b   0.0\n",
      "4818    b   0.0\n",
      "4820    b   0.0\n",
      "4821    b   0.0\n",
      "4823    b   0.0\n",
      "4825    b   0.0\n",
      "4827    b   0.0\n",
      "4828    b   0.0\n",
      "4832    b   0.0\n",
      "4833    b   0.0\n",
      "4835    b   0.0\n",
      "4837    b   0.0\n",
      "4840    b   0.0\n",
      "4841    b   0.0\n",
      "4842    b   0.0\n",
      "4844    b   0.0\n",
      "4848    b   1.0\n",
      "4849    b   0.0\n",
      "4850    b   0.0\n",
      "4853    b   0.0\n",
      "4856    b   0.0\n",
      "4857    b   0.0\n",
      "4858    b   0.0\n",
      "4859    b   1.0\n",
      "4864    b   0.0\n",
      "4865    b   0.0\n",
      "4866    b   0.0\n",
      "4868    b   0.0\n",
      "\n",
      "[2435 rows x 2 columns]\n"
     ]
    }
   ],
   "source": [
    "w = data[data.race=='w'][['race','call']]\n",
    "b = data[data.race=='b'][['race','call']]\n",
    "print(w)\n",
    "print(b)"
   ]
  },
  {
   "cell_type": "markdown",
   "metadata": {},
   "source": [
    "# Question 3\n",
    "## Frequentist Testing"
   ]
  },
  {
   "cell_type": "code",
   "execution_count": 6,
   "metadata": {},
   "outputs": [
    {
     "name": "stdout",
     "output_type": "stream",
     "text": [
      "2435\n",
      "235.0\n",
      "0.09650924024640657\n",
      "157.0\n",
      "2435\n",
      "0.06447638603696099\n"
     ]
    }
   ],
   "source": [
    "# Your solution to Q3 here\n",
    "w_total = w.call.count()\n",
    "print(w_total)\n",
    "w_called = w.call.sum()\n",
    "print(w_called)\n",
    "p_call_w = w_called/w_total\n",
    "print(p_call_w)\n",
    "b_called = b.call.sum()\n",
    "print(b_called)\n",
    "b_total = b.call.count()\n",
    "print(b_total)\n",
    "p_call_b = b_called/b_total\n",
    "print(p_call_b)"
   ]
  },
  {
   "cell_type": "code",
   "execution_count": 7,
   "metadata": {},
   "outputs": [
    {
     "name": "stdout",
     "output_type": "stream",
     "text": [
      "2.4771737856498466e-05\n",
      "3.580911983304638e-05\n"
     ]
    }
   ],
   "source": [
    "b_var = p_call_b * (1-p_call_b) / b_total\n",
    "print(b_var)\n",
    "w_var = p_call_w * (1-p_call_w) / w_total\n",
    "print(w_var)"
   ]
  },
  {
   "cell_type": "code",
   "execution_count": 8,
   "metadata": {},
   "outputs": [
    {
     "name": "stdout",
     "output_type": "stream",
     "text": [
      "6.058085768954485e-05 0.0077833705866767544\n"
     ]
    }
   ],
   "source": [
    "var= b_var + w_var\n",
    "std = np.sqrt(var)\n",
    "print(var,std)"
   ]
  },
  {
   "cell_type": "code",
   "execution_count": 9,
   "metadata": {},
   "outputs": [
    {
     "name": "stdout",
     "output_type": "stream",
     "text": [
      "Margin of Error:  0.015255406349886438\n",
      "Confidence Interval:  [0.016777447859559147, 0.047288260559332024]\n"
     ]
    }
   ],
   "source": [
    "# confidence interval of 95%\n",
    "marg_err = 1.96 * std\n",
    "print(\"Margin of Error: \", marg_err)\n",
    "conf_int = [abs(p_call_b-p_call_w)-marg_err,abs(p_call_b-p_call_w)+marg_err]\n",
    "print(\"Confidence Interval: \",conf_int)\n"
   ]
  },
  {
   "cell_type": "code",
   "execution_count": 10,
   "metadata": {},
   "outputs": [
    {
     "name": "stdout",
     "output_type": "stream",
     "text": [
      "Degrees of Freedom: 4713.53819343226\n",
      "p value: 3.9285451158654165e-05\n"
     ]
    }
   ],
   "source": [
    "b_1 = b_var/b_total\n",
    "w_1 = w_var/w_total\n",
    "deg_free = ((b_1+w_1)**2) / ((b_1**2)/b_total + (w_1**2)/w_total)\n",
    "print(\"Degrees of Freedom:\",deg_free)\n",
    "t = (p_call_b-p_call_w)/std\n",
    "p_value = stats.t.sf(np.abs(t),deg_free) * 2\n",
    "print(\"p value:\", p_value)"
   ]
  },
  {
   "cell_type": "code",
   "execution_count": 11,
   "metadata": {},
   "outputs": [
    {
     "data": {
      "text/plain": [
       "Ttest_indResult(statistic=-4.114705290861751, pvalue=3.942941513645935e-05)"
      ]
     },
     "execution_count": 11,
     "metadata": {},
     "output_type": "execute_result"
    }
   ],
   "source": [
    "stats.ttest_ind(b.call,w.call,equal_var=False)"
   ]
  },
  {
   "cell_type": "markdown",
   "metadata": {},
   "source": [
    "## Bootstrap Testing"
   ]
  },
  {
   "cell_type": "code",
   "execution_count": 15,
   "metadata": {},
   "outputs": [
    {
     "name": "stdout",
     "output_type": "stream",
     "text": [
      "p = 3e-05\n"
     ]
    }
   ],
   "source": [
    "permutation_replicates = np.empty(100000)\n",
    "\n",
    "white = data[data.race == 'w'].call.values\n",
    "black = data[data.race == 'b'].call.values\n",
    "diff_of_means = np.mean(white) - np.mean(black)\n",
    "\n",
    "for i in range(len(permutation_replicates)):\n",
    "    permutation_samples = np.random.permutation(np.concatenate((white, black)))\n",
    "\n",
    "    white_perm = permutation_samples[:len(white)]\n",
    "    black_perm = permutation_samples[len(white):]\n",
    "\n",
    "    permutation_replicates[i] = np.abs(np.mean(white_perm) - np.mean(black_perm))\n",
    "\n",
    "p = np.sum(permutation_replicates > diff_of_means) / len(permutation_replicates)\n",
    "print('p =', p)\n"
   ]
  },
  {
   "cell_type": "code",
   "execution_count": null,
   "metadata": {},
   "outputs": [],
   "source": []
  },
  {
   "cell_type": "markdown",
   "metadata": {},
   "source": [
    "# Question 4\n",
    "Since the p value is so small, this means that there is very little chance that the difference between callbacks for white and black people is done by coincidence or by chance. This means that there is very good reason to believe that the difference is due to discrimination of race by employers when deciding who they should hire."
   ]
  },
  {
   "cell_type": "markdown",
   "metadata": {},
   "source": [
    "# Question 5\n",
    "The analysis shows that race plays a very important factor for callbacks from an employer because the p value is so low. This analysis can be more accurate if it takes into account other factors such as relevant experience, and recommendations from previous employers."
   ]
  },
  {
   "cell_type": "code",
   "execution_count": null,
   "metadata": {},
   "outputs": [],
   "source": []
  },
  {
   "cell_type": "code",
   "execution_count": null,
   "metadata": {},
   "outputs": [],
   "source": []
  }
 ],
 "metadata": {
  "kernelspec": {
   "display_name": "Python 3",
   "language": "python",
   "name": "python3"
  },
  "language_info": {
   "codemirror_mode": {
    "name": "ipython",
    "version": 3
   },
   "file_extension": ".py",
   "mimetype": "text/x-python",
   "name": "python",
   "nbconvert_exporter": "python",
   "pygments_lexer": "ipython3",
   "version": "3.6.4"
  }
 },
 "nbformat": 4,
 "nbformat_minor": 1
}
